{
 "cells": [
  {
   "cell_type": "markdown",
   "metadata": {},
   "source": [
    "# Base Learners\n",
    "\n",
    "Julian Domingo - jad5348\n",
    "\n",
    "This file contains my process for training my base learners and meta learner to predict the probability values for the target value **Y**."
   ]
  },
  {
   "cell_type": "code",
   "execution_count": 89,
   "metadata": {},
   "outputs": [],
   "source": [
    "# Computation / Data Analysis stuff\n",
    "import numpy as np\n",
    "import pandas as pd\n",
    "from scipy.stats import skew, probplot, norm, uniform, randint\n",
    "from scipy.special import boxcox1p\n",
    "\n",
    "# Modeling stuff\n",
    "from mlens.metrics import make_scorer\n",
    "from mlens.model_selection import Evaluator\n",
    "import xgboost as xgb\n",
    "from xgboost import XGBClassifier\n",
    "from sklearn import metrics\n",
    "from sklearn.model_selection import (GridSearchCV, \n",
    "                                     StratifiedKFold,\n",
    "                                     cross_val_score)\n",
    "from sklearn.neighbors import KNeighborsClassifier\n",
    "from sklearn.metrics import roc_auc_score\n",
    "from sklearn.tree import DecisionTreeClassifier\n",
    "from sklearn.ensemble import (RandomForestClassifier, \n",
    "                              AdaBoostClassifier, \n",
    "                              GradientBoostingClassifier, \n",
    "                              ExtraTreesClassifier,\n",
    "                              BaggingClassifier)\n",
    "from sklearn.linear_model import LogisticRegression\n",
    "from sklearn.preprocessing import StandardScaler\n",
    "from sklearn.cross_validation import train_test_split, KFold\n",
    "\n",
    "# Plotting stuff\n",
    "import seaborn as sns\n",
    "import matplotlib as mpl\n",
    "import matplotlib.pyplot as plt\n",
    "import matplotlib.pylab as pylab\n",
    "from mlens.visualization import corrmat\n",
    "from pandas.tools.plotting import scatter_matrix\n",
    "\n",
    "# Plotting visuals stuff\n",
    "%matplotlib inline\n",
    "mpl.style.use('ggplot')\n",
    "sns.set_style('white')\n",
    "pylab.rcParams['figure.figsize'] = 12,8\n",
    "\n",
    "# ignore warnings (i.e. deprecation warnings)\n",
    "import warnings\n",
    "warnings.filterwarnings('ignore')\n",
    "\n",
    "seed = 42\n",
    "np.random.seed(seed)"
   ]
  },
  {
   "cell_type": "code",
   "execution_count": 90,
   "metadata": {
    "collapsed": true
   },
   "outputs": [],
   "source": [
    "test_ids = pd.read_csv(\"./data/raw/test.csv\")[[\"id\"]]\n",
    "train_y_cp = pd.read_csv(\"./data/raw/train.csv\")[\"Y\"]"
   ]
  },
  {
   "cell_type": "markdown",
   "metadata": {},
   "source": [
    "## Helper Functions"
   ]
  },
  {
   "cell_type": "code",
   "execution_count": 91,
   "metadata": {
    "collapsed": true
   },
   "outputs": [],
   "source": [
    "def get_preds(filename):\n",
    "    train = pd.read_csv(\"./meta_features/train/train_{}.csv\".format(filename), index_col=0).as_matrix().ravel()\n",
    "    test = pd.read_csv(\"./meta_features/test/test_{}.csv\".format(filename), index_col=0).as_matrix().ravel()\n",
    "    \n",
    "    return train, test\n",
    "\n",
    "\n",
    "def get_data(filename):\n",
    "    train = pd.read_csv(\"./data/refined/train/train_{}.csv\".format(filename))\n",
    "    test = pd.read_csv(\"./data/refined/test/test_{}.csv\".format(filename))\n",
    "    \n",
    "    x_train = train.drop([\"Y\"], axis = 1)\n",
    "    y_train = train[\"Y\"]\n",
    "    \n",
    "    return train, test, x_train, y_train"
   ]
  },
  {
   "cell_type": "code",
   "execution_count": 92,
   "metadata": {
    "collapsed": true
   },
   "outputs": [],
   "source": [
    "train_raw, test_raw, x_train_raw, y_train_raw = get_data(\"raw\")\n",
    "train_base, test_base, x_train_base, y_train_base = get_data(\"base\")\n",
    "train_log, test_log, x_train_log, y_train_log = get_data(\"log\")\n",
    "train_poly, test_poly, x_train_poly, y_train_poly = get_data(\"poly\")\n",
    "train_scaled, test_scaled, x_train_scaled, y_train_scaled = get_data(\"scaled\")\n",
    "train_reduced, test_reduced, x_train_reduced, y_train_reduced = get_data(\"reduced\")"
   ]
  },
  {
   "cell_type": "code",
   "execution_count": 93,
   "metadata": {},
   "outputs": [
    {
     "data": {
      "text/html": [
       "<div>\n",
       "<style>\n",
       "    .dataframe thead tr:only-child th {\n",
       "        text-align: right;\n",
       "    }\n",
       "\n",
       "    .dataframe thead th {\n",
       "        text-align: left;\n",
       "    }\n",
       "\n",
       "    .dataframe tbody tr th {\n",
       "        vertical-align: top;\n",
       "    }\n",
       "</style>\n",
       "<table border=\"1\" class=\"dataframe\">\n",
       "  <thead>\n",
       "    <tr style=\"text-align: right;\">\n",
       "      <th></th>\n",
       "      <th>F2</th>\n",
       "      <th>F3</th>\n",
       "      <th>F4</th>\n",
       "      <th>F5</th>\n",
       "      <th>F6</th>\n",
       "      <th>F7</th>\n",
       "      <th>F8</th>\n",
       "      <th>F10</th>\n",
       "      <th>F11</th>\n",
       "      <th>F15</th>\n",
       "      <th>F16</th>\n",
       "      <th>F17</th>\n",
       "      <th>F18</th>\n",
       "      <th>F19</th>\n",
       "      <th>F20</th>\n",
       "      <th>F21</th>\n",
       "      <th>F22</th>\n",
       "      <th>F23</th>\n",
       "      <th>F24</th>\n",
       "    </tr>\n",
       "  </thead>\n",
       "  <tbody>\n",
       "    <tr>\n",
       "      <th>0</th>\n",
       "      <td>61385</td>\n",
       "      <td>0</td>\n",
       "      <td>38</td>\n",
       "      <td>118751</td>\n",
       "      <td>1000</td>\n",
       "      <td>32020</td>\n",
       "      <td>1</td>\n",
       "      <td>127959</td>\n",
       "      <td>1</td>\n",
       "      <td>1</td>\n",
       "      <td>119757</td>\n",
       "      <td>119100</td>\n",
       "      <td>1</td>\n",
       "      <td>118830</td>\n",
       "      <td>1</td>\n",
       "      <td>1</td>\n",
       "      <td>126461</td>\n",
       "      <td>1</td>\n",
       "      <td>46871</td>\n",
       "    </tr>\n",
       "    <tr>\n",
       "      <th>1</th>\n",
       "      <td>51329</td>\n",
       "      <td>0</td>\n",
       "      <td>41</td>\n",
       "      <td>120800</td>\n",
       "      <td>1000</td>\n",
       "      <td>130630</td>\n",
       "      <td>1</td>\n",
       "      <td>128342</td>\n",
       "      <td>2</td>\n",
       "      <td>1</td>\n",
       "      <td>138110</td>\n",
       "      <td>121149</td>\n",
       "      <td>1</td>\n",
       "      <td>118832</td>\n",
       "      <td>1</td>\n",
       "      <td>1</td>\n",
       "      <td>130296</td>\n",
       "      <td>1</td>\n",
       "      <td>42386</td>\n",
       "    </tr>\n",
       "    <tr>\n",
       "      <th>2</th>\n",
       "      <td>5522</td>\n",
       "      <td>0</td>\n",
       "      <td>50</td>\n",
       "      <td>118779</td>\n",
       "      <td>1000</td>\n",
       "      <td>303218</td>\n",
       "      <td>2</td>\n",
       "      <td>128299</td>\n",
       "      <td>1</td>\n",
       "      <td>1</td>\n",
       "      <td>119777</td>\n",
       "      <td>119126</td>\n",
       "      <td>1</td>\n",
       "      <td>118832</td>\n",
       "      <td>1</td>\n",
       "      <td>2</td>\n",
       "      <td>127063</td>\n",
       "      <td>1</td>\n",
       "      <td>23968</td>\n",
       "    </tr>\n",
       "    <tr>\n",
       "      <th>3</th>\n",
       "      <td>6754</td>\n",
       "      <td>0</td>\n",
       "      <td>45</td>\n",
       "      <td>123163</td>\n",
       "      <td>2000</td>\n",
       "      <td>19024</td>\n",
       "      <td>1</td>\n",
       "      <td>127968</td>\n",
       "      <td>1</td>\n",
       "      <td>2</td>\n",
       "      <td>270637</td>\n",
       "      <td>123511</td>\n",
       "      <td>1</td>\n",
       "      <td>118832</td>\n",
       "      <td>1</td>\n",
       "      <td>1</td>\n",
       "      <td>15274</td>\n",
       "      <td>1</td>\n",
       "      <td>27555</td>\n",
       "    </tr>\n",
       "    <tr>\n",
       "      <th>4</th>\n",
       "      <td>16991</td>\n",
       "      <td>0</td>\n",
       "      <td>41</td>\n",
       "      <td>119193</td>\n",
       "      <td>1000</td>\n",
       "      <td>303218</td>\n",
       "      <td>1</td>\n",
       "      <td>128299</td>\n",
       "      <td>1</td>\n",
       "      <td>1</td>\n",
       "      <td>119777</td>\n",
       "      <td>119542</td>\n",
       "      <td>1</td>\n",
       "      <td>118832</td>\n",
       "      <td>1</td>\n",
       "      <td>1</td>\n",
       "      <td>133491</td>\n",
       "      <td>1</td>\n",
       "      <td>50260</td>\n",
       "    </tr>\n",
       "  </tbody>\n",
       "</table>\n",
       "</div>"
      ],
      "text/plain": [
       "      F2  F3  F4      F5    F6      F7  F8     F10  F11  F15     F16     F17  \\\n",
       "0  61385   0  38  118751  1000   32020   1  127959    1    1  119757  119100   \n",
       "1  51329   0  41  120800  1000  130630   1  128342    2    1  138110  121149   \n",
       "2   5522   0  50  118779  1000  303218   2  128299    1    1  119777  119126   \n",
       "3   6754   0  45  123163  2000   19024   1  127968    1    2  270637  123511   \n",
       "4  16991   0  41  119193  1000  303218   1  128299    1    1  119777  119542   \n",
       "\n",
       "   F18     F19  F20  F21     F22  F23    F24  \n",
       "0    1  118830    1    1  126461    1  46871  \n",
       "1    1  118832    1    1  130296    1  42386  \n",
       "2    1  118832    1    2  127063    1  23968  \n",
       "3    1  118832    1    1   15274    1  27555  \n",
       "4    1  118832    1    1  133491    1  50260  "
      ]
     },
     "execution_count": 93,
     "metadata": {},
     "output_type": "execute_result"
    }
   ],
   "source": [
    "x_train_base.head()"
   ]
  },
  {
   "cell_type": "code",
   "execution_count": 94,
   "metadata": {
    "collapsed": true
   },
   "outputs": [],
   "source": [
    "def show_pearson_corr(mapping, dict_vals_are_models=True):\n",
    "    if dict_vals_are_models:\n",
    "        all_preds = pd.DataFrame(np.zeros((test_base.shape[0], len(mapping))), columns=list(mapping.keys()))\n",
    "    else:\n",
    "        all_preds = pd.DataFrame(np.zeros((train_base.shape[0], len(mapping))), columns=list(mapping.keys()))\n",
    "    \n",
    "    for name, val in mapping.items():\n",
    "        if dict_vals_are_models:\n",
    "            val.fit(x_train_base, y_train_base)\n",
    "            all_preds[name] = val.predict_proba(test_base)[:,1]   \n",
    "        else:\n",
    "            all_preds[name] = val\n",
    "        \n",
    "    all_preds = all_preds.reindex_axis(sorted(all_preds.columns.values), axis=1)\n",
    "\n",
    "    ax = corrmat(all_preds.corr())\n",
    "    plt.show()"
   ]
  },
  {
   "cell_type": "markdown",
   "metadata": {},
   "source": [
    "## Modeling Functions"
   ]
  },
  {
   "cell_type": "code",
   "execution_count": 95,
   "metadata": {
    "collapsed": true
   },
   "outputs": [],
   "source": [
    "def get_cross_val_score(model, x_train, y_train, n_folds, run_parallel=True):\n",
    "    if run_parallel:\n",
    "        cv = cross_val_score(model, x_train, y_train, cv = n_folds, scoring = \"roc_auc\", n_jobs = -1)\n",
    "    else:\n",
    "        cv = cross_val_score(model, x_train, y_train, cv = n_folds, scoring = \"roc_auc\")\n",
    "        \n",
    "    print(\"Cross validation score: {} +/- {}\\nRaw scores: {}\".format(str(np.mean(cv)), str(np.std(cv)), str(cv)))\n",
    "    return cv\n",
    "\n",
    "\n",
    "def train_and_save_base_learner_preds(model, folds, x_train, y_train, test, pred_filename, timeit=True, mlens=False):\n",
    "    # Train model on the folds defined\n",
    "    if mlens:\n",
    "        train_ids = x_train.index\n",
    "        test_ids = test.index\n",
    "        x_train = np.array(x_train)\n",
    "        y_train = np.array(y_train)\n",
    "        test = np.array(test)\n",
    "        \n",
    "        train_preds = np.zeros(x_train.shape[0])\n",
    "        test_preds = np.zeros(test.shape[0])\n",
    "        test_preds_iter = np.zeros((test.shape[0], len(folds)))\n",
    "        \n",
    "        stacker = SuperLearner(random_state=seed, scorer=roc_auc_score)\n",
    "        stacker.add(model, proba=True)\n",
    "        \n",
    "        for i, (train_indices, test_indices) in enumerate(folds):\n",
    "            xtr = x_train[train_indices]\n",
    "            xhold = x_train[test_indices]\n",
    "            ytr = y_train[train_indices]\n",
    "            \n",
    "            # Deletes the previous fit when \"warm_start\" is disabled (intended behavior)\n",
    "            %time stacker.fit(x_train, y_train)\n",
    "            \n",
    "            train_preds[test_indices] = stacker.predict_proba(xhold)[:,1]\n",
    "            test_preds_iter[:,i] = stacker.predict_proba(test)[:,1]\n",
    "        \n",
    "        test_preds[:] = test_preds_iter.mean(1)\n",
    "        \n",
    "        submission = pd.DataFrame({\"id\": train_ids, \"Y\": train_preds})\n",
    "        submission.to_csv(\"./meta_features/mlens/train/train_{}.csv\".format(pred_filename), index=False, columns=[\"id\", \"Y\"])   \n",
    "        \n",
    "        submission = pd.DataFrame({\"id\": test_ids, \"Y\": test_preds})\n",
    "        submission.to_csv(\"./meta_features/mlens/test/test_{}.csv\".format(pred_filename), index=False, columns=[\"id\", \"Y\"])   \n",
    "        \n",
    "        return model  \n",
    "    \n",
    "    else:\n",
    "        result = generate_out_of_folds_preds(model, folds, x_train, y_train, test, timeit)\n",
    "\n",
    "        train_preds_csv = pd.DataFrame(columns=[\"Y\"], index=x_train.index, data=result[\"train_preds\"])\n",
    "        train_preds_csv.to_csv(\"./meta_features/train/train_{}.csv\".format(pred_filename), index=False, columns=[\"id\", \"Y\"])\n",
    "\n",
    "        test_preds_csv = pd.DataFrame(columns=[\"Y\"], index=test.index, data=result[\"test_preds\"])\n",
    "        test_preds_csv.to_csv(\"./meta_features/test/test_{}.csv\".format(pred_filename), index=False, columns=[\"id\", \"Y\"])\n",
    "\n",
    "        return result[\"model\"]\n",
    "                          \n",
    "\n",
    "def generate_out_of_folds_preds(model, folds, x, y, test, timeit=True):\n",
    "    \"\"\" \n",
    "    Trains the model through (stratified) CV, and generates predictions from\n",
    "    the weighted average of each holdout's predictions.\n",
    "    \n",
    "    'train_preds' is the combination of all predictions from each holdout.\n",
    "    'test_preds' is the final predictions computed through the mean of each test prediction.\n",
    "    \n",
    "    \"\"\"\n",
    "    x = np.array(x)\n",
    "    y = np.array(y)\n",
    "    test = np.array(test)\n",
    "        \n",
    "    train_preds = np.zeros(x.shape[0])\n",
    "    test_preds = np.zeros(test.shape[0])\n",
    "    test_preds_iter = np.zeros((test.shape[0], len(folds)))\n",
    "    \n",
    "    for i, (train_indices, test_indices) in enumerate(folds):\n",
    "        x_train = x[train_indices]\n",
    "        x_holdout = x[test_indices]\n",
    "        y_train = y[train_indices]\n",
    "        \n",
    "        if timeit:\n",
    "            %time model.fit(x_train, y_train)\n",
    "        else:\n",
    "            model.fit(x_train, y_train)\n",
    "        \n",
    "        train_preds[test_indices] = model.predict_proba(x_holdout)[:,1]\n",
    "        test_preds_iter[:,i] = model.predict_proba(test)[:,1]\n",
    "        \n",
    "    test_preds[:] = test_preds_iter.mean(1)\n",
    "        \n",
    "    return {'model': model, 'train_preds': train_preds ,'test_preds': test_preds}"
   ]
  },
  {
   "cell_type": "code",
   "execution_count": 96,
   "metadata": {
    "collapsed": true
   },
   "outputs": [],
   "source": [
    "# Obtain fold indices for base learner training.\n",
    "n_splits = 5\n",
    "folds = list(StratifiedKFold(n_splits, random_state=seed).split(x_train_base, y_train_base))"
   ]
  },
  {
   "cell_type": "markdown",
   "metadata": {},
   "source": [
    "Note that we want to use the **same** fold indices every time to reduce overfitting. "
   ]
  },
  {
   "cell_type": "markdown",
   "metadata": {},
   "source": [
    "# Base Learners"
   ]
  },
  {
   "cell_type": "markdown",
   "metadata": {},
   "source": [
    "### Random Forest Classifier\n",
    "\n",
    "Tuning parameters\n",
    "    * n_estimators (online): \"n_estimators is not really worth optimizing. The more estimators you give it, the better it will do. 500 or 1000 is usually sufficient.\" -- stack overflow\n",
    "    * criterion (class): Constantine mentioned entropy is the preferred criterion for Random Forests.\n",
    "    * max_features (code): used GridSearchCV, sci-kit learn docs showed [1, 3, 10] as good contenders.\n",
    "    * max_depth (observation): It seems like limiting the max depth of the classifier inhibits on the predictive capabilities, as my submission with default max_depth produced a higher public leaderboard score. (~0.1 higher)"
   ]
  },
  {
   "cell_type": "code",
   "execution_count": 30,
   "metadata": {},
   "outputs": [
    {
     "name": "stdout",
     "output_type": "stream",
     "text": [
      "CPU times: user 1min, sys: 386 ms, total: 1min\n",
      "Wall time: 9.53 s\n",
      "CPU times: user 1min 1s, sys: 350 ms, total: 1min 2s\n",
      "Wall time: 9.71 s\n",
      "CPU times: user 1min 1s, sys: 337 ms, total: 1min 2s\n",
      "Wall time: 9.67 s\n",
      "CPU times: user 1min 4s, sys: 339 ms, total: 1min 4s\n",
      "Wall time: 9.94 s\n",
      "CPU times: user 1min 4s, sys: 355 ms, total: 1min 4s\n",
      "Wall time: 10 s\n",
      "Cross validation score: 0.763972140277 +/- 0.0126201727415\n",
      "Raw scores: [ 0.76663797  0.77985633  0.74617437  0.75311065  0.77408139]\n"
     ]
    }
   ],
   "source": [
    "rfc_log = RandomForestClassifier(criterion='entropy', max_features=10, n_estimators=1000, n_jobs=-1)\n",
    "rfc_log = train_and_save_base_learner_preds(rfc_log, folds, x_train_log, y_train_log, test_log, \"random_forest_log\")\n",
    "rfc_log_cv = get_cross_val_score(rfc_log, x_train_log, y_train_log, n_splits)"
   ]
  },
  {
   "cell_type": "markdown",
   "metadata": {},
   "source": [
    "###### Using Raw Data"
   ]
  },
  {
   "cell_type": "code",
   "execution_count": 70,
   "metadata": {
    "collapsed": true
   },
   "outputs": [],
   "source": [
    "rfc_raw = RandomForestClassifier(criterion='entropy', max_features=10, n_estimators=1000, n_jobs=-1)"
   ]
  },
  {
   "cell_type": "code",
   "execution_count": 73,
   "metadata": {},
   "outputs": [
    {
     "name": "stdout",
     "output_type": "stream",
     "text": [
      "Cross validation score: 0.7695456125591551 +/- 0.012976891105761897\n",
      "Raw scores: [0.76927927 0.78441299 0.75467399 0.7555443  0.78381751]\n"
     ]
    }
   ],
   "source": [
    "# Using tuned parameters fitted on BASE data\n",
    "rfc_raw = train_and_save_base_learner_preds(rfc_raw, folds, x_train_raw, y_train_raw, test_raw, \"random_forest_raw\", timeit=False)\n",
    "rfc_raw_cv = get_cross_val_score(rfc_raw, x_train_raw, y_train_raw, n_splits)"
   ]
  },
  {
   "cell_type": "code",
   "execution_count": 74,
   "metadata": {},
   "outputs": [
    {
     "name": "stdout",
     "output_type": "stream",
     "text": [
      "[0.97  0.675 0.93  ... 0.852 0.995 0.972]\n"
     ]
    }
   ],
   "source": [
    "# Finally, predict our probabilities.\n",
    "rfc_raw.fit(x_train_raw, y_train_raw)\n",
    "rfc_raw_probs = rfc_raw.predict_proba(test_raw)[:,1]\n",
    "print rfc_raw_probs"
   ]
  },
  {
   "cell_type": "code",
   "execution_count": 53,
   "metadata": {
    "collapsed": true
   },
   "outputs": [],
   "source": [
    "# save a copy of the predictions\n",
    "submission = pd.DataFrame({\"id\": test_ids.id, \"Y\": rfc_raw_probs})\n",
    "submission.to_csv(\"./submissions/random_forest_raw_lone.csv\", index=False, columns=[\"id\", \"Y\"])"
   ]
  },
  {
   "cell_type": "markdown",
   "metadata": {},
   "source": [
    "###### Using Polynomial Transformation Data"
   ]
  },
  {
   "cell_type": "code",
   "execution_count": 35,
   "metadata": {},
   "outputs": [
    {
     "name": "stdout",
     "output_type": "stream",
     "text": [
      "CPU times: user 1min 32s, sys: 413 ms, total: 1min 32s\n",
      "Wall time: 16.1 s\n",
      "CPU times: user 1min 38s, sys: 398 ms, total: 1min 39s\n",
      "Wall time: 14.5 s\n",
      "CPU times: user 1min 36s, sys: 408 ms, total: 1min 37s\n",
      "Wall time: 15.3 s\n",
      "CPU times: user 1min 38s, sys: 646 ms, total: 1min 39s\n",
      "Wall time: 15.6 s\n",
      "CPU times: user 1min 40s, sys: 555 ms, total: 1min 41s\n",
      "Wall time: 15 s\n",
      "Cross validation score: 0.762157532882 +/- 0.0178247735886\n",
      "Raw scores: [ 0.74675429  0.78349288  0.74934748  0.74677624  0.78441678]\n"
     ]
    }
   ],
   "source": [
    "rfc_poly = RandomForestClassifier(criterion='entropy', max_features=10, n_estimators=1000, n_jobs=-1)\n",
    "rfc_poly = train_and_save_base_learner_preds(rfc_poly, folds, x_train_poly, y_train_poly, test_poly, \"random_forest_poly\")\n",
    "rfc_poly_cv = get_cross_val_score(rfc_poly, x_train_poly, y_train_poly, n_splits)"
   ]
  },
  {
   "cell_type": "markdown",
   "metadata": {},
   "source": [
    "###### Using Base Data"
   ]
  },
  {
   "cell_type": "code",
   "execution_count": 36,
   "metadata": {},
   "outputs": [
    {
     "data": {
      "text/plain": [
       "GridSearchCV(cv=5, error_score='raise',\n",
       "       estimator=RandomForestClassifier(bootstrap=True, class_weight=None, criterion='entropy',\n",
       "            max_depth=10, max_features='auto', max_leaf_nodes=None,\n",
       "            min_impurity_split=1e-07, min_samples_leaf=1,\n",
       "            min_samples_split=2, min_weight_fraction_leaf=0.0,\n",
       "            n_estimators=1000, n_jobs=-1, oob_score=False,\n",
       "            random_state=None, verbose=0, warm_start=False),\n",
       "       fit_params={}, iid=True, n_jobs=1,\n",
       "       param_grid={'max_features': [1, 2, 3, 4, 5, 6, 7, 8, 9, 10, 'auto'], 'max_depth': [5, 6, 7, 8, 9, 10, 11, 12]},\n",
       "       pre_dispatch='2*n_jobs', refit=True, return_train_score=True,\n",
       "       scoring='roc_auc', verbose=0)"
      ]
     },
     "execution_count": 36,
     "metadata": {},
     "output_type": "execute_result"
    }
   ],
   "source": [
    "rfc_param_grid = {\n",
    "    \"max_features\": [1, 3, 10]\n",
    "}\n",
    "\n",
    "rfc = RandomForestClassifier(criterion='entropy', max_depth=10, n_estimators=1000, n_jobs=-1)\n",
    "\n",
    "gs_rfc = GridSearchCV(estimator=rfc, param_grid=rfc_param_grid, cv=n_splits, scoring=\"roc_auc\")\n",
    "gs_rfc.fit(x_train_base, y_train_base)"
   ]
  },
  {
   "cell_type": "code",
   "execution_count": 41,
   "metadata": {},
   "outputs": [
    {
     "name": "stdout",
     "output_type": "stream",
     "text": [
      "{'max_features': 6, 'max_depth': 12}\n"
     ]
    }
   ],
   "source": [
    "# So, we'll use 10 to be our max_features value.\n",
    "print gs_rfc.best_params_"
   ]
  },
  {
   "cell_type": "code",
   "execution_count": 130,
   "metadata": {
    "scrolled": false
   },
   "outputs": [
    {
     "name": "stdout",
     "output_type": "stream",
     "text": [
      "Cross validation score: 0.767653985688 +/- 0.0137592880393\n",
      "Raw scores: [ 0.76729217  0.78474473  0.74785336  0.7578412   0.78053847]\n"
     ]
    }
   ],
   "source": [
    "# Train with our optimized parameters.\n",
    "rfc = RandomForestClassifier(criterion='entropy', max_features=10, n_estimators=1000, n_jobs=-1)\n",
    "rfc = train_and_save_base_learner_preds(rfc, folds, x_train_base, y_train_base, test_base, \"random_forest_base\")\n",
    "rf_cv = get_cross_val_score(rfc, x_train_base, y_train_base, n_splits)"
   ]
  },
  {
   "cell_type": "code",
   "execution_count": 131,
   "metadata": {},
   "outputs": [
    {
     "name": "stdout",
     "output_type": "stream",
     "text": [
      "[ 0.971  0.684  0.929 ...,  0.862  0.987  0.968]\n"
     ]
    }
   ],
   "source": [
    "# Finally, predict our probabilities.\n",
    "rfc.fit(x_train_base, y_train_base)\n",
    "rfc_probs = rfc.predict_proba(test_base)[:,1]\n",
    "print rfc_probs"
   ]
  },
  {
   "cell_type": "code",
   "execution_count": 132,
   "metadata": {
    "collapsed": true
   },
   "outputs": [],
   "source": [
    "# save a copy of the predictions\n",
    "submission = pd.DataFrame({\"id\": test_ids.id, \"Y\": rfc_probs})\n",
    "submission.to_csv(\"./submissions/random_forest_base_lone.csv\", index=False, columns=[\"id\", \"Y\"])"
   ]
  },
  {
   "cell_type": "markdown",
   "metadata": {},
   "source": [
    "###### Using Log Data"
   ]
  },
  {
   "cell_type": "code",
   "execution_count": 54,
   "metadata": {},
   "outputs": [
    {
     "name": "stdout",
     "output_type": "stream",
     "text": [
      "CPU times: user 1min 2s, sys: 511 ms, total: 1min 2s\n",
      "Wall time: 10.8 s\n",
      "CPU times: user 1min 4s, sys: 512 ms, total: 1min 4s\n",
      "Wall time: 11 s\n",
      "CPU times: user 1min 4s, sys: 498 ms, total: 1min 5s\n",
      "Wall time: 10.7 s\n",
      "CPU times: user 1min 4s, sys: 308 ms, total: 1min 5s\n",
      "Wall time: 10.1 s\n",
      "CPU times: user 1min 5s, sys: 413 ms, total: 1min 5s\n",
      "Wall time: 10.4 s\n",
      "Cross validation score: 0.766020138462 +/- 0.0113610765781\n",
      "Raw scores: [ 0.76509741  0.77783124  0.75289286  0.75429075  0.77998842]\n"
     ]
    }
   ],
   "source": [
    "rfc_log = RandomForestClassifier(criterion='entropy', max_features=10, n_estimators=1000, n_jobs=-1)\n",
    "rfc_log = train_and_save_base_learner_preds(rfc_log, folds, x_train_log, y_train_log, test_log, \"random_forest_log\")\n",
    "rfc_log_cv = get_cross_val_score(rfc_log, x_train_log, y_train_log, n_splits)"
   ]
  },
  {
   "cell_type": "markdown",
   "metadata": {},
   "source": [
    "Oddly enough, the raw / no feature engineering data set has the highest public LB score when submitted to kaggle. However, this could potentially be overfitting with how much noise there is in the raw / no feature engineering data set."
   ]
  },
  {
   "cell_type": "markdown",
   "metadata": {},
   "source": [
    "Let's see what features RandomForestClassifier deemed most important."
   ]
  },
  {
   "cell_type": "code",
   "execution_count": 88,
   "metadata": {
    "scrolled": true
   },
   "outputs": [
    {
     "data": {
      "text/plain": [
       "<matplotlib.axes._subplots.AxesSubplot at 0x7f55b94548d0>"
      ]
     },
     "execution_count": 88,
     "metadata": {},
     "output_type": "execute_result"
    },
    {
     "data": {
      "image/png": "[encoded data removed]",
      "text/plain": [
       "<matplotlib.figure.Figure at 0x7f55b9454f90>"
      ]
     },
     "metadata": {},
     "output_type": "display_data"
    }
   ],
   "source": [
    "pd.Series(index=x_train_raw.columns, data=rfc_raw.feature_importances_) \\\n",
    "    .drop([\"F1\", \"F9\", \"F12\", \"F13\", \"F14\"]) \\\n",
    "    .sort_values().plot(kind='barh', title='Variable Importances')"
   ]
  },
  {
   "cell_type": "markdown",
   "metadata": {},
   "source": [
    "Thus, we'll use the top 2 features, **F2** and **F24**, to use in our PolynomialFeature transformed data set. Generation of this data set can be found in **\"data_processing.ipynb\"** under the \"Transformations\" subsection."
   ]
  },
  {
   "cell_type": "markdown",
   "metadata": {},
   "source": [
    "### Logistic Regressor\n",
    "\n",
    "Tuning Parameters\n",
    "    * solver (online): according to docs, \"For small datasets, ‘liblinear’ is a good choice, whereas ‘sag’ and \n",
    "        ‘saga’ are faster for large ones.\"\n",
    "    * tol (observation): with the default being 1e-4, I decided giving a little leeway in both directions would be good to observe.\n",
    "    * C (online): according to sklearn, \"Large values of C give more freedom to the model. Conversely, smaller values of C constrain the model more.\""
   ]
  },
  {
   "cell_type": "code",
   "execution_count": 137,
   "metadata": {},
   "outputs": [
    {
     "data": {
      "text/plain": [
       "GridSearchCV(cv=5, error_score='raise',\n",
       "       estimator=LogisticRegression(C=1.0, class_weight=None, dual=False, fit_intercept=True,\n",
       "          intercept_scaling=1, max_iter=100, multi_class='ovr', n_jobs=1,\n",
       "          penalty='l2', random_state=None, solver='liblinear', tol=0.0001,\n",
       "          verbose=0, warm_start=False),\n",
       "       fit_params={}, iid=True, n_jobs=1,\n",
       "       param_grid={'C': [0.01, 0.1, 1.0, 10, 100], 'tol': [1e-05, 0.0001, 0.001], 'solver': ['liblinear', 'sag']},\n",
       "       pre_dispatch='2*n_jobs', refit=True, return_train_score=True,\n",
       "       scoring='roc_auc', verbose=0)"
      ]
     },
     "execution_count": 137,
     "metadata": {},
     "output_type": "execute_result"
    }
   ],
   "source": [
    "lr_param_grid = {\n",
    "    \"tol\": [1e-5, 1e-4, 1e-3],\n",
    "    \"solver\": [\"liblinear\", \"sag\"], # For some reason, \"saga\" isn't allowed anymore.\n",
    "    \"C\": [0.01, 0.1, 1.0, 10, 100] # Inverse of regularization strength. Smaller values specify stronger regularization (must be pos float)\n",
    "}\n",
    "\n",
    "lr = LogisticRegression()\n",
    "\n",
    "gs_lr = GridSearchCV(estimator=lr, param_grid=lr_param_grid, cv=n_splits, scoring=\"roc_auc\")\n",
    "gs_lr.fit(x_train_log, y_train_log)"
   ]
  },
  {
   "cell_type": "code",
   "execution_count": 140,
   "metadata": {},
   "outputs": [
    {
     "name": "stdout",
     "output_type": "stream",
     "text": [
      "{'C': 100, 'tol': 1e-05, 'solver': 'liblinear'}\n",
      "0.545830385785\n"
     ]
    }
   ],
   "source": [
    "print gs_lr.best_params_\n",
    "print gs_lr.best_score_"
   ]
  },
  {
   "cell_type": "code",
   "execution_count": 156,
   "metadata": {},
   "outputs": [
    {
     "name": "stdout",
     "output_type": "stream",
     "text": [
      "Cross validation score: 0.545833322926 +/- 0.0230976755653\n",
      "Raw scores: [ 0.56433684  0.55349304  0.50612     0.53532381  0.56989291]\n"
     ]
    }
   ],
   "source": [
    "# Train with our optimized parameters.\n",
    "lr = LogisticRegression(C=100, tol=1e-05, solver=\"liblinear\")\n",
    "lr = train_and_save_base_learner_preds(lr, folds, x_train_log, y_train_log, test_log, \"logistic_regression_log\")\n",
    "lr_cv = get_cross_val_score(lr, x_train_log, y_train_log, n_splits)"
   ]
  },
  {
   "cell_type": "code",
   "execution_count": 157,
   "metadata": {
    "scrolled": true
   },
   "outputs": [
    {
     "name": "stdout",
     "output_type": "stream",
     "text": [
      "[ 0.91999531  0.93921733  0.91854823 ...,  0.92974219  0.92594105\n",
      "  0.94791889]\n"
     ]
    }
   ],
   "source": [
    "# Finally, predict our probabilities.\n",
    "lr.fit(x_train_log, y_train_log)\n",
    "lr_probs = lr.predict_proba(test_log)[:,1]\n",
    "print lr_probs"
   ]
  },
  {
   "cell_type": "code",
   "execution_count": 158,
   "metadata": {
    "collapsed": true
   },
   "outputs": [],
   "source": [
    "# save a copy of the predictions\n",
    "submission = pd.DataFrame({\"id\": test_ids.id, \"Y\": lr_probs})\n",
    "submission.to_csv(\"./submissions/logistic_regression_lone.csv\", index=False, columns=[\"id\", \"Y\"])"
   ]
  },
  {
   "cell_type": "markdown",
   "metadata": {},
   "source": [
    "The logistic regressor scores are pretty bad, both in offline CV and when submitted to Kaggle. I'll choose to leave this base learner out of my ensemble."
   ]
  },
  {
   "cell_type": "markdown",
   "metadata": {},
   "source": [
    "### XGBoost\n",
    "\n",
    "Tuning Parameters: all final chosen parameters for XGBoost are documented below.\n",
    "\n",
    "For XGBoost, I'll train several instances of the model on different transforms of the data set:\n",
    "    * With base data\n",
    "    * With polynomial features\n",
    "    * Bagged classifier (using XGB as base learner, fitted with base data)\n",
    "    \n",
    "But first, I'll go through my tuning process for choosing my XGBoost parameters."
   ]
  },
  {
   "cell_type": "markdown",
   "metadata": {},
   "source": [
    "###### Step 1: Optimize learning_rate & n_estimators\n",
    "1. max_depth = 5 : This should be between 3-10. I’ve started with 5.\n",
    "2. min_child_weight = 1 : A smaller value is chosen because it is a highly imbalanced class problem and leaf nodes can have smaller size groups.\n",
    "3. gamma = 0 : A smaller value like 0.1-0.2 can also be chosen for starting. This will anyways be tuned later.\n",
    "4. subsample & colsample_bytree = 0.8 : This is a commonly used start value. Typical values range between 0.5-0.9.\n",
    "5. scale_pos_weight = 1: Because of high class imbalance"
   ]
  },
  {
   "cell_type": "code",
   "execution_count": 97,
   "metadata": {
    "collapsed": true
   },
   "outputs": [],
   "source": [
    "def model_fit(alg, dtrain, predictors, useTrainCV=True, cv_folds=5, early_stopping_rounds=50, show_output=True):\n",
    "    \n",
    "    if useTrainCV:\n",
    "        xgb_param = alg.get_xgb_params()\n",
    "        xgtrain = xgb.DMatrix(dtrain[predictors].values, train_y_cp)\n",
    "        \n",
    "        if show_output:\n",
    "            cvresult = xgb.cv(xgb_param, xgtrain, num_boost_round=alg.get_params()['n_estimators'], nfold=cv_folds, \\\n",
    "                              metrics='auc', early_stopping_rounds=early_stopping_rounds, verbose_eval=True)\n",
    "        else:\n",
    "            cvresult = xgb.cv(xgb_param, xgtrain, num_boost_round=alg.get_params()['n_estimators'], nfold=cv_folds,\n",
    "            metrics='auc', early_stopping_rounds=early_stopping_rounds)\n",
    "            \n",
    "        alg.set_params(n_estimators=cvresult.shape[0])\n",
    "    \n",
    "    #Fit the algorithm on the data\n",
    "    alg.fit(dtrain[predictors], train_y_cp, eval_metric='auc')\n",
    "        \n",
    "    #Predict training set:\n",
    "    dtrain_predictions = alg.predict(dtrain[predictors])\n",
    "    dtrain_predprob = alg.predict_proba(dtrain[predictors])[:,1]\n",
    "        \n",
    "    if show_output:\n",
    "        #Print model report:\n",
    "        print (\"\\nModel Report\")\n",
    "        print (\"Accuracy : {}\".format(metrics.accuracy_score(train_y_cp, dtrain_predictions)))\n",
    "        print (\"AUC Score (Train): {}\".format(metrics.roc_auc_score(train_y_cp, dtrain_predprob)))\n",
    "        # .get_booster().get_score(importance_type='weight')\n",
    "        # feat_imp = pd.Series(alg._Booster().get_fscore()).sort_values(ascending=False)\n",
    "        feat_imp = pd.Series(alg.get_booster().get_score(importance_type=\"weight\")).sort_values(ascending=False)\n",
    "        feat_imp.plot(kind='bar', title='Feature Importances')\n",
    "        plt.ylabel('Feature Importance Score')"
   ]
  },
  {
   "cell_type": "code",
   "execution_count": 98,
   "metadata": {
    "collapsed": true
   },
   "outputs": [],
   "source": [
    "# Initial xgb parameters\n",
    "xgb_base_params = {\n",
    "    \"learning_rate\": 0.1,\n",
    "    \"n_estimators\": 1000,\n",
    "    \"max_depth\": 5,\n",
    "    \"min_child_weight\": 1,\n",
    "    \"gamma\": 0,\n",
    "    \"subsample\": 0.8,\n",
    "    \"colsample_bytree\": 0.8,\n",
    "    \"objective\": 'binary:logistic', # Used for classifier XGB\n",
    "    \"nthread\": 4,\n",
    "    \"scale_pos_weight\": 1,\n",
    "    \"seed\": seed\n",
    "}"
   ]
  },
  {
   "cell_type": "code",
   "execution_count": 286,
   "metadata": {},
   "outputs": [
    {
     "name": "stdout",
     "output_type": "stream",
     "text": [
      "[0]\ttrain-auc:0.598089+0.0141979\ttest-auc:0.565919+0.0203243\n",
      "[1]\ttrain-auc:0.638271+0.0137126\ttest-auc:0.60012+0.0184288\n",
      "[2]\ttrain-auc:0.658802+0.0177463\ttest-auc:0.613642+0.0164839\n",
      "[3]\ttrain-auc:0.670629+0.0206667\ttest-auc:0.620431+0.0175085\n",
      "[4]\ttrain-auc:0.679858+0.0271329\ttest-auc:0.619132+0.0215458\n",
      "[5]\ttrain-auc:0.686931+0.0274203\ttest-auc:0.627745+0.01916\n",
      "[6]\ttrain-auc:0.699647+0.0210782\ttest-auc:0.631104+0.0157135\n",
      "[7]\ttrain-auc:0.708459+0.022327\ttest-auc:0.635924+0.0189767\n",
      "[8]\ttrain-auc:0.715601+0.0192213\ttest-auc:0.641783+0.0155102\n",
      "[9]\ttrain-auc:0.723321+0.0141541\ttest-auc:0.649355+0.0103319\n",
      "[10]\ttrain-auc:0.732172+0.00947029\ttest-auc:0.653931+0.00916104\n",
      "[11]\ttrain-auc:0.739927+0.0111418\ttest-auc:0.658629+0.0100949\n",
      "[12]\ttrain-auc:0.747702+0.00835335\ttest-auc:0.661979+0.00712129\n",
      "[13]\ttrain-auc:0.756037+0.0124843\ttest-auc:0.666299+0.0118047\n",
      "[14]\ttrain-auc:0.758687+0.00985301\ttest-auc:0.66836+0.0102543\n",
      "[15]\ttrain-auc:0.762982+0.0129228\ttest-auc:0.672456+0.0108429\n",
      "[16]\ttrain-auc:0.768539+0.00783764\ttest-auc:0.674249+0.0122439\n",
      "[17]\ttrain-auc:0.7726+0.00706107\ttest-auc:0.678127+0.0115985\n",
      "[18]\ttrain-auc:0.780556+0.0100695\ttest-auc:0.679174+0.0150894\n",
      "[19]\ttrain-auc:0.785251+0.0107342\ttest-auc:0.680973+0.0157006\n",
      "[20]\ttrain-auc:0.791224+0.0117025\ttest-auc:0.683742+0.0151589\n",
      "[21]\ttrain-auc:0.79336+0.0126269\ttest-auc:0.684121+0.0158996\n",
      "[22]\ttrain-auc:0.79743+0.0107404\ttest-auc:0.687666+0.0189894\n",
      "[23]\ttrain-auc:0.801181+0.00871808\ttest-auc:0.690241+0.0146268\n",
      "[24]\ttrain-auc:0.80418+0.00825145\ttest-auc:0.694588+0.0134203\n",
      "[25]\ttrain-auc:0.8091+0.00916089\ttest-auc:0.69638+0.0131747\n",
      "[26]\ttrain-auc:0.814739+0.00963358\ttest-auc:0.695653+0.0140599\n",
      "[27]\ttrain-auc:0.818883+0.00853342\ttest-auc:0.695547+0.0145651\n",
      "[28]\ttrain-auc:0.82213+0.00728824\ttest-auc:0.695267+0.0137738\n",
      "[29]\ttrain-auc:0.825816+0.00687612\ttest-auc:0.694398+0.0140553\n",
      "[30]\ttrain-auc:0.828004+0.00572132\ttest-auc:0.69565+0.0148161\n",
      "[31]\ttrain-auc:0.832001+0.00660659\ttest-auc:0.69792+0.0143721\n",
      "[32]\ttrain-auc:0.835515+0.00625612\ttest-auc:0.69886+0.0134305\n",
      "[33]\ttrain-auc:0.838578+0.00814162\ttest-auc:0.701232+0.0103357\n",
      "[34]\ttrain-auc:0.841253+0.00827902\ttest-auc:0.703384+0.0104344\n",
      "[35]\ttrain-auc:0.843252+0.00877224\ttest-auc:0.703459+0.0115703\n",
      "[36]\ttrain-auc:0.845692+0.00822468\ttest-auc:0.704401+0.010431\n",
      "[37]\ttrain-auc:0.848068+0.00805459\ttest-auc:0.705267+0.00925526\n",
      "[38]\ttrain-auc:0.8508+0.00827877\ttest-auc:0.705473+0.0102783\n",
      "[39]\ttrain-auc:0.852814+0.00828572\ttest-auc:0.706729+0.0110304\n",
      "[40]\ttrain-auc:0.85646+0.00757462\ttest-auc:0.707446+0.0114964\n",
      "[41]\ttrain-auc:0.859299+0.00807075\ttest-auc:0.707679+0.0119306\n",
      "[42]\ttrain-auc:0.861618+0.00820344\ttest-auc:0.709187+0.0133358\n",
      "[43]\ttrain-auc:0.863645+0.00726781\ttest-auc:0.710829+0.0142635\n",
      "[44]\ttrain-auc:0.866283+0.0072053\ttest-auc:0.711835+0.0131474\n",
      "[45]\ttrain-auc:0.867413+0.00788296\ttest-auc:0.712223+0.013041\n",
      "[46]\ttrain-auc:0.868988+0.00745307\ttest-auc:0.712585+0.0124748\n",
      "[47]\ttrain-auc:0.870671+0.0073582\ttest-auc:0.713047+0.0120681\n",
      "[48]\ttrain-auc:0.872135+0.00742273\ttest-auc:0.71292+0.0127061\n",
      "[49]\ttrain-auc:0.873911+0.00670654\ttest-auc:0.715715+0.0119202\n",
      "[50]\ttrain-auc:0.876582+0.00576183\ttest-auc:0.716706+0.0121751\n",
      "[51]\ttrain-auc:0.878003+0.00539039\ttest-auc:0.716644+0.0123777\n",
      "[52]\ttrain-auc:0.88005+0.00480829\ttest-auc:0.718007+0.0128212\n",
      "[53]\ttrain-auc:0.881486+0.00380552\ttest-auc:0.718257+0.0133351\n",
      "[54]\ttrain-auc:0.88383+0.00437758\ttest-auc:0.71919+0.0142282\n",
      "[55]\ttrain-auc:0.885222+0.00367152\ttest-auc:0.71978+0.014208\n",
      "[56]\ttrain-auc:0.887716+0.00457864\ttest-auc:0.719616+0.0144686\n",
      "[57]\ttrain-auc:0.889248+0.00436374\ttest-auc:0.721216+0.0142857\n",
      "[58]\ttrain-auc:0.89125+0.00404125\ttest-auc:0.722575+0.0136313\n",
      "[59]\ttrain-auc:0.892397+0.00392382\ttest-auc:0.722473+0.0134132\n",
      "[60]\ttrain-auc:0.893946+0.00353202\ttest-auc:0.72235+0.0132545\n",
      "[61]\ttrain-auc:0.8953+0.00313203\ttest-auc:0.723045+0.013467\n",
      "[62]\ttrain-auc:0.896817+0.00340359\ttest-auc:0.723757+0.0137915\n",
      "[63]\ttrain-auc:0.898129+0.00323654\ttest-auc:0.723628+0.0136636\n",
      "[64]\ttrain-auc:0.899548+0.00233134\ttest-auc:0.722223+0.0137999\n",
      "[65]\ttrain-auc:0.900198+0.00245468\ttest-auc:0.722494+0.0140344\n",
      "[66]\ttrain-auc:0.901334+0.00231374\ttest-auc:0.724274+0.0144611\n",
      "[67]\ttrain-auc:0.902595+0.00217538\ttest-auc:0.724917+0.014409\n",
      "[68]\ttrain-auc:0.903701+0.00224858\ttest-auc:0.724976+0.0142266\n",
      "[69]\ttrain-auc:0.904809+0.00212803\ttest-auc:0.724331+0.0145129\n",
      "[70]\ttrain-auc:0.905971+0.0025661\ttest-auc:0.724575+0.0137345\n",
      "[71]\ttrain-auc:0.906744+0.00266841\ttest-auc:0.72505+0.014021\n",
      "[72]\ttrain-auc:0.90833+0.00279752\ttest-auc:0.725706+0.0144305\n",
      "[73]\ttrain-auc:0.909426+0.00297256\ttest-auc:0.72591+0.0145257\n",
      "[74]\ttrain-auc:0.910414+0.0031129\ttest-auc:0.726559+0.0142471\n",
      "[75]\ttrain-auc:0.911504+0.00366128\ttest-auc:0.727494+0.0142879\n",
      "[76]\ttrain-auc:0.913158+0.00388296\ttest-auc:0.727482+0.013999\n",
      "[77]\ttrain-auc:0.91444+0.00393046\ttest-auc:0.727471+0.0136617\n",
      "[78]\ttrain-auc:0.915578+0.00389342\ttest-auc:0.727185+0.0138123\n",
      "[79]\ttrain-auc:0.91616+0.00372733\ttest-auc:0.727518+0.013478\n",
      "[80]\ttrain-auc:0.917399+0.00385975\ttest-auc:0.728221+0.0135186\n",
      "[81]\ttrain-auc:0.918792+0.00382779\ttest-auc:0.728905+0.0144117\n",
      "[82]\ttrain-auc:0.91992+0.0039875\ttest-auc:0.729169+0.0153857\n",
      "[83]\ttrain-auc:0.921075+0.00398442\ttest-auc:0.728974+0.015214\n",
      "[84]\ttrain-auc:0.922044+0.00387903\ttest-auc:0.729408+0.0145645\n",
      "[85]\ttrain-auc:0.922688+0.0039939\ttest-auc:0.729753+0.014869\n",
      "[86]\ttrain-auc:0.923868+0.00396946\ttest-auc:0.730849+0.0149579\n",
      "[87]\ttrain-auc:0.92486+0.00384659\ttest-auc:0.731384+0.0158435\n",
      "[88]\ttrain-auc:0.925683+0.00378776\ttest-auc:0.731717+0.0156703\n",
      "[89]\ttrain-auc:0.926113+0.00367455\ttest-auc:0.731426+0.0152969\n",
      "[90]\ttrain-auc:0.926955+0.00353482\ttest-auc:0.731449+0.0154757\n",
      "[91]\ttrain-auc:0.927806+0.00358824\ttest-auc:0.731362+0.0157333\n",
      "[92]\ttrain-auc:0.92864+0.00383556\ttest-auc:0.731487+0.0162238\n",
      "[93]\ttrain-auc:0.929238+0.00385619\ttest-auc:0.731428+0.0163505\n",
      "[94]\ttrain-auc:0.930178+0.00413293\ttest-auc:0.731838+0.0160565\n",
      "[95]\ttrain-auc:0.931042+0.00422601\ttest-auc:0.731431+0.0164363\n",
      "[96]\ttrain-auc:0.931662+0.00424285\ttest-auc:0.731931+0.0162921\n",
      "[97]\ttrain-auc:0.932095+0.00452128\ttest-auc:0.731498+0.016718\n",
      "[98]\ttrain-auc:0.932537+0.00447516\ttest-auc:0.731274+0.0169936\n",
      "[99]\ttrain-auc:0.93346+0.00404828\ttest-auc:0.73125+0.0173602\n",
      "[100]\ttrain-auc:0.934526+0.00425057\ttest-auc:0.731352+0.0173363\n",
      "[101]\ttrain-auc:0.935405+0.0040335\ttest-auc:0.732009+0.0174356\n",
      "[102]\ttrain-auc:0.936127+0.00420987\ttest-auc:0.731734+0.0174207\n",
      "[103]\ttrain-auc:0.936364+0.00422293\ttest-auc:0.731545+0.017409\n",
      "[104]\ttrain-auc:0.936743+0.0042724\ttest-auc:0.730904+0.0176088\n",
      "[105]\ttrain-auc:0.937666+0.00424419\ttest-auc:0.730954+0.0177373\n",
      "[106]\ttrain-auc:0.938367+0.00438829\ttest-auc:0.731665+0.0172576\n",
      "[107]\ttrain-auc:0.938987+0.00439508\ttest-auc:0.732064+0.017075\n",
      "[108]\ttrain-auc:0.939838+0.00427375\ttest-auc:0.731474+0.0168353\n",
      "[109]\ttrain-auc:0.940237+0.00412356\ttest-auc:0.731781+0.0174302\n",
      "[110]\ttrain-auc:0.940822+0.00389394\ttest-auc:0.731754+0.0177175\n",
      "[111]\ttrain-auc:0.941591+0.0036515\ttest-auc:0.731315+0.0178108\n",
      "[112]\ttrain-auc:0.94225+0.00380715\ttest-auc:0.731075+0.0175112\n",
      "[113]\ttrain-auc:0.942796+0.00373647\ttest-auc:0.7315+0.0170728\n",
      "[114]\ttrain-auc:0.943366+0.00334503\ttest-auc:0.732005+0.0166343\n",
      "[115]\ttrain-auc:0.943996+0.00334235\ttest-auc:0.732066+0.0166699\n",
      "[116]\ttrain-auc:0.944583+0.00348132\ttest-auc:0.73199+0.0161085\n",
      "[117]\ttrain-auc:0.944886+0.00353803\ttest-auc:0.732025+0.0160523\n",
      "[118]\ttrain-auc:0.945546+0.00344158\ttest-auc:0.73136+0.0164758\n",
      "[119]\ttrain-auc:0.945991+0.00336225\ttest-auc:0.731487+0.0165972\n",
      "[120]\ttrain-auc:0.946613+0.0033284\ttest-auc:0.731111+0.0173025\n",
      "[121]\ttrain-auc:0.947115+0.00366182\ttest-auc:0.730944+0.0172871\n",
      "[122]\ttrain-auc:0.947617+0.00357224\ttest-auc:0.731401+0.0168665\n",
      "[123]\ttrain-auc:0.94822+0.0034611\ttest-auc:0.73137+0.0168416\n",
      "[124]\ttrain-auc:0.948878+0.0035871\ttest-auc:0.73126+0.0172247\n",
      "[125]\ttrain-auc:0.949418+0.00334672\ttest-auc:0.731141+0.0172432\n",
      "[126]\ttrain-auc:0.950061+0.00345952\ttest-auc:0.731514+0.0167986\n",
      "[127]\ttrain-auc:0.950488+0.00347213\ttest-auc:0.732258+0.0169678\n",
      "[128]\ttrain-auc:0.950994+0.00355503\ttest-auc:0.732721+0.0160175\n",
      "[129]\ttrain-auc:0.951364+0.00361205\ttest-auc:0.732818+0.0159957\n",
      "[130]\ttrain-auc:0.951937+0.0035254\ttest-auc:0.73336+0.0163341\n",
      "[131]\ttrain-auc:0.952464+0.00334821\ttest-auc:0.733165+0.016152\n"
     ]
    },
    {
     "name": "stdout",
     "output_type": "stream",
     "text": [
      "[132]\ttrain-auc:0.95313+0.00329087\ttest-auc:0.732122+0.0161699\n",
      "[133]\ttrain-auc:0.953695+0.00339308\ttest-auc:0.732433+0.0165753\n",
      "[134]\ttrain-auc:0.954002+0.00332642\ttest-auc:0.732987+0.016979\n",
      "[135]\ttrain-auc:0.954451+0.00315488\ttest-auc:0.731952+0.0167035\n",
      "[136]\ttrain-auc:0.954953+0.00309231\ttest-auc:0.732487+0.0167991\n",
      "[137]\ttrain-auc:0.955374+0.00288676\ttest-auc:0.732627+0.0166042\n",
      "[138]\ttrain-auc:0.955874+0.00274683\ttest-auc:0.73267+0.0162369\n",
      "[139]\ttrain-auc:0.956198+0.00282647\ttest-auc:0.732852+0.0162506\n",
      "[140]\ttrain-auc:0.956831+0.00280083\ttest-auc:0.733622+0.0164865\n",
      "[141]\ttrain-auc:0.957167+0.00281118\ttest-auc:0.733969+0.016484\n",
      "[142]\ttrain-auc:0.957695+0.00253038\ttest-auc:0.734038+0.0168361\n",
      "[143]\ttrain-auc:0.958251+0.00237433\ttest-auc:0.734323+0.0165391\n",
      "[144]\ttrain-auc:0.958585+0.00232573\ttest-auc:0.734273+0.0162076\n",
      "[145]\ttrain-auc:0.959095+0.00222646\ttest-auc:0.734445+0.0157094\n",
      "[146]\ttrain-auc:0.959509+0.00223675\ttest-auc:0.734806+0.0162584\n",
      "[147]\ttrain-auc:0.959709+0.0022814\ttest-auc:0.734742+0.0168815\n",
      "[148]\ttrain-auc:0.959956+0.00222942\ttest-auc:0.734714+0.0168499\n",
      "[149]\ttrain-auc:0.960472+0.00226749\ttest-auc:0.734601+0.0166931\n",
      "[150]\ttrain-auc:0.960814+0.00234078\ttest-auc:0.735429+0.0162303\n",
      "[151]\ttrain-auc:0.961038+0.00224969\ttest-auc:0.735516+0.0161437\n",
      "[152]\ttrain-auc:0.961577+0.00241837\ttest-auc:0.735053+0.0160171\n",
      "[153]\ttrain-auc:0.962118+0.00232781\ttest-auc:0.735512+0.0160894\n",
      "[154]\ttrain-auc:0.962359+0.00234809\ttest-auc:0.73523+0.0159019\n",
      "[155]\ttrain-auc:0.962863+0.00251909\ttest-auc:0.7351+0.0158808\n",
      "[156]\ttrain-auc:0.963442+0.00252009\ttest-auc:0.734935+0.0160065\n",
      "[157]\ttrain-auc:0.96375+0.00256797\ttest-auc:0.735207+0.0158324\n",
      "[158]\ttrain-auc:0.964238+0.00254963\ttest-auc:0.735441+0.0153902\n",
      "[159]\ttrain-auc:0.964533+0.00259632\ttest-auc:0.735268+0.0152917\n",
      "[160]\ttrain-auc:0.964769+0.00245068\ttest-auc:0.735379+0.0147794\n",
      "[161]\ttrain-auc:0.965121+0.00240887\ttest-auc:0.735554+0.0147928\n",
      "[162]\ttrain-auc:0.965275+0.00236266\ttest-auc:0.735335+0.0149297\n",
      "[163]\ttrain-auc:0.965638+0.00240492\ttest-auc:0.735142+0.014971\n",
      "[164]\ttrain-auc:0.965792+0.00246231\ttest-auc:0.735066+0.0149763\n",
      "[165]\ttrain-auc:0.966152+0.00248589\ttest-auc:0.735949+0.0147258\n",
      "[166]\ttrain-auc:0.9665+0.00239663\ttest-auc:0.73601+0.014272\n",
      "[167]\ttrain-auc:0.966934+0.00230351\ttest-auc:0.73632+0.014264\n",
      "[168]\ttrain-auc:0.96719+0.00232667\ttest-auc:0.736083+0.0143991\n",
      "[169]\ttrain-auc:0.967523+0.00225571\ttest-auc:0.735776+0.0143456\n",
      "[170]\ttrain-auc:0.967745+0.00228362\ttest-auc:0.735914+0.0143454\n",
      "[171]\ttrain-auc:0.968224+0.00226556\ttest-auc:0.736214+0.0150142\n",
      "[172]\ttrain-auc:0.968493+0.00226102\ttest-auc:0.735705+0.0146954\n",
      "[173]\ttrain-auc:0.968722+0.00220797\ttest-auc:0.735749+0.0149948\n",
      "[174]\ttrain-auc:0.969132+0.00222231\ttest-auc:0.736284+0.0151232\n",
      "[175]\ttrain-auc:0.969428+0.00233301\ttest-auc:0.737069+0.014763\n",
      "[176]\ttrain-auc:0.969733+0.0023372\ttest-auc:0.736662+0.0145511\n",
      "[177]\ttrain-auc:0.970092+0.00222886\ttest-auc:0.73656+0.0148567\n",
      "[178]\ttrain-auc:0.970388+0.00215222\ttest-auc:0.736632+0.0152285\n",
      "[179]\ttrain-auc:0.970721+0.00207112\ttest-auc:0.736744+0.0153988\n",
      "[180]\ttrain-auc:0.971025+0.00197785\ttest-auc:0.736644+0.0152197\n",
      "[181]\ttrain-auc:0.971284+0.00195973\ttest-auc:0.736616+0.0158886\n",
      "[182]\ttrain-auc:0.971695+0.00200677\ttest-auc:0.736881+0.0158861\n",
      "[183]\ttrain-auc:0.971905+0.00191061\ttest-auc:0.736836+0.0159242\n",
      "[184]\ttrain-auc:0.972226+0.00201036\ttest-auc:0.736775+0.0162014\n",
      "[185]\ttrain-auc:0.972481+0.00188331\ttest-auc:0.736685+0.0160069\n",
      "[186]\ttrain-auc:0.972842+0.00180369\ttest-auc:0.736366+0.0160879\n",
      "[187]\ttrain-auc:0.972971+0.00184303\ttest-auc:0.736285+0.0165016\n",
      "[188]\ttrain-auc:0.973243+0.00176374\ttest-auc:0.736759+0.0158228\n",
      "[189]\ttrain-auc:0.973557+0.00165326\ttest-auc:0.736805+0.0158912\n",
      "[190]\ttrain-auc:0.973786+0.0016027\ttest-auc:0.736756+0.0157952\n",
      "[191]\ttrain-auc:0.973981+0.00153322\ttest-auc:0.737001+0.0158579\n",
      "[192]\ttrain-auc:0.974226+0.00152583\ttest-auc:0.736809+0.0159005\n",
      "[193]\ttrain-auc:0.974421+0.00152775\ttest-auc:0.737229+0.0156278\n",
      "[194]\ttrain-auc:0.974645+0.00160945\ttest-auc:0.737427+0.0157905\n",
      "[195]\ttrain-auc:0.974789+0.00168632\ttest-auc:0.737349+0.0159816\n",
      "[196]\ttrain-auc:0.975063+0.00177637\ttest-auc:0.736941+0.0158047\n",
      "[197]\ttrain-auc:0.975272+0.00163619\ttest-auc:0.73675+0.0154018\n",
      "[198]\ttrain-auc:0.97543+0.00166899\ttest-auc:0.736808+0.015775\n",
      "[199]\ttrain-auc:0.975517+0.00160387\ttest-auc:0.736886+0.015836\n",
      "[200]\ttrain-auc:0.975614+0.00154929\ttest-auc:0.737149+0.0157268\n",
      "[201]\ttrain-auc:0.975782+0.00151833\ttest-auc:0.737122+0.0157858\n",
      "[202]\ttrain-auc:0.975943+0.00157149\ttest-auc:0.737066+0.0158842\n",
      "[203]\ttrain-auc:0.976067+0.00152443\ttest-auc:0.736679+0.015838\n",
      "[204]\ttrain-auc:0.976427+0.00139744\ttest-auc:0.737235+0.0156568\n",
      "[205]\ttrain-auc:0.976798+0.00140822\ttest-auc:0.73725+0.0154872\n",
      "[206]\ttrain-auc:0.976922+0.00136627\ttest-auc:0.736833+0.0158307\n",
      "[207]\ttrain-auc:0.977133+0.00135006\ttest-auc:0.736803+0.0154775\n",
      "[208]\ttrain-auc:0.977228+0.00135147\ttest-auc:0.73673+0.0152703\n",
      "[209]\ttrain-auc:0.977418+0.00129933\ttest-auc:0.736776+0.0153084\n",
      "[210]\ttrain-auc:0.97765+0.00128029\ttest-auc:0.736535+0.0155549\n",
      "[211]\ttrain-auc:0.977716+0.00126566\ttest-auc:0.736852+0.015707\n",
      "[212]\ttrain-auc:0.977923+0.00131767\ttest-auc:0.73671+0.0158742\n",
      "[213]\ttrain-auc:0.978115+0.00123398\ttest-auc:0.736781+0.0157963\n",
      "[214]\ttrain-auc:0.978462+0.00119118\ttest-auc:0.736683+0.0160004\n",
      "[215]\ttrain-auc:0.978671+0.00116358\ttest-auc:0.736706+0.0161826\n",
      "[216]\ttrain-auc:0.978749+0.00117539\ttest-auc:0.736196+0.0166343\n",
      "[217]\ttrain-auc:0.978957+0.00106177\ttest-auc:0.736298+0.016338\n",
      "[218]\ttrain-auc:0.979133+0.00102695\ttest-auc:0.736388+0.0165003\n",
      "[219]\ttrain-auc:0.979393+0.00106385\ttest-auc:0.736674+0.0165106\n",
      "[220]\ttrain-auc:0.979525+0.0011081\ttest-auc:0.737107+0.0165273\n",
      "[221]\ttrain-auc:0.979672+0.00102921\ttest-auc:0.737077+0.0161346\n",
      "[222]\ttrain-auc:0.979816+0.00102089\ttest-auc:0.73717+0.0163305\n",
      "[223]\ttrain-auc:0.980068+0.000957482\ttest-auc:0.737502+0.0167164\n",
      "[224]\ttrain-auc:0.980193+0.000857105\ttest-auc:0.737952+0.0170292\n",
      "[225]\ttrain-auc:0.980407+0.000811211\ttest-auc:0.737979+0.0169357\n",
      "[226]\ttrain-auc:0.980576+0.000862927\ttest-auc:0.738185+0.0164885\n",
      "[227]\ttrain-auc:0.980675+0.000835193\ttest-auc:0.738466+0.0165053\n",
      "[228]\ttrain-auc:0.98081+0.000825383\ttest-auc:0.738186+0.0164917\n",
      "[229]\ttrain-auc:0.981002+0.000846109\ttest-auc:0.737746+0.0166674\n",
      "[230]\ttrain-auc:0.981224+0.000810509\ttest-auc:0.737996+0.0168369\n",
      "[231]\ttrain-auc:0.981326+0.000848561\ttest-auc:0.737708+0.0168602\n",
      "[232]\ttrain-auc:0.981532+0.000810177\ttest-auc:0.737622+0.0168803\n",
      "[233]\ttrain-auc:0.981721+0.000699764\ttest-auc:0.737836+0.0167492\n",
      "[234]\ttrain-auc:0.981904+0.000741927\ttest-auc:0.738191+0.0164442\n",
      "[235]\ttrain-auc:0.982008+0.000701685\ttest-auc:0.737644+0.0163374\n",
      "[236]\ttrain-auc:0.982169+0.000732681\ttest-auc:0.737605+0.0163013\n",
      "[237]\ttrain-auc:0.982362+0.000691851\ttest-auc:0.737703+0.0165721\n",
      "[238]\ttrain-auc:0.982609+0.000691883\ttest-auc:0.737747+0.0162868\n",
      "[239]\ttrain-auc:0.982689+0.000648907\ttest-auc:0.737863+0.0164798\n",
      "[240]\ttrain-auc:0.982859+0.000620819\ttest-auc:0.738056+0.0166747\n",
      "[241]\ttrain-auc:0.983029+0.000591594\ttest-auc:0.738189+0.0166372\n",
      "[242]\ttrain-auc:0.983126+0.000604069\ttest-auc:0.738151+0.0168035\n",
      "[243]\ttrain-auc:0.983277+0.000674049\ttest-auc:0.73801+0.0165228\n",
      "[244]\ttrain-auc:0.983381+0.000672396\ttest-auc:0.738157+0.0165573\n",
      "[245]\ttrain-auc:0.983558+0.000701708\ttest-auc:0.738+0.0169039\n",
      "[246]\ttrain-auc:0.983623+0.000700231\ttest-auc:0.738124+0.0170229\n",
      "[247]\ttrain-auc:0.983782+0.000747286\ttest-auc:0.738282+0.0169929\n",
      "[248]\ttrain-auc:0.984002+0.00086437\ttest-auc:0.738634+0.0168128\n",
      "[249]\ttrain-auc:0.984186+0.000929812\ttest-auc:0.738326+0.0167285\n",
      "[250]\ttrain-auc:0.984314+0.000932082\ttest-auc:0.738141+0.0164284\n",
      "[251]\ttrain-auc:0.98436+0.000911322\ttest-auc:0.738329+0.0165239\n",
      "[252]\ttrain-auc:0.984546+0.000910684\ttest-auc:0.738056+0.0168009\n",
      "[253]\ttrain-auc:0.984736+0.000898537\ttest-auc:0.737703+0.0167803\n",
      "[254]\ttrain-auc:0.984951+0.000976502\ttest-auc:0.737768+0.016881\n",
      "[255]\ttrain-auc:0.985206+0.00101994\ttest-auc:0.738235+0.0171302\n",
      "[256]\ttrain-auc:0.985338+0.000989162\ttest-auc:0.738256+0.0169094\n",
      "[257]\ttrain-auc:0.985521+0.000899437\ttest-auc:0.738142+0.0170089\n",
      "[258]\ttrain-auc:0.985656+0.000877566\ttest-auc:0.738766+0.0169237\n",
      "[259]\ttrain-auc:0.985809+0.000823606\ttest-auc:0.738663+0.0171078\n",
      "[260]\ttrain-auc:0.985943+0.000814892\ttest-auc:0.738841+0.0174321\n"
     ]
    },
    {
     "name": "stdout",
     "output_type": "stream",
     "text": [
      "[261]\ttrain-auc:0.986029+0.000755319\ttest-auc:0.738971+0.01786\n",
      "[262]\ttrain-auc:0.986113+0.000750886\ttest-auc:0.739214+0.0180104\n",
      "[263]\ttrain-auc:0.986246+0.000677076\ttest-auc:0.739131+0.01784\n",
      "[264]\ttrain-auc:0.986274+0.000688706\ttest-auc:0.739113+0.0179996\n",
      "[265]\ttrain-auc:0.986415+0.000657687\ttest-auc:0.739048+0.018036\n",
      "[266]\ttrain-auc:0.986564+0.000619917\ttest-auc:0.739248+0.0183644\n",
      "[267]\ttrain-auc:0.986659+0.000590378\ttest-auc:0.739163+0.0182311\n",
      "[268]\ttrain-auc:0.986791+0.000636739\ttest-auc:0.739095+0.0181338\n",
      "[269]\ttrain-auc:0.986925+0.000465246\ttest-auc:0.739418+0.0176853\n",
      "[270]\ttrain-auc:0.987021+0.000428226\ttest-auc:0.739252+0.0174768\n",
      "[271]\ttrain-auc:0.98715+0.000426625\ttest-auc:0.739574+0.0173005\n",
      "[272]\ttrain-auc:0.987232+0.000422287\ttest-auc:0.739563+0.0177112\n",
      "[273]\ttrain-auc:0.987416+0.000450844\ttest-auc:0.739853+0.0177603\n",
      "[274]\ttrain-auc:0.987479+0.000459616\ttest-auc:0.739797+0.0175052\n",
      "[275]\ttrain-auc:0.987554+0.000443795\ttest-auc:0.739895+0.0178354\n",
      "[276]\ttrain-auc:0.987698+0.000480864\ttest-auc:0.739848+0.0173712\n",
      "[277]\ttrain-auc:0.987832+0.00047852\ttest-auc:0.739496+0.0175276\n",
      "[278]\ttrain-auc:0.987891+0.000478686\ttest-auc:0.739533+0.01752\n",
      "[279]\ttrain-auc:0.987962+0.000476948\ttest-auc:0.739573+0.0179127\n",
      "[280]\ttrain-auc:0.988061+0.000439413\ttest-auc:0.739368+0.0179667\n",
      "[281]\ttrain-auc:0.988164+0.000477471\ttest-auc:0.739589+0.0180477\n",
      "[282]\ttrain-auc:0.988209+0.000482035\ttest-auc:0.739652+0.0180525\n",
      "[283]\ttrain-auc:0.988262+0.000506166\ttest-auc:0.739864+0.018041\n",
      "[284]\ttrain-auc:0.988336+0.000499504\ttest-auc:0.739856+0.0178091\n",
      "[285]\ttrain-auc:0.988437+0.000529463\ttest-auc:0.739881+0.0177549\n",
      "[286]\ttrain-auc:0.988515+0.000519446\ttest-auc:0.739827+0.0178399\n",
      "[287]\ttrain-auc:0.98854+0.000548175\ttest-auc:0.73998+0.0179547\n",
      "[288]\ttrain-auc:0.988575+0.000532175\ttest-auc:0.74035+0.0180273\n",
      "[289]\ttrain-auc:0.988637+0.000539458\ttest-auc:0.740439+0.0180624\n",
      "[290]\ttrain-auc:0.988788+0.000536376\ttest-auc:0.740415+0.0183727\n",
      "[291]\ttrain-auc:0.98885+0.000514326\ttest-auc:0.740476+0.0189028\n",
      "[292]\ttrain-auc:0.988978+0.000538873\ttest-auc:0.740698+0.0186694\n",
      "[293]\ttrain-auc:0.989064+0.000519515\ttest-auc:0.740619+0.0184957\n",
      "[294]\ttrain-auc:0.989174+0.000561486\ttest-auc:0.741126+0.0186896\n",
      "[295]\ttrain-auc:0.989237+0.000556639\ttest-auc:0.741284+0.0184026\n",
      "[296]\ttrain-auc:0.989298+0.000613988\ttest-auc:0.741568+0.0184194\n",
      "[297]\ttrain-auc:0.989344+0.000582126\ttest-auc:0.741231+0.0185218\n",
      "[298]\ttrain-auc:0.989407+0.00059783\ttest-auc:0.74125+0.0187634\n",
      "[299]\ttrain-auc:0.989497+0.000562047\ttest-auc:0.741272+0.019014\n",
      "[300]\ttrain-auc:0.989625+0.000566831\ttest-auc:0.741211+0.019095\n",
      "[301]\ttrain-auc:0.989718+0.000556959\ttest-auc:0.741198+0.0191803\n",
      "[302]\ttrain-auc:0.989787+0.000555218\ttest-auc:0.741023+0.0190175\n",
      "[303]\ttrain-auc:0.989822+0.000567461\ttest-auc:0.740795+0.0187018\n",
      "[304]\ttrain-auc:0.989891+0.000540474\ttest-auc:0.740972+0.0188398\n",
      "[305]\ttrain-auc:0.989973+0.000511573\ttest-auc:0.741282+0.0190195\n",
      "[306]\ttrain-auc:0.990064+0.000474997\ttest-auc:0.741276+0.0192452\n",
      "[307]\ttrain-auc:0.990144+0.000504906\ttest-auc:0.741478+0.0191918\n",
      "[308]\ttrain-auc:0.990241+0.000522895\ttest-auc:0.741187+0.0191655\n",
      "[309]\ttrain-auc:0.990359+0.000521604\ttest-auc:0.741202+0.0194822\n",
      "[310]\ttrain-auc:0.990424+0.000527484\ttest-auc:0.741274+0.0194798\n",
      "[311]\ttrain-auc:0.990505+0.000526197\ttest-auc:0.74129+0.0194378\n",
      "[312]\ttrain-auc:0.990608+0.000531707\ttest-auc:0.741446+0.0193814\n",
      "[313]\ttrain-auc:0.990686+0.000523706\ttest-auc:0.74147+0.0194809\n",
      "[314]\ttrain-auc:0.990735+0.000528311\ttest-auc:0.741219+0.0192689\n",
      "[315]\ttrain-auc:0.990798+0.000515382\ttest-auc:0.741027+0.019384\n",
      "[316]\ttrain-auc:0.990901+0.000543493\ttest-auc:0.741076+0.0197607\n",
      "[317]\ttrain-auc:0.990953+0.000543037\ttest-auc:0.74111+0.0197049\n",
      "[318]\ttrain-auc:0.991053+0.000509899\ttest-auc:0.740954+0.0196663\n",
      "[319]\ttrain-auc:0.991123+0.000486291\ttest-auc:0.741119+0.0193885\n",
      "[320]\ttrain-auc:0.991214+0.000471815\ttest-auc:0.741066+0.0192922\n",
      "[321]\ttrain-auc:0.991259+0.000479864\ttest-auc:0.740496+0.0194505\n",
      "[322]\ttrain-auc:0.991317+0.000524793\ttest-auc:0.740557+0.0192216\n",
      "[323]\ttrain-auc:0.991372+0.000488825\ttest-auc:0.740487+0.019043\n",
      "[324]\ttrain-auc:0.991458+0.0004923\ttest-auc:0.740594+0.019026\n",
      "[325]\ttrain-auc:0.99153+0.000466005\ttest-auc:0.740729+0.0188635\n",
      "[326]\ttrain-auc:0.991594+0.000482484\ttest-auc:0.740738+0.0185818\n",
      "[327]\ttrain-auc:0.991676+0.000460698\ttest-auc:0.740682+0.0188693\n",
      "[328]\ttrain-auc:0.99173+0.000442707\ttest-auc:0.741034+0.0189074\n",
      "[329]\ttrain-auc:0.991807+0.000477508\ttest-auc:0.740975+0.0191227\n",
      "[330]\ttrain-auc:0.991845+0.000461022\ttest-auc:0.740956+0.0193179\n",
      "[331]\ttrain-auc:0.99191+0.000490292\ttest-auc:0.740873+0.0190302\n",
      "[332]\ttrain-auc:0.991956+0.000460856\ttest-auc:0.741012+0.019015\n",
      "[333]\ttrain-auc:0.991997+0.00044939\ttest-auc:0.740732+0.0191759\n",
      "[334]\ttrain-auc:0.992079+0.000418539\ttest-auc:0.740591+0.0192722\n",
      "[335]\ttrain-auc:0.992149+0.000443432\ttest-auc:0.740331+0.0193487\n",
      "[336]\ttrain-auc:0.992211+0.000427407\ttest-auc:0.740122+0.0195053\n",
      "[337]\ttrain-auc:0.992255+0.000451739\ttest-auc:0.740306+0.0192138\n",
      "[338]\ttrain-auc:0.992311+0.000449069\ttest-auc:0.740231+0.0193761\n",
      "[339]\ttrain-auc:0.992385+0.000425404\ttest-auc:0.740226+0.0195292\n",
      "[340]\ttrain-auc:0.992409+0.000409466\ttest-auc:0.740143+0.0193371\n",
      "[341]\ttrain-auc:0.992452+0.000390203\ttest-auc:0.740187+0.0194351\n",
      "[342]\ttrain-auc:0.992522+0.000367775\ttest-auc:0.740322+0.0193027\n",
      "[343]\ttrain-auc:0.992592+0.000334917\ttest-auc:0.740604+0.0191532\n",
      "[344]\ttrain-auc:0.992714+0.000354848\ttest-auc:0.74067+0.0192914\n",
      "[345]\ttrain-auc:0.992772+0.000321016\ttest-auc:0.740864+0.0191748\n",
      "\n",
      "Model Report\n",
      "Accuracy : 0.958859793689\n",
      "AUC Score (Train): 0.983245677822\n"
     ]
    },
    {
     "data": {
      "image/png": "[encoded data removed]",
      "text/plain": [
       "<matplotlib.figure.Figure at 0x1132f1450>"
      ]
     },
     "metadata": {},
     "output_type": "display_data"
    }
   ],
   "source": [
    "xgb_base = XGBClassifier(**xgb_base_params)\n",
    "model_fit(xgb_base, x_train_base, x_train_base.columns.values)"
   ]
  },
  {
   "cell_type": "markdown",
   "metadata": {},
   "source": [
    "It's clear that **345** is an optimal value for *n_estimators* for a learning rate of **0.1** (running xgb.cv() stops at the estimator with the highest cv score).\n",
    "\n",
    "Also note that XGBoost also places **F24** and **F13** as the most important features, which validates our decision to use these features for our PolynomialFeature transformed data."
   ]
  },
  {
   "cell_type": "markdown",
   "metadata": {},
   "source": [
    "###### Step 2: Optimize max_depth & min_child_weight"
   ]
  },
  {
   "cell_type": "code",
   "execution_count": 287,
   "metadata": {
    "collapsed": true
   },
   "outputs": [],
   "source": [
    "xgb_base_params[\"n_estimators\"] = 345"
   ]
  },
  {
   "cell_type": "code",
   "execution_count": 288,
   "metadata": {
    "collapsed": true
   },
   "outputs": [],
   "source": [
    "# refit model with optimized params\n",
    "xgb_base = XGBClassifier(**xgb_base_params)\n",
    "model_fit(xgb_base, x_train_base, x_train_base.columns.values, show_output=False)\n",
    "\n",
    "xgb_base_param_grid = {\n",
    "    \"max_depth\": range(3, 9, 1),\n",
    "    \"min_child_weight\": range(1, 6, 2)\n",
    "}"
   ]
  },
  {
   "cell_type": "code",
   "execution_count": 289,
   "metadata": {},
   "outputs": [
    {
     "data": {
      "text/plain": [
       "GridSearchCV(cv=5, error_score='raise',\n",
       "       estimator=XGBClassifier(base_score=0.5, booster='gbtree', colsample_bylevel=1,\n",
       "       colsample_bytree=0.8, gamma=0, learning_rate=0.1, max_delta_step=0,\n",
       "       max_depth=5, min_child_weight=1, missing=None, n_estimators=345,\n",
       "       n_jobs=1, nthread=4, objective='binary:logistic', random_state=0,\n",
       "       reg_alpha=0, reg_lambda=1, scale_pos_weight=1, seed=42, silent=True,\n",
       "       subsample=0.8),\n",
       "       fit_params={}, iid=True, n_jobs=1,\n",
       "       param_grid={'max_depth': [3, 4, 5, 6, 7, 8], 'min_child_weight': [1, 3, 5]},\n",
       "       pre_dispatch='2*n_jobs', refit=True, return_train_score=True,\n",
       "       scoring='roc_auc', verbose=0)"
      ]
     },
     "execution_count": 289,
     "metadata": {},
     "output_type": "execute_result"
    }
   ],
   "source": [
    "gs_xgb_base = GridSearchCV(estimator=xgb_base, param_grid=xgb_base_param_grid, cv=n_splits, scoring=\"roc_auc\")\n",
    "gs_xgb_base.fit(x_train_base, y_train_base)"
   ]
  },
  {
   "cell_type": "code",
   "execution_count": 290,
   "metadata": {},
   "outputs": [
    {
     "name": "stdout",
     "output_type": "stream",
     "text": [
      "{'max_depth': 6, 'min_child_weight': 1}\n",
      "0.7527988661\n"
     ]
    }
   ],
   "source": [
    "print gs_xgb_base.best_params_\n",
    "print gs_xgb_base.best_score_"
   ]
  },
  {
   "cell_type": "code",
   "execution_count": 291,
   "metadata": {
    "collapsed": true
   },
   "outputs": [],
   "source": [
    "xgb_base_params[\"max_depth\"] = 6\n",
    "xgb_base_params[\"min_child_weight\"] = 1"
   ]
  },
  {
   "cell_type": "code",
   "execution_count": 293,
   "metadata": {
    "collapsed": true
   },
   "outputs": [],
   "source": [
    "# refit model with optimized params\n",
    "xgb_base = XGBClassifier(**xgb_base_params)"
   ]
  },
  {
   "cell_type": "markdown",
   "metadata": {},
   "source": [
    "We'll now look for optimum values by searching 1 above and 1 below the initial best parameters."
   ]
  },
  {
   "cell_type": "code",
   "execution_count": 294,
   "metadata": {
    "collapsed": true
   },
   "outputs": [],
   "source": [
    "xgb_base_param_grid_2 = {\n",
    "    \"max_depth\": [8, 9, 10],\n",
    "    \"min_child_weight\": [0, 1, 2, 3, 4]\n",
    "}"
   ]
  },
  {
   "cell_type": "code",
   "execution_count": 295,
   "metadata": {},
   "outputs": [
    {
     "data": {
      "text/plain": [
       "GridSearchCV(cv=5, error_score='raise',\n",
       "       estimator=XGBClassifier(base_score=0.5, booster='gbtree', colsample_bylevel=1,\n",
       "       colsample_bytree=0.8, gamma=0, learning_rate=0.1, max_delta_step=0,\n",
       "       max_depth=6, min_child_weight=1, missing=None, n_estimators=345,\n",
       "       n_jobs=1, nthread=4, objective='binary:logistic', random_state=0,\n",
       "       reg_alpha=0, reg_lambda=1, scale_pos_weight=1, seed=42, silent=True,\n",
       "       subsample=0.8),\n",
       "       fit_params={}, iid=True, n_jobs=1,\n",
       "       param_grid={'max_depth': [8, 9, 10], 'min_child_weight': [0, 1, 2, 3, 4]},\n",
       "       pre_dispatch='2*n_jobs', refit=True, return_train_score=True,\n",
       "       scoring='roc_auc', verbose=0)"
      ]
     },
     "execution_count": 295,
     "metadata": {},
     "output_type": "execute_result"
    }
   ],
   "source": [
    "gs_xgb_base_2 = GridSearchCV(estimator=xgb_base, param_grid=xgb_base_param_grid_2, cv=n_splits, scoring=\"roc_auc\")\n",
    "gs_xgb_base_2.fit(x_train_base, y_train_base)"
   ]
  },
  {
   "cell_type": "code",
   "execution_count": 296,
   "metadata": {},
   "outputs": [
    {
     "name": "stdout",
     "output_type": "stream",
     "text": [
      "{'max_depth': 8, 'min_child_weight': 2}\n",
      "0.75347678825\n"
     ]
    }
   ],
   "source": [
    "print gs_xgb_base_2.best_params_\n",
    "print gs_xgb_base_2.best_score_"
   ]
  },
  {
   "cell_type": "code",
   "execution_count": 297,
   "metadata": {
    "collapsed": true
   },
   "outputs": [],
   "source": [
    "# Looks like we got a better max_depth!\n",
    "xgb_base_params[\"max_depth\"] = 8\n",
    "xgb_base_params[\"min_child_weight\"] = 2"
   ]
  },
  {
   "cell_type": "markdown",
   "metadata": {},
   "source": [
    "To ensure **min_child_weight** isn't just a local optimum, we'll test values larger than our initial test range."
   ]
  },
  {
   "cell_type": "code",
   "execution_count": 298,
   "metadata": {
    "collapsed": true
   },
   "outputs": [],
   "source": [
    "xgb_base_param_grid_2b = {\n",
    "    \"min_child_weight\": [1, 2, 6, 8, 10, 12]\n",
    "}"
   ]
  },
  {
   "cell_type": "code",
   "execution_count": 299,
   "metadata": {
    "collapsed": true
   },
   "outputs": [],
   "source": [
    "# refit model with optimized params\n",
    "xgb_base = XGBClassifier(**xgb_base_params)"
   ]
  },
  {
   "cell_type": "code",
   "execution_count": 300,
   "metadata": {},
   "outputs": [
    {
     "data": {
      "text/plain": [
       "GridSearchCV(cv=5, error_score='raise',\n",
       "       estimator=XGBClassifier(base_score=0.5, booster='gbtree', colsample_bylevel=1,\n",
       "       colsample_bytree=0.8, gamma=0, learning_rate=0.1, max_delta_step=0,\n",
       "       max_depth=8, min_child_weight=2, missing=None, n_estimators=345,\n",
       "       n_jobs=1, nthread=4, objective='binary:logistic', random_state=0,\n",
       "       reg_alpha=0, reg_lambda=1, scale_pos_weight=1, seed=42, silent=True,\n",
       "       subsample=0.8),\n",
       "       fit_params={}, iid=True, n_jobs=1,\n",
       "       param_grid={'min_child_weight': [1, 2, 6, 8, 10, 12]},\n",
       "       pre_dispatch='2*n_jobs', refit=True, return_train_score=True,\n",
       "       scoring='roc_auc', verbose=0)"
      ]
     },
     "execution_count": 300,
     "metadata": {},
     "output_type": "execute_result"
    }
   ],
   "source": [
    "gs_xgb_base_2b = GridSearchCV(estimator=xgb_base, param_grid=xgb_base_param_grid_2b, cv=n_splits, scoring=\"roc_auc\")\n",
    "gs_xgb_base_2b.fit(x_train_base, y_train_base)"
   ]
  },
  {
   "cell_type": "code",
   "execution_count": 302,
   "metadata": {},
   "outputs": [
    {
     "name": "stdout",
     "output_type": "stream",
     "text": [
      "{'min_child_weight': 2}\n",
      "0.75347678825\n"
     ]
    }
   ],
   "source": [
    "# Looks like we were right!\n",
    "print gs_xgb_base_2b.best_params_\n",
    "print gs_xgb_base_2b.best_score_"
   ]
  },
  {
   "cell_type": "markdown",
   "metadata": {},
   "source": [
    "###### Step 3: Tune Gamma"
   ]
  },
  {
   "cell_type": "code",
   "execution_count": 303,
   "metadata": {
    "collapsed": true
   },
   "outputs": [],
   "source": [
    "xgb_base_param_grid_3 = {\n",
    "    \"gamma\": [(i / 10.0) for i in range(0,5)]\n",
    "}"
   ]
  },
  {
   "cell_type": "code",
   "execution_count": 304,
   "metadata": {},
   "outputs": [
    {
     "data": {
      "text/plain": [
       "GridSearchCV(cv=5, error_score='raise',\n",
       "       estimator=XGBClassifier(base_score=0.5, booster='gbtree', colsample_bylevel=1,\n",
       "       colsample_bytree=0.8, gamma=0, learning_rate=0.1, max_delta_step=0,\n",
       "       max_depth=8, min_child_weight=2, missing=None, n_estimators=345,\n",
       "       n_jobs=1, nthread=4, objective='binary:logistic', random_state=0,\n",
       "       reg_alpha=0, reg_lambda=1, scale_pos_weight=1, seed=42, silent=True,\n",
       "       subsample=0.8),\n",
       "       fit_params={}, iid=True, n_jobs=1,\n",
       "       param_grid={'gamma': [0.0, 0.1, 0.2, 0.3, 0.4]},\n",
       "       pre_dispatch='2*n_jobs', refit=True, return_train_score=True,\n",
       "       scoring='roc_auc', verbose=0)"
      ]
     },
     "execution_count": 304,
     "metadata": {},
     "output_type": "execute_result"
    }
   ],
   "source": [
    "gs_xgb_base_3 = GridSearchCV(estimator=xgb_base, param_grid=xgb_base_param_grid_3, cv=n_splits, scoring=\"roc_auc\")\n",
    "gs_xgb_base_3.fit(x_train_base, y_train_base)"
   ]
  },
  {
   "cell_type": "code",
   "execution_count": 305,
   "metadata": {},
   "outputs": [
    {
     "name": "stdout",
     "output_type": "stream",
     "text": [
      "{'gamma': 0.2}\n",
      "0.755026850826\n"
     ]
    }
   ],
   "source": [
    "print gs_xgb_base_3.best_params_\n",
    "print gs_xgb_base_3.best_score_"
   ]
  },
  {
   "cell_type": "code",
   "execution_count": 306,
   "metadata": {
    "collapsed": true
   },
   "outputs": [],
   "source": [
    "xgb_base_params[\"gamma\"] = 0.2"
   ]
  },
  {
   "cell_type": "markdown",
   "metadata": {},
   "source": [
    "###### Step 4: Tune subsample & colsample_bytree\n",
    "\n",
    "Like **max_depth**, we'll use a 2-step process of searching across **0.1** increments, then a **0.5** change above and below our initial optimum."
   ]
  },
  {
   "cell_type": "code",
   "execution_count": 307,
   "metadata": {
    "collapsed": true
   },
   "outputs": [],
   "source": [
    "# refit model with optimized params\n",
    "xgb_base = XGBClassifier(**xgb_base_params)"
   ]
  },
  {
   "cell_type": "code",
   "execution_count": 308,
   "metadata": {
    "collapsed": true
   },
   "outputs": [],
   "source": [
    "# Step one\n",
    "xgb_base_param_grid_4a = {\n",
    "    \"subsample\": [0.6, 0.7, 0.8, 0.9, 1.0],\n",
    "#     \"colsample_bytree\": [0.6, 0.7, 0.8, 0.9, 1.0]\n",
    "    \"colsample_bytree\": [0.1, 0.2, 0.3, 0.4, 0.5, 0.6]\n",
    "}"
   ]
  },
  {
   "cell_type": "code",
   "execution_count": 309,
   "metadata": {},
   "outputs": [
    {
     "data": {
      "text/plain": [
       "GridSearchCV(cv=5, error_score='raise',\n",
       "       estimator=XGBClassifier(base_score=0.5, booster='gbtree', colsample_bylevel=1,\n",
       "       colsample_bytree=0.8, gamma=0.2, learning_rate=0.1,\n",
       "       max_delta_step=0, max_depth=8, min_child_weight=2, missing=None,\n",
       "       n_estimators=345, n_jobs=1, nthread=4, objective='binary:logistic',\n",
       "       random_state=0, reg_alpha=0, reg_lambda=1, scale_pos_weight=1,\n",
       "       seed=42, silent=True, subsample=0.8),\n",
       "       fit_params={}, iid=True, n_jobs=1,\n",
       "       param_grid={'subsample': [0.6, 0.7, 0.8, 0.9, 1.0], 'colsample_bytree': [0.1, 0.2, 0.3, 0.4, 0.5, 0.6]},\n",
       "       pre_dispatch='2*n_jobs', refit=True, return_train_score=True,\n",
       "       scoring='roc_auc', verbose=0)"
      ]
     },
     "execution_count": 309,
     "metadata": {},
     "output_type": "execute_result"
    }
   ],
   "source": [
    "gs_xgb_base_4a = GridSearchCV(estimator=xgb_base, param_grid=xgb_base_param_grid_4a, cv=n_splits, scoring=\"roc_auc\")\n",
    "gs_xgb_base_4a.fit(x_train_base, y_train_base)"
   ]
  },
  {
   "cell_type": "code",
   "execution_count": 310,
   "metadata": {},
   "outputs": [
    {
     "name": "stdout",
     "output_type": "stream",
     "text": [
      "{'subsample': 0.6, 'colsample_bytree': 0.5}\n",
      "0.758964979608\n"
     ]
    }
   ],
   "source": [
    "print gs_xgb_base_4a.best_params_\n",
    "print gs_xgb_base_4a.best_score_"
   ]
  },
  {
   "cell_type": "code",
   "execution_count": 311,
   "metadata": {
    "collapsed": true
   },
   "outputs": [],
   "source": [
    "xgb_base_params[\"colsample_bytree\"] = 0.5\n",
    "xgb_base_params[\"subsample\"] = 0.6"
   ]
  },
  {
   "cell_type": "code",
   "execution_count": 312,
   "metadata": {
    "collapsed": true
   },
   "outputs": [],
   "source": [
    "# refit model with optimized params\n",
    "xgb_base = XGBClassifier(**xgb_base_params)\n",
    "model_fit(xgb_base, x_train_base, x_train_base.columns.values, show_output=False)"
   ]
  },
  {
   "cell_type": "code",
   "execution_count": 313,
   "metadata": {
    "collapsed": true
   },
   "outputs": [],
   "source": [
    "# Step two\n",
    "xgb_base_param_grid_4b = {\n",
    "    \"subsample\": [0.55, 0.6, 0.65],\n",
    "    \"colsample_bytree\": [0.45, 0.5, 0.55]\n",
    "}"
   ]
  },
  {
   "cell_type": "code",
   "execution_count": 314,
   "metadata": {},
   "outputs": [
    {
     "data": {
      "text/plain": [
       "GridSearchCV(cv=5, error_score='raise',\n",
       "       estimator=XGBClassifier(base_score=0.5, booster='gbtree', colsample_bylevel=1,\n",
       "       colsample_bytree=0.5, gamma=0.2, learning_rate=0.1,\n",
       "       max_delta_step=0, max_depth=8, min_child_weight=2, missing=None,\n",
       "       n_estimators=198, n_jobs=1, nthread=4, objective='binary:logistic',\n",
       "       random_state=0, reg_alpha=0, reg_lambda=1, scale_pos_weight=1,\n",
       "       seed=42, silent=True, subsample=0.6),\n",
       "       fit_params={}, iid=True, n_jobs=1,\n",
       "       param_grid={'subsample': [0.55, 0.6, 0.65], 'colsample_bytree': [0.45, 0.5, 0.55]},\n",
       "       pre_dispatch='2*n_jobs', refit=True, return_train_score=True,\n",
       "       scoring='roc_auc', verbose=0)"
      ]
     },
     "execution_count": 314,
     "metadata": {},
     "output_type": "execute_result"
    }
   ],
   "source": [
    "gs_xgb_base_4b = GridSearchCV(estimator=xgb_base, param_grid=xgb_base_param_grid_4b, cv=n_splits, scoring=\"roc_auc\")\n",
    "gs_xgb_base_4b.fit(x_train_base, y_train_base)"
   ]
  },
  {
   "cell_type": "code",
   "execution_count": 315,
   "metadata": {},
   "outputs": [
    {
     "name": "stdout",
     "output_type": "stream",
     "text": [
      "{'subsample': 0.6, 'colsample_bytree': 0.5}\n",
      "0.760606208777\n"
     ]
    }
   ],
   "source": [
    "print gs_xgb_base_4b.best_params_\n",
    "print gs_xgb_base_4b.best_score_"
   ]
  },
  {
   "cell_type": "markdown",
   "metadata": {},
   "source": [
    "Looks like our initial optimum for these two features were the best values.\n",
    "\n",
    "I'm going to go ahead and stop tuning additional parameters, as I don't want to potentially \"overtune\" my model."
   ]
  },
  {
   "cell_type": "code",
   "execution_count": 106,
   "metadata": {
    "collapsed": true
   },
   "outputs": [],
   "source": [
    "xgb_reduced_params = {\n",
    "    \"learning_rate\": 0.1,\n",
    "    \"n_estimators\": 229,\n",
    "    \"max_depth\": 7,\n",
    "    \"min_child_weight\": 1,\n",
    "    \"gamma\": 0,\n",
    "    \"subsample\": 0.8,\n",
    "    \"colsample_bytree\": 0.8,\n",
    "    \"objective\": 'binary:logistic', # Used for classifier XGB\n",
    "    \"seed\": seed    \n",
    "}"
   ]
  },
  {
   "cell_type": "markdown",
   "metadata": {},
   "source": [
    "#### Reduced Data"
   ]
  },
  {
   "cell_type": "code",
   "execution_count": 107,
   "metadata": {},
   "outputs": [
    {
     "name": "stdout",
     "output_type": "stream",
     "text": [
      "[0]\ttrain-auc:0.604859+0.0115665\ttest-auc:0.569184+0.0210273\n",
      "[1]\ttrain-auc:0.659087+0.0154884\ttest-auc:0.61831+0.0227992\n",
      "[2]\ttrain-auc:0.677499+0.0185481\ttest-auc:0.634375+0.0229382\n",
      "[3]\ttrain-auc:0.709068+0.018317\ttest-auc:0.644236+0.0171043\n",
      "[4]\ttrain-auc:0.723054+0.0148437\ttest-auc:0.648138+0.0169671\n",
      "[5]\ttrain-auc:0.737346+0.0145855\ttest-auc:0.656079+0.0211889\n",
      "[6]\ttrain-auc:0.75042+0.0135611\ttest-auc:0.661954+0.0187058\n",
      "[7]\ttrain-auc:0.762994+0.0168056\ttest-auc:0.666173+0.019176\n",
      "[8]\ttrain-auc:0.776203+0.0169675\ttest-auc:0.669331+0.0186325\n",
      "[9]\ttrain-auc:0.788541+0.0187255\ttest-auc:0.675292+0.0225784\n",
      "[10]\ttrain-auc:0.794514+0.018529\ttest-auc:0.675634+0.0209599\n",
      "[11]\ttrain-auc:0.807115+0.0191574\ttest-auc:0.685818+0.0218406\n",
      "[12]\ttrain-auc:0.815343+0.0175986\ttest-auc:0.685432+0.0207488\n",
      "[13]\ttrain-auc:0.824008+0.0143143\ttest-auc:0.688078+0.0192154\n",
      "[14]\ttrain-auc:0.831517+0.012437\ttest-auc:0.695751+0.0192475\n",
      "[15]\ttrain-auc:0.837681+0.0113154\ttest-auc:0.697464+0.0209801\n",
      "[16]\ttrain-auc:0.847577+0.0103635\ttest-auc:0.702768+0.0223182\n",
      "[17]\ttrain-auc:0.854851+0.00720528\ttest-auc:0.707469+0.0243468\n",
      "[18]\ttrain-auc:0.858727+0.0061039\ttest-auc:0.708995+0.0220621\n",
      "[19]\ttrain-auc:0.863165+0.00512016\ttest-auc:0.711788+0.0230676\n",
      "[20]\ttrain-auc:0.870831+0.0060652\ttest-auc:0.713414+0.0230069\n",
      "[21]\ttrain-auc:0.877327+0.00623961\ttest-auc:0.715966+0.0213657\n",
      "[22]\ttrain-auc:0.881445+0.00715714\ttest-auc:0.715751+0.0225404\n",
      "[23]\ttrain-auc:0.885536+0.00658708\ttest-auc:0.716237+0.0212377\n",
      "[24]\ttrain-auc:0.888008+0.00657147\ttest-auc:0.717282+0.019322\n",
      "[25]\ttrain-auc:0.892035+0.00682978\ttest-auc:0.720322+0.0181363\n",
      "[26]\ttrain-auc:0.89551+0.00698127\ttest-auc:0.724931+0.0181146\n",
      "[27]\ttrain-auc:0.899194+0.00657498\ttest-auc:0.724788+0.0195942\n",
      "[28]\ttrain-auc:0.903552+0.00736032\ttest-auc:0.725604+0.0191189\n",
      "[29]\ttrain-auc:0.905799+0.00809972\ttest-auc:0.726243+0.019384\n",
      "[30]\ttrain-auc:0.9083+0.00756125\ttest-auc:0.728221+0.0195823\n",
      "[31]\ttrain-auc:0.911648+0.00832663\ttest-auc:0.729053+0.0171757\n",
      "[32]\ttrain-auc:0.913553+0.00755098\ttest-auc:0.729261+0.015778\n",
      "[33]\ttrain-auc:0.916305+0.00615513\ttest-auc:0.73068+0.0162004\n",
      "[34]\ttrain-auc:0.918776+0.00622698\ttest-auc:0.732186+0.015221\n",
      "[35]\ttrain-auc:0.920698+0.00626012\ttest-auc:0.733868+0.0160428\n",
      "[36]\ttrain-auc:0.922834+0.00622979\ttest-auc:0.736004+0.0168817\n",
      "[37]\ttrain-auc:0.924515+0.00583842\ttest-auc:0.736041+0.0160157\n",
      "[38]\ttrain-auc:0.927166+0.0048478\ttest-auc:0.736032+0.017774\n",
      "[39]\ttrain-auc:0.929616+0.00523203\ttest-auc:0.737174+0.0179879\n",
      "[40]\ttrain-auc:0.931133+0.00497832\ttest-auc:0.737064+0.018508\n",
      "[41]\ttrain-auc:0.932611+0.00452293\ttest-auc:0.738914+0.0186842\n",
      "[42]\ttrain-auc:0.9344+0.0043251\ttest-auc:0.739395+0.0198571\n",
      "[43]\ttrain-auc:0.935782+0.00458993\ttest-auc:0.738732+0.020064\n",
      "[44]\ttrain-auc:0.937476+0.00549283\ttest-auc:0.73876+0.020415\n",
      "[45]\ttrain-auc:0.939042+0.00534735\ttest-auc:0.737692+0.0211607\n",
      "[46]\ttrain-auc:0.940913+0.00540097\ttest-auc:0.738213+0.0205875\n",
      "[47]\ttrain-auc:0.94237+0.00487613\ttest-auc:0.73925+0.0202531\n",
      "[48]\ttrain-auc:0.944291+0.00521983\ttest-auc:0.74092+0.0197967\n",
      "[49]\ttrain-auc:0.94551+0.00496272\ttest-auc:0.741958+0.0197632\n",
      "[50]\ttrain-auc:0.946695+0.00411105\ttest-auc:0.740847+0.0203327\n",
      "[51]\ttrain-auc:0.947914+0.00435329\ttest-auc:0.741187+0.0201552\n",
      "[52]\ttrain-auc:0.949273+0.00417337\ttest-auc:0.743467+0.019861\n",
      "[53]\ttrain-auc:0.950022+0.00432114\ttest-auc:0.743591+0.0199376\n",
      "[54]\ttrain-auc:0.950569+0.00468322\ttest-auc:0.743164+0.0202896\n",
      "[55]\ttrain-auc:0.951589+0.00485446\ttest-auc:0.74328+0.020171\n",
      "[56]\ttrain-auc:0.952348+0.0049075\ttest-auc:0.743801+0.0202483\n",
      "[57]\ttrain-auc:0.95382+0.00453519\ttest-auc:0.744577+0.0194303\n",
      "[58]\ttrain-auc:0.955078+0.00463018\ttest-auc:0.745713+0.0191765\n",
      "[59]\ttrain-auc:0.956693+0.0037955\ttest-auc:0.745048+0.0181212\n",
      "[60]\ttrain-auc:0.957875+0.00362234\ttest-auc:0.743672+0.0185124\n",
      "[61]\ttrain-auc:0.958907+0.00343806\ttest-auc:0.744298+0.0194055\n",
      "[62]\ttrain-auc:0.959938+0.00369227\ttest-auc:0.745097+0.0189302\n",
      "[63]\ttrain-auc:0.961099+0.00333458\ttest-auc:0.745011+0.0185659\n",
      "[64]\ttrain-auc:0.961779+0.00326097\ttest-auc:0.745087+0.0186045\n",
      "[65]\ttrain-auc:0.963007+0.00313584\ttest-auc:0.746028+0.0185285\n",
      "[66]\ttrain-auc:0.963857+0.00338427\ttest-auc:0.746104+0.018099\n",
      "[67]\ttrain-auc:0.964859+0.00300713\ttest-auc:0.745938+0.0184033\n",
      "[68]\ttrain-auc:0.966041+0.00257671\ttest-auc:0.746409+0.0189842\n",
      "[69]\ttrain-auc:0.966675+0.00235677\ttest-auc:0.746952+0.0189379\n",
      "[70]\ttrain-auc:0.9675+0.0022019\ttest-auc:0.747295+0.0197434\n",
      "[71]\ttrain-auc:0.968294+0.00236187\ttest-auc:0.747497+0.0189428\n",
      "[72]\ttrain-auc:0.969053+0.00229184\ttest-auc:0.747585+0.0191644\n",
      "[73]\ttrain-auc:0.969822+0.0022369\ttest-auc:0.747675+0.0191907\n",
      "[74]\ttrain-auc:0.97045+0.00222233\ttest-auc:0.748234+0.0187365\n",
      "[75]\ttrain-auc:0.971136+0.00194898\ttest-auc:0.748674+0.0200758\n",
      "[76]\ttrain-auc:0.971523+0.00201655\ttest-auc:0.749304+0.0208262\n",
      "[77]\ttrain-auc:0.972077+0.00228891\ttest-auc:0.749721+0.0215953\n",
      "[78]\ttrain-auc:0.972812+0.00255584\ttest-auc:0.749573+0.0211991\n",
      "[79]\ttrain-auc:0.973691+0.00265837\ttest-auc:0.749414+0.0212033\n",
      "[80]\ttrain-auc:0.974535+0.0027085\ttest-auc:0.749591+0.0208399\n",
      "[81]\ttrain-auc:0.974794+0.00268762\ttest-auc:0.748864+0.0210553\n",
      "[82]\ttrain-auc:0.975252+0.00253785\ttest-auc:0.748244+0.0216837\n",
      "[83]\ttrain-auc:0.975742+0.00255987\ttest-auc:0.748467+0.0226654\n",
      "[84]\ttrain-auc:0.976176+0.00258778\ttest-auc:0.748709+0.022254\n",
      "[85]\ttrain-auc:0.97679+0.00245334\ttest-auc:0.748984+0.0226617\n",
      "[86]\ttrain-auc:0.977006+0.00243286\ttest-auc:0.748688+0.0223191\n",
      "[87]\ttrain-auc:0.977554+0.00229941\ttest-auc:0.749318+0.0225409\n",
      "[88]\ttrain-auc:0.978207+0.00202763\ttest-auc:0.749398+0.0226095\n",
      "[89]\ttrain-auc:0.978604+0.00185407\ttest-auc:0.750292+0.0221841\n",
      "[90]\ttrain-auc:0.979115+0.00210058\ttest-auc:0.750073+0.0212279\n",
      "[91]\ttrain-auc:0.979485+0.00194924\ttest-auc:0.750472+0.0207802\n",
      "[92]\ttrain-auc:0.97971+0.00186053\ttest-auc:0.750805+0.0202972\n",
      "[93]\ttrain-auc:0.980103+0.00189274\ttest-auc:0.751224+0.01938\n",
      "[94]\ttrain-auc:0.980439+0.00193202\ttest-auc:0.751367+0.0190321\n",
      "[95]\ttrain-auc:0.981172+0.00173744\ttest-auc:0.752338+0.0186581\n",
      "[96]\ttrain-auc:0.981616+0.00155803\ttest-auc:0.751569+0.0184339\n",
      "[97]\ttrain-auc:0.98215+0.0014319\ttest-auc:0.751472+0.0186366\n",
      "[98]\ttrain-auc:0.982512+0.00148612\ttest-auc:0.752056+0.0182676\n",
      "[99]\ttrain-auc:0.982928+0.00157381\ttest-auc:0.75205+0.0180897\n",
      "[100]\ttrain-auc:0.983201+0.00158541\ttest-auc:0.752173+0.0179063\n",
      "[101]\ttrain-auc:0.983622+0.00153833\ttest-auc:0.751863+0.0177814\n",
      "[102]\ttrain-auc:0.983984+0.00146735\ttest-auc:0.752073+0.017865\n",
      "[103]\ttrain-auc:0.984129+0.00141506\ttest-auc:0.751898+0.0175587\n",
      "[104]\ttrain-auc:0.984554+0.00138007\ttest-auc:0.752335+0.0181068\n",
      "[105]\ttrain-auc:0.984949+0.00145775\ttest-auc:0.751539+0.0182409\n",
      "[106]\ttrain-auc:0.985095+0.00150626\ttest-auc:0.751585+0.0184368\n",
      "[107]\ttrain-auc:0.985551+0.00154336\ttest-auc:0.751298+0.0191444\n",
      "[108]\ttrain-auc:0.985826+0.00150955\ttest-auc:0.751355+0.0194546\n",
      "[109]\ttrain-auc:0.986141+0.00152976\ttest-auc:0.751626+0.0201781\n",
      "[110]\ttrain-auc:0.986355+0.00154833\ttest-auc:0.751937+0.0204509\n",
      "[111]\ttrain-auc:0.986556+0.00160143\ttest-auc:0.752228+0.0205257\n",
      "[112]\ttrain-auc:0.986832+0.00150922\ttest-auc:0.751735+0.0211342\n",
      "[113]\ttrain-auc:0.987072+0.00136139\ttest-auc:0.751934+0.0208834\n",
      "[114]\ttrain-auc:0.987258+0.00133706\ttest-auc:0.752657+0.0213686\n",
      "[115]\ttrain-auc:0.987507+0.0013501\ttest-auc:0.75242+0.0212587\n",
      "[116]\ttrain-auc:0.987758+0.00129616\ttest-auc:0.752987+0.0216099\n",
      "[117]\ttrain-auc:0.988008+0.00131873\ttest-auc:0.75321+0.0214631\n",
      "[118]\ttrain-auc:0.988282+0.00123817\ttest-auc:0.753153+0.0210244\n",
      "[119]\ttrain-auc:0.988524+0.00131068\ttest-auc:0.753413+0.0210686\n",
      "[120]\ttrain-auc:0.988725+0.00133602\ttest-auc:0.753639+0.0209423\n",
      "[121]\ttrain-auc:0.988878+0.00134557\ttest-auc:0.753958+0.0202014\n",
      "[122]\ttrain-auc:0.989039+0.00131208\ttest-auc:0.75415+0.0200854\n",
      "[123]\ttrain-auc:0.989266+0.00130632\ttest-auc:0.754165+0.0205203\n",
      "[124]\ttrain-auc:0.989573+0.0012011\ttest-auc:0.754276+0.0209017\n",
      "[125]\ttrain-auc:0.989727+0.00119003\ttest-auc:0.754382+0.020789\n",
      "[126]\ttrain-auc:0.989967+0.00112455\ttest-auc:0.754348+0.021034\n",
      "[127]\ttrain-auc:0.990154+0.00117874\ttest-auc:0.754899+0.0208258\n",
      "[128]\ttrain-auc:0.990326+0.00113536\ttest-auc:0.754908+0.0203608\n",
      "[129]\ttrain-auc:0.990452+0.00116587\ttest-auc:0.754959+0.020367\n",
      "[130]\ttrain-auc:0.990668+0.000990714\ttest-auc:0.754958+0.0202518\n"
     ]
    },
    {
     "name": "stdout",
     "output_type": "stream",
     "text": [
      "[131]\ttrain-auc:0.990868+0.000958546\ttest-auc:0.755133+0.0201684\n",
      "[132]\ttrain-auc:0.991054+0.000988321\ttest-auc:0.755282+0.0202837\n",
      "[133]\ttrain-auc:0.991301+0.00100656\ttest-auc:0.755053+0.0199371\n",
      "[134]\ttrain-auc:0.991473+0.00106957\ttest-auc:0.754815+0.0205458\n",
      "[135]\ttrain-auc:0.991653+0.00101588\ttest-auc:0.755419+0.0202542\n",
      "[136]\ttrain-auc:0.991834+0.00102193\ttest-auc:0.755633+0.0204052\n",
      "[137]\ttrain-auc:0.991937+0.000967401\ttest-auc:0.756076+0.0206709\n",
      "[138]\ttrain-auc:0.992118+0.000886917\ttest-auc:0.756138+0.0202882\n",
      "[139]\ttrain-auc:0.992283+0.00090592\ttest-auc:0.755834+0.0203828\n",
      "[140]\ttrain-auc:0.992407+0.00091613\ttest-auc:0.755745+0.0200895\n",
      "[141]\ttrain-auc:0.992511+0.000901713\ttest-auc:0.755793+0.0200249\n",
      "[142]\ttrain-auc:0.99262+0.000920446\ttest-auc:0.755628+0.0200494\n",
      "[143]\ttrain-auc:0.992766+0.000858893\ttest-auc:0.755966+0.0200203\n",
      "[144]\ttrain-auc:0.992932+0.000854817\ttest-auc:0.755586+0.0205182\n",
      "[145]\ttrain-auc:0.993057+0.00080883\ttest-auc:0.755636+0.0206149\n",
      "[146]\ttrain-auc:0.993137+0.000796844\ttest-auc:0.755742+0.0206008\n",
      "[147]\ttrain-auc:0.993268+0.000737717\ttest-auc:0.75576+0.0204457\n",
      "[148]\ttrain-auc:0.993374+0.00071704\ttest-auc:0.755821+0.020864\n",
      "[149]\ttrain-auc:0.993468+0.000686755\ttest-auc:0.755434+0.0214754\n",
      "[150]\ttrain-auc:0.993651+0.000654068\ttest-auc:0.756066+0.0213726\n",
      "[151]\ttrain-auc:0.9938+0.000535109\ttest-auc:0.75606+0.0216716\n",
      "[152]\ttrain-auc:0.99398+0.000535554\ttest-auc:0.755676+0.021273\n",
      "[153]\ttrain-auc:0.994073+0.000589179\ttest-auc:0.755343+0.0211678\n",
      "[154]\ttrain-auc:0.99419+0.000580616\ttest-auc:0.755318+0.020864\n",
      "[155]\ttrain-auc:0.994306+0.000535839\ttest-auc:0.755796+0.020616\n",
      "[156]\ttrain-auc:0.994384+0.000521871\ttest-auc:0.755904+0.0206688\n",
      "[157]\ttrain-auc:0.994457+0.000485654\ttest-auc:0.755781+0.0208054\n",
      "[158]\ttrain-auc:0.994547+0.000517419\ttest-auc:0.755648+0.0205129\n",
      "[159]\ttrain-auc:0.994681+0.000515804\ttest-auc:0.755872+0.0202555\n",
      "[160]\ttrain-auc:0.994824+0.000529551\ttest-auc:0.755937+0.0202305\n",
      "[161]\ttrain-auc:0.994952+0.000542214\ttest-auc:0.756268+0.0204886\n",
      "[162]\ttrain-auc:0.995088+0.000550062\ttest-auc:0.756303+0.0203069\n",
      "[163]\ttrain-auc:0.995173+0.000536971\ttest-auc:0.756474+0.019962\n",
      "[164]\ttrain-auc:0.995289+0.000506159\ttest-auc:0.75633+0.0198727\n",
      "[165]\ttrain-auc:0.995361+0.000488919\ttest-auc:0.756405+0.0195474\n",
      "[166]\ttrain-auc:0.995423+0.000457999\ttest-auc:0.756596+0.019401\n",
      "[167]\ttrain-auc:0.995498+0.000434047\ttest-auc:0.756207+0.0196754\n",
      "[168]\ttrain-auc:0.9956+0.00041017\ttest-auc:0.756445+0.0194692\n",
      "[169]\ttrain-auc:0.995716+0.000389006\ttest-auc:0.75619+0.0194427\n",
      "[170]\ttrain-auc:0.995804+0.000342814\ttest-auc:0.756759+0.0194627\n",
      "[171]\ttrain-auc:0.995892+0.000361514\ttest-auc:0.756479+0.019573\n",
      "[172]\ttrain-auc:0.996006+0.000327567\ttest-auc:0.756641+0.0197903\n",
      "[173]\ttrain-auc:0.99607+0.000326225\ttest-auc:0.757142+0.0194539\n",
      "[174]\ttrain-auc:0.996157+0.000306169\ttest-auc:0.757095+0.018888\n",
      "[175]\ttrain-auc:0.996222+0.000287918\ttest-auc:0.757073+0.0187147\n",
      "[176]\ttrain-auc:0.996295+0.000297505\ttest-auc:0.757205+0.0186805\n",
      "[177]\ttrain-auc:0.996355+0.000300305\ttest-auc:0.757032+0.018642\n",
      "[178]\ttrain-auc:0.996416+0.000318117\ttest-auc:0.757224+0.0185834\n",
      "[179]\ttrain-auc:0.996464+0.000336914\ttest-auc:0.757516+0.0185573\n",
      "[180]\ttrain-auc:0.996507+0.000330955\ttest-auc:0.757768+0.0182014\n",
      "[181]\ttrain-auc:0.996546+0.000313341\ttest-auc:0.757547+0.0183608\n",
      "[182]\ttrain-auc:0.996643+0.000270795\ttest-auc:0.757465+0.0183825\n",
      "[183]\ttrain-auc:0.996698+0.000247795\ttest-auc:0.75715+0.0189481\n",
      "[184]\ttrain-auc:0.996744+0.000259084\ttest-auc:0.756808+0.0190404\n",
      "[185]\ttrain-auc:0.996793+0.000239642\ttest-auc:0.756546+0.0193591\n",
      "[186]\ttrain-auc:0.996879+0.000200127\ttest-auc:0.756791+0.0191042\n",
      "[187]\ttrain-auc:0.996921+0.00018206\ttest-auc:0.756577+0.0189806\n",
      "[188]\ttrain-auc:0.996966+0.000194704\ttest-auc:0.756641+0.0188894\n",
      "[189]\ttrain-auc:0.997046+0.000170995\ttest-auc:0.756563+0.0184595\n",
      "[190]\ttrain-auc:0.997105+0.000160096\ttest-auc:0.756325+0.0183263\n",
      "[191]\ttrain-auc:0.997131+0.000163974\ttest-auc:0.756218+0.0186635\n",
      "[192]\ttrain-auc:0.997194+0.000161601\ttest-auc:0.755825+0.0189445\n",
      "[193]\ttrain-auc:0.997238+0.000170621\ttest-auc:0.755933+0.0186593\n",
      "[194]\ttrain-auc:0.997285+0.000161427\ttest-auc:0.75605+0.0183408\n",
      "[195]\ttrain-auc:0.997353+0.000167421\ttest-auc:0.756086+0.0181882\n",
      "[196]\ttrain-auc:0.997422+0.000183854\ttest-auc:0.756252+0.017874\n",
      "[197]\ttrain-auc:0.997474+0.000181363\ttest-auc:0.75663+0.0176664\n",
      "[198]\ttrain-auc:0.997542+0.000187613\ttest-auc:0.756411+0.0177886\n",
      "[199]\ttrain-auc:0.997615+0.000172555\ttest-auc:0.756626+0.0181324\n",
      "[200]\ttrain-auc:0.997646+0.000194966\ttest-auc:0.756592+0.0181892\n",
      "[201]\ttrain-auc:0.997695+0.000190915\ttest-auc:0.756516+0.0181866\n",
      "[202]\ttrain-auc:0.997776+0.000156593\ttest-auc:0.756607+0.0181645\n",
      "[203]\ttrain-auc:0.997817+0.000158868\ttest-auc:0.756576+0.0182754\n",
      "[204]\ttrain-auc:0.997839+0.000141048\ttest-auc:0.75636+0.0180266\n",
      "[205]\ttrain-auc:0.997873+0.000140121\ttest-auc:0.756395+0.0177578\n",
      "[206]\ttrain-auc:0.997913+0.000123115\ttest-auc:0.756519+0.0176626\n",
      "[207]\ttrain-auc:0.997925+0.000121031\ttest-auc:0.756745+0.0176214\n",
      "[208]\ttrain-auc:0.997954+0.000116343\ttest-auc:0.756948+0.017774\n",
      "[209]\ttrain-auc:0.998004+0.000117205\ttest-auc:0.757336+0.0178351\n",
      "[210]\ttrain-auc:0.99804+0.000123031\ttest-auc:0.757087+0.0176752\n",
      "[211]\ttrain-auc:0.998083+0.000118593\ttest-auc:0.75695+0.0176467\n",
      "[212]\ttrain-auc:0.998133+9.6907e-05\ttest-auc:0.756952+0.0173702\n",
      "[213]\ttrain-auc:0.998161+0.00011027\ttest-auc:0.756901+0.0173852\n",
      "[214]\ttrain-auc:0.998207+0.000120984\ttest-auc:0.756855+0.017687\n",
      "[215]\ttrain-auc:0.998241+0.000149765\ttest-auc:0.75676+0.0178683\n",
      "[216]\ttrain-auc:0.99828+0.000158165\ttest-auc:0.756632+0.0182362\n",
      "[217]\ttrain-auc:0.998302+0.000146398\ttest-auc:0.756448+0.0182987\n",
      "[218]\ttrain-auc:0.998344+0.000113298\ttest-auc:0.75659+0.0181865\n",
      "[219]\ttrain-auc:0.998385+0.000113862\ttest-auc:0.756609+0.0184552\n",
      "[220]\ttrain-auc:0.998404+0.000119053\ttest-auc:0.756472+0.0186061\n",
      "[221]\ttrain-auc:0.998431+0.000117857\ttest-auc:0.756097+0.0183935\n",
      "[222]\ttrain-auc:0.998466+0.000123862\ttest-auc:0.756511+0.0182182\n",
      "[223]\ttrain-auc:0.99849+0.000124426\ttest-auc:0.75654+0.0184721\n",
      "[224]\ttrain-auc:0.998514+0.00013556\ttest-auc:0.756099+0.0187004\n",
      "[225]\ttrain-auc:0.99854+0.000134722\ttest-auc:0.756183+0.0190199\n",
      "[226]\ttrain-auc:0.998563+0.000143523\ttest-auc:0.756582+0.018588\n",
      "[227]\ttrain-auc:0.998588+0.000116796\ttest-auc:0.756651+0.0186879\n",
      "[228]\ttrain-auc:0.998615+0.0001284\ttest-auc:0.756529+0.0187535\n",
      "\n",
      "Model Report\n",
      "Accuracy : 0.976072758347\n",
      "AUC Score (Train): 0.997658031415\n"
     ]
    },
    {
     "data": {
      "image/png": "[encoded data removed]",
      "text/plain": [
       "<matplotlib.figure.Figure at 0x7f55c27c4110>"
      ]
     },
     "metadata": {},
     "output_type": "display_data"
    }
   ],
   "source": [
    "xgb_reduced = XGBClassifier(**xgb_reduced_params)\n",
    "model_fit(xgb_reduced, x_train_reduced, x_train_reduced.columns.values)"
   ]
  },
  {
   "cell_type": "code",
   "execution_count": 108,
   "metadata": {},
   "outputs": [
    {
     "name": "stdout",
     "output_type": "stream",
     "text": [
      "Fitting 5 folds for each of 18 candidates, totalling 90 fits\n"
     ]
    },
    {
     "name": "stderr",
     "output_type": "stream",
     "text": [
      "[Parallel(n_jobs=1)]: Done  90 out of  90 | elapsed:  2.4min finished\n"
     ]
    },
    {
     "data": {
      "text/plain": [
       "GridSearchCV(cv=5, error_score='raise',\n",
       "       estimator=XGBClassifier(base_score=0.5, booster='gbtree', colsample_bylevel=1,\n",
       "       colsample_bytree=0.8, gamma=0, learning_rate=0.1, max_delta_step=0,\n",
       "       max_depth=7, min_child_weight=1, missing=None, n_estimators=229,\n",
       "       n_jobs=1, nthread=None, objective='binary:logistic', random_state=0,\n",
       "       reg_alpha=0, reg_lambda=1, scale_pos_weight=1, seed=42, silent=True,\n",
       "       subsample=0.8),\n",
       "       fit_params=None, iid=True, n_jobs=1,\n",
       "       param_grid={'max_depth': [3, 4, 5, 6, 7, 8], 'min_child_weight': [1, 3, 5]},\n",
       "       pre_dispatch='2*n_jobs', refit=True, return_train_score='warn',\n",
       "       scoring='roc_auc', verbose=1)"
      ]
     },
     "execution_count": 108,
     "metadata": {},
     "output_type": "execute_result"
    }
   ],
   "source": [
    "xgb_reduced = XGBClassifier(**xgb_reduced_params)\n",
    "\n",
    "gs_md_mcw = {\n",
    "    \"max_depth\": range(3, 9, 1),\n",
    "    \"min_child_weight\": range(1, 6, 2)\n",
    "}\n",
    "\n",
    "gs_md_mcw = GridSearchCV(estimator=xgb_reduced, param_grid=gs_md_mcw, cv=n_splits, scoring=\"roc_auc\", verbose=1)\n",
    "gs_md_mcw.fit(x_train_reduced, y_train_reduced)"
   ]
  },
  {
   "cell_type": "code",
   "execution_count": 109,
   "metadata": {},
   "outputs": [
    {
     "name": "stdout",
     "output_type": "stream",
     "text": [
      "{'max_depth': 7, 'min_child_weight': 1}\n",
      "0.7592573880980192\n"
     ]
    }
   ],
   "source": [
    "print gs_md_mcw.best_params_\n",
    "print gs_md_mcw.best_score_"
   ]
  },
  {
   "cell_type": "code",
   "execution_count": null,
   "metadata": {
    "collapsed": true
   },
   "outputs": [],
   "source": []
  },
  {
   "cell_type": "code",
   "execution_count": null,
   "metadata": {
    "collapsed": true
   },
   "outputs": [],
   "source": []
  },
  {
   "cell_type": "code",
   "execution_count": 110,
   "metadata": {},
   "outputs": [
    {
     "data": {
      "text/plain": [
       "GridSearchCV(cv=5, error_score='raise',\n",
       "       estimator=XGBClassifier(base_score=0.5, booster='gbtree', colsample_bylevel=1,\n",
       "       colsample_bytree=0.8, gamma=0, learning_rate=0.1, max_delta_step=0,\n",
       "       max_depth=7, min_child_weight=1, missing=None, n_estimators=229,\n",
       "       n_jobs=1, nthread=None, objective='binary:logistic', random_state=0,\n",
       "       reg_alpha=0, reg_lambda=1, scale_pos_weight=1, seed=42, silent=True,\n",
       "       subsample=0.8),\n",
       "       fit_params=None, iid=True, n_jobs=1,\n",
       "       param_grid={'gamma': [0.0, 0.1, 0.2, 0.3, 0.4]},\n",
       "       pre_dispatch='2*n_jobs', refit=True, return_train_score='warn',\n",
       "       scoring='roc_auc', verbose=0)"
      ]
     },
     "execution_count": 110,
     "metadata": {},
     "output_type": "execute_result"
    }
   ],
   "source": [
    "xgb_reduced = XGBClassifier(**xgb_reduced_params)\n",
    "\n",
    "gs_gamma = {\n",
    "    \"gamma\": [(i / 10.0) for i in range(0, 5)]\n",
    "}\n",
    "\n",
    "gs_gamma = GridSearchCV(estimator=xgb_reduced, param_grid=gs_gamma, cv=n_splits, scoring=\"roc_auc\")\n",
    "gs_gamma.fit(x_train_reduced, y_train_reduced)"
   ]
  },
  {
   "cell_type": "code",
   "execution_count": 111,
   "metadata": {},
   "outputs": [
    {
     "name": "stdout",
     "output_type": "stream",
     "text": [
      "{'gamma': 0.0}\n",
      "0.7592573880980192\n"
     ]
    }
   ],
   "source": [
    "print gs_gamma.best_params_\n",
    "print gs_gamma.best_score_"
   ]
  },
  {
   "cell_type": "code",
   "execution_count": null,
   "metadata": {},
   "outputs": [
    {
     "name": "stdout",
     "output_type": "stream",
     "text": [
      "Fitting 5 folds for each of 121 candidates, totalling 605 fits\n"
     ]
    }
   ],
   "source": [
    "xgb_reduced = XGBClassifier(**xgb_reduced_params)\n",
    "\n",
    "gs_ss_cb = {\n",
    "    \"subsample\": [0.3, 0.35, 0.4, 0.45, 0.5, 0.55, 0.6, 0.65, 0.7, 0.75, 0.8],\n",
    "    \"colsample_bytree\": [0.3, 0.35, 0.4, 0.45, 0.5, 0.55, 0.6, 0.65, 0.7, 0.75, 0.8]\n",
    "}\n",
    "\n",
    "gs_ss_cb = GridSearchCV(estimator=xgb_reduced, param_grid=gs_ss_cb, cv=n_splits, scoring=\"roc_auc\", verbose=1)\n",
    "gs_ss_cb.fit(x_train_reduced, y_train_reduced)"
   ]
  },
  {
   "cell_type": "code",
   "execution_count": null,
   "metadata": {
    "collapsed": true
   },
   "outputs": [],
   "source": [
    "print gs_ss_cb.best_params_\n",
    "print gs_ss_cb_.best_score_"
   ]
  },
  {
   "cell_type": "code",
   "execution_count": null,
   "metadata": {
    "collapsed": true
   },
   "outputs": [],
   "source": []
  },
  {
   "cell_type": "code",
   "execution_count": 320,
   "metadata": {},
   "outputs": [
    {
     "name": "stdout",
     "output_type": "stream",
     "text": [
      "[0]\ttrain-auc:0.588732+0.0445711\ttest-auc:0.556247+0.0311332\n",
      "[1]\ttrain-auc:0.623309+0.0167707\ttest-auc:0.590098+0.0277272\n",
      "[2]\ttrain-auc:0.653503+0.0205951\ttest-auc:0.605385+0.0186744\n",
      "[3]\ttrain-auc:0.68926+0.0161559\ttest-auc:0.623131+0.0264495\n",
      "[4]\ttrain-auc:0.705613+0.0192298\ttest-auc:0.632425+0.0231408\n",
      "[5]\ttrain-auc:0.722734+0.0227619\ttest-auc:0.640985+0.0243647\n",
      "[6]\ttrain-auc:0.743683+0.0123186\ttest-auc:0.653325+0.0200526\n",
      "[7]\ttrain-auc:0.757845+0.0166277\ttest-auc:0.66298+0.0273795\n",
      "[8]\ttrain-auc:0.768449+0.0178894\ttest-auc:0.664696+0.0219355\n",
      "[9]\ttrain-auc:0.778746+0.0199252\ttest-auc:0.667579+0.0182021\n",
      "[10]\ttrain-auc:0.787262+0.0176863\ttest-auc:0.672672+0.0164161\n",
      "[11]\ttrain-auc:0.799912+0.0169491\ttest-auc:0.681199+0.0151337\n",
      "[12]\ttrain-auc:0.812346+0.0215248\ttest-auc:0.683189+0.0213145\n",
      "[13]\ttrain-auc:0.823799+0.0151065\ttest-auc:0.685175+0.0226265\n",
      "[14]\ttrain-auc:0.831566+0.0134702\ttest-auc:0.692093+0.0251216\n",
      "[15]\ttrain-auc:0.839317+0.0149714\ttest-auc:0.696895+0.028448\n",
      "[16]\ttrain-auc:0.847307+0.0134464\ttest-auc:0.69773+0.0275789\n",
      "[17]\ttrain-auc:0.854724+0.00927234\ttest-auc:0.700444+0.0235386\n",
      "[18]\ttrain-auc:0.859104+0.00810325\ttest-auc:0.699931+0.022702\n",
      "[19]\ttrain-auc:0.862769+0.00871408\ttest-auc:0.703278+0.0216141\n",
      "[20]\ttrain-auc:0.868082+0.00961607\ttest-auc:0.705502+0.0214821\n",
      "[21]\ttrain-auc:0.873001+0.00827294\ttest-auc:0.706726+0.0203204\n",
      "[22]\ttrain-auc:0.878764+0.00730014\ttest-auc:0.708776+0.0206292\n",
      "[23]\ttrain-auc:0.883056+0.00831424\ttest-auc:0.712126+0.0185364\n",
      "[24]\ttrain-auc:0.886751+0.00606346\ttest-auc:0.717962+0.0193879\n",
      "[25]\ttrain-auc:0.887971+0.00691224\ttest-auc:0.720555+0.0163333\n",
      "[26]\ttrain-auc:0.892255+0.00661417\ttest-auc:0.724548+0.0133734\n",
      "[27]\ttrain-auc:0.894737+0.00514117\ttest-auc:0.727662+0.0138546\n",
      "[28]\ttrain-auc:0.896556+0.00420401\ttest-auc:0.726514+0.0138748\n",
      "[29]\ttrain-auc:0.899069+0.00377902\ttest-auc:0.726877+0.0123821\n",
      "[30]\ttrain-auc:0.901539+0.0027513\ttest-auc:0.727889+0.0108924\n",
      "[31]\ttrain-auc:0.904454+0.00212796\ttest-auc:0.730032+0.0109714\n",
      "[32]\ttrain-auc:0.90647+0.00226647\ttest-auc:0.733999+0.0104769\n",
      "[33]\ttrain-auc:0.907397+0.00310862\ttest-auc:0.733423+0.0118248\n",
      "[34]\ttrain-auc:0.90962+0.00298925\ttest-auc:0.734443+0.0113453\n",
      "[35]\ttrain-auc:0.912301+0.00269801\ttest-auc:0.7361+0.00880271\n",
      "[36]\ttrain-auc:0.916015+0.00296505\ttest-auc:0.736789+0.0104982\n",
      "[37]\ttrain-auc:0.91816+0.00336705\ttest-auc:0.737175+0.0114259\n",
      "[38]\ttrain-auc:0.920046+0.00323683\ttest-auc:0.738686+0.0136277\n",
      "[39]\ttrain-auc:0.922298+0.00302333\ttest-auc:0.737506+0.0136288\n",
      "[40]\ttrain-auc:0.923586+0.00316196\ttest-auc:0.73907+0.0137057\n",
      "[41]\ttrain-auc:0.925832+0.00352063\ttest-auc:0.738963+0.0148077\n",
      "[42]\ttrain-auc:0.927483+0.00321112\ttest-auc:0.740499+0.0150612\n",
      "[43]\ttrain-auc:0.928354+0.00267151\ttest-auc:0.739259+0.0164162\n",
      "[44]\ttrain-auc:0.929484+0.00263969\ttest-auc:0.739813+0.0154421\n",
      "[45]\ttrain-auc:0.930989+0.00299383\ttest-auc:0.739823+0.016376\n",
      "[46]\ttrain-auc:0.933276+0.00233472\ttest-auc:0.739594+0.0166262\n",
      "[47]\ttrain-auc:0.935145+0.00200195\ttest-auc:0.740797+0.0161842\n",
      "[48]\ttrain-auc:0.936384+0.00196576\ttest-auc:0.740475+0.0178623\n",
      "[49]\ttrain-auc:0.937494+0.00161362\ttest-auc:0.740724+0.0179706\n",
      "[50]\ttrain-auc:0.938771+0.00135452\ttest-auc:0.74031+0.0182062\n",
      "[51]\ttrain-auc:0.940029+0.00125471\ttest-auc:0.740297+0.0184406\n",
      "[52]\ttrain-auc:0.941468+0.00129435\ttest-auc:0.739984+0.0192561\n",
      "[53]\ttrain-auc:0.942565+0.00193405\ttest-auc:0.739649+0.0212749\n",
      "[54]\ttrain-auc:0.944043+0.00185539\ttest-auc:0.738861+0.0214501\n",
      "[55]\ttrain-auc:0.945188+0.00159602\ttest-auc:0.739967+0.021625\n",
      "[56]\ttrain-auc:0.946116+0.00163696\ttest-auc:0.73998+0.0226317\n",
      "[57]\ttrain-auc:0.946784+0.00171704\ttest-auc:0.740479+0.0222635\n",
      "[58]\ttrain-auc:0.948147+0.0022885\ttest-auc:0.741705+0.0213775\n",
      "[59]\ttrain-auc:0.949128+0.00249382\ttest-auc:0.74191+0.0213679\n",
      "[60]\ttrain-auc:0.950018+0.00246465\ttest-auc:0.740914+0.0229298\n",
      "[61]\ttrain-auc:0.950913+0.0023401\ttest-auc:0.740027+0.0240748\n",
      "[62]\ttrain-auc:0.951803+0.00212091\ttest-auc:0.740191+0.0231532\n",
      "[63]\ttrain-auc:0.952511+0.00236654\ttest-auc:0.740718+0.0235735\n",
      "[64]\ttrain-auc:0.953148+0.00243263\ttest-auc:0.741346+0.0227753\n",
      "[65]\ttrain-auc:0.953918+0.0023756\ttest-auc:0.741049+0.0225835\n",
      "[66]\ttrain-auc:0.954463+0.00265913\ttest-auc:0.742348+0.0225691\n",
      "[67]\ttrain-auc:0.955557+0.00268451\ttest-auc:0.743151+0.0223793\n",
      "[68]\ttrain-auc:0.956245+0.00244018\ttest-auc:0.743543+0.0225525\n",
      "[69]\ttrain-auc:0.956943+0.00255234\ttest-auc:0.744205+0.0217457\n",
      "[70]\ttrain-auc:0.957733+0.00237678\ttest-auc:0.744199+0.0219183\n",
      "[71]\ttrain-auc:0.958475+0.00238299\ttest-auc:0.743505+0.0217881\n",
      "[72]\ttrain-auc:0.959256+0.00254534\ttest-auc:0.744309+0.0211484\n",
      "[73]\ttrain-auc:0.960215+0.00268248\ttest-auc:0.743443+0.0213244\n",
      "[74]\ttrain-auc:0.961122+0.00254343\ttest-auc:0.742867+0.0207473\n",
      "[75]\ttrain-auc:0.961748+0.00240052\ttest-auc:0.742325+0.0211964\n",
      "[76]\ttrain-auc:0.962349+0.00249802\ttest-auc:0.74172+0.0210251\n",
      "[77]\ttrain-auc:0.962855+0.00260525\ttest-auc:0.741848+0.0205497\n",
      "[78]\ttrain-auc:0.963299+0.00232974\ttest-auc:0.742242+0.0204379\n",
      "[79]\ttrain-auc:0.964215+0.00232263\ttest-auc:0.742447+0.0208353\n",
      "[80]\ttrain-auc:0.964833+0.0023139\ttest-auc:0.742595+0.0207865\n",
      "[81]\ttrain-auc:0.965356+0.00231903\ttest-auc:0.742726+0.0208991\n",
      "[82]\ttrain-auc:0.96606+0.00217788\ttest-auc:0.743748+0.0209178\n",
      "[83]\ttrain-auc:0.966498+0.00218671\ttest-auc:0.743518+0.0201402\n",
      "[84]\ttrain-auc:0.967317+0.00230216\ttest-auc:0.744137+0.0207399\n",
      "[85]\ttrain-auc:0.967808+0.00210669\ttest-auc:0.744739+0.0206064\n",
      "[86]\ttrain-auc:0.968357+0.00195967\ttest-auc:0.744973+0.0200871\n",
      "[87]\ttrain-auc:0.968647+0.00202119\ttest-auc:0.745321+0.0192828\n",
      "[88]\ttrain-auc:0.969093+0.00196273\ttest-auc:0.745453+0.0192485\n",
      "[89]\ttrain-auc:0.969514+0.00184831\ttest-auc:0.745818+0.0191576\n",
      "[90]\ttrain-auc:0.969999+0.00190568\ttest-auc:0.745827+0.0192565\n",
      "[91]\ttrain-auc:0.970579+0.00210617\ttest-auc:0.745509+0.0195069\n",
      "[92]\ttrain-auc:0.971423+0.00221588\ttest-auc:0.746482+0.0194035\n",
      "[93]\ttrain-auc:0.971904+0.00210579\ttest-auc:0.746292+0.0194943\n",
      "[94]\ttrain-auc:0.972423+0.00196858\ttest-auc:0.74683+0.0199021\n",
      "[95]\ttrain-auc:0.972763+0.00167946\ttest-auc:0.747185+0.0193157\n",
      "[96]\ttrain-auc:0.97321+0.00154898\ttest-auc:0.746845+0.0190169\n",
      "[97]\ttrain-auc:0.973664+0.00171955\ttest-auc:0.747316+0.018798\n",
      "[98]\ttrain-auc:0.974152+0.0018476\ttest-auc:0.746872+0.0190525\n",
      "[99]\ttrain-auc:0.974535+0.00185165\ttest-auc:0.747424+0.0194824\n",
      "[100]\ttrain-auc:0.974964+0.0018419\ttest-auc:0.747208+0.0191762\n",
      "[101]\ttrain-auc:0.97542+0.00173318\ttest-auc:0.747507+0.0191813\n",
      "[102]\ttrain-auc:0.9758+0.0016858\ttest-auc:0.747588+0.0202313\n",
      "[103]\ttrain-auc:0.976135+0.00168602\ttest-auc:0.747349+0.0203816\n",
      "[104]\ttrain-auc:0.976472+0.00174222\ttest-auc:0.747478+0.0211022\n",
      "[105]\ttrain-auc:0.976833+0.00173099\ttest-auc:0.747375+0.0209746\n",
      "[106]\ttrain-auc:0.976988+0.00173304\ttest-auc:0.747642+0.0212995\n",
      "[107]\ttrain-auc:0.97753+0.0016877\ttest-auc:0.747748+0.0205667\n",
      "[108]\ttrain-auc:0.978053+0.00162996\ttest-auc:0.74754+0.0208952\n",
      "[109]\ttrain-auc:0.978353+0.00164118\ttest-auc:0.747824+0.0207493\n",
      "[110]\ttrain-auc:0.978634+0.00160183\ttest-auc:0.748749+0.020861\n",
      "[111]\ttrain-auc:0.978846+0.00161831\ttest-auc:0.748612+0.0211794\n",
      "[112]\ttrain-auc:0.979241+0.00162871\ttest-auc:0.748349+0.0208093\n",
      "[113]\ttrain-auc:0.979562+0.00143387\ttest-auc:0.748061+0.0209578\n",
      "[114]\ttrain-auc:0.979828+0.00131349\ttest-auc:0.748004+0.020814\n",
      "[115]\ttrain-auc:0.980223+0.0014049\ttest-auc:0.747543+0.0211023\n",
      "[116]\ttrain-auc:0.980566+0.00148817\ttest-auc:0.747265+0.0219418\n",
      "[117]\ttrain-auc:0.980801+0.00140062\ttest-auc:0.74696+0.0217563\n",
      "[118]\ttrain-auc:0.981065+0.00140059\ttest-auc:0.746334+0.021824\n",
      "[119]\ttrain-auc:0.9815+0.00138387\ttest-auc:0.746386+0.0219893\n",
      "[120]\ttrain-auc:0.981926+0.00147907\ttest-auc:0.746744+0.0222903\n",
      "[121]\ttrain-auc:0.982236+0.00157654\ttest-auc:0.746587+0.0218632\n",
      "[122]\ttrain-auc:0.982471+0.00148842\ttest-auc:0.746487+0.0223671\n",
      "[123]\ttrain-auc:0.982831+0.00148579\ttest-auc:0.746721+0.0222537\n",
      "[124]\ttrain-auc:0.983201+0.00147786\ttest-auc:0.745929+0.0227565\n",
      "[125]\ttrain-auc:0.983576+0.00126135\ttest-auc:0.746103+0.0227355\n",
      "[126]\ttrain-auc:0.983832+0.00132983\ttest-auc:0.745678+0.0231439\n",
      "[127]\ttrain-auc:0.984128+0.00131088\ttest-auc:0.74554+0.0229376\n",
      "[128]\ttrain-auc:0.984488+0.00133224\ttest-auc:0.746041+0.0219792\n",
      "[129]\ttrain-auc:0.98456+0.00129304\ttest-auc:0.745568+0.0218133\n",
      "[130]\ttrain-auc:0.984857+0.00131947\ttest-auc:0.746245+0.0216346\n"
     ]
    },
    {
     "name": "stdout",
     "output_type": "stream",
     "text": [
      "[131]\ttrain-auc:0.985147+0.001368\ttest-auc:0.746219+0.0219636\n",
      "[132]\ttrain-auc:0.985415+0.00125046\ttest-auc:0.746416+0.0222086\n",
      "[133]\ttrain-auc:0.985639+0.00130871\ttest-auc:0.747364+0.0217226\n",
      "[134]\ttrain-auc:0.985756+0.00127722\ttest-auc:0.747115+0.0216481\n",
      "[135]\ttrain-auc:0.985916+0.00137565\ttest-auc:0.746238+0.0218985\n",
      "[136]\ttrain-auc:0.986136+0.0013386\ttest-auc:0.746371+0.0223992\n",
      "[137]\ttrain-auc:0.986411+0.00141939\ttest-auc:0.746447+0.0228062\n",
      "[138]\ttrain-auc:0.986625+0.00125654\ttest-auc:0.74689+0.0224862\n",
      "[139]\ttrain-auc:0.986826+0.00119185\ttest-auc:0.747012+0.0221535\n",
      "[140]\ttrain-auc:0.987018+0.00126022\ttest-auc:0.746757+0.0223804\n",
      "[141]\ttrain-auc:0.987195+0.00132105\ttest-auc:0.747325+0.0229101\n",
      "[142]\ttrain-auc:0.987414+0.00138701\ttest-auc:0.746967+0.0232305\n",
      "[143]\ttrain-auc:0.987705+0.00139651\ttest-auc:0.746667+0.0233493\n",
      "[144]\ttrain-auc:0.987889+0.00137269\ttest-auc:0.746945+0.0235182\n",
      "[145]\ttrain-auc:0.988117+0.0013919\ttest-auc:0.747408+0.0230846\n",
      "[146]\ttrain-auc:0.988311+0.00133633\ttest-auc:0.747611+0.023376\n",
      "[147]\ttrain-auc:0.988427+0.00136533\ttest-auc:0.747623+0.0233891\n",
      "[148]\ttrain-auc:0.98854+0.0013436\ttest-auc:0.747917+0.0233441\n",
      "[149]\ttrain-auc:0.988706+0.00138791\ttest-auc:0.748351+0.0229606\n",
      "[150]\ttrain-auc:0.988843+0.00132007\ttest-auc:0.748284+0.0224455\n",
      "[151]\ttrain-auc:0.988965+0.00133922\ttest-auc:0.748497+0.0222715\n",
      "[152]\ttrain-auc:0.98916+0.00134404\ttest-auc:0.748593+0.021372\n",
      "[153]\ttrain-auc:0.989383+0.00126056\ttest-auc:0.748829+0.0223732\n",
      "[154]\ttrain-auc:0.989531+0.00131771\ttest-auc:0.748624+0.0221427\n",
      "[155]\ttrain-auc:0.989678+0.0013144\ttest-auc:0.748717+0.0225656\n",
      "[156]\ttrain-auc:0.989757+0.0013526\ttest-auc:0.749056+0.0220978\n",
      "[157]\ttrain-auc:0.989904+0.00136309\ttest-auc:0.749228+0.0219406\n",
      "[158]\ttrain-auc:0.990001+0.00133108\ttest-auc:0.749582+0.0212364\n",
      "[159]\ttrain-auc:0.990201+0.00132472\ttest-auc:0.749667+0.022004\n",
      "[160]\ttrain-auc:0.990318+0.00134964\ttest-auc:0.749314+0.0219863\n",
      "[161]\ttrain-auc:0.99047+0.00133567\ttest-auc:0.749514+0.0218785\n",
      "[162]\ttrain-auc:0.990616+0.00127204\ttest-auc:0.749572+0.0213061\n",
      "[163]\ttrain-auc:0.990743+0.0012674\ttest-auc:0.750539+0.0209683\n",
      "[164]\ttrain-auc:0.990899+0.00123937\ttest-auc:0.750727+0.021118\n",
      "[165]\ttrain-auc:0.991103+0.00117569\ttest-auc:0.750416+0.0206\n",
      "[166]\ttrain-auc:0.991178+0.0011625\ttest-auc:0.751027+0.0204835\n",
      "[167]\ttrain-auc:0.991336+0.00115295\ttest-auc:0.750612+0.019928\n",
      "[168]\ttrain-auc:0.991476+0.00112528\ttest-auc:0.750482+0.0198582\n",
      "[169]\ttrain-auc:0.991574+0.00111763\ttest-auc:0.750444+0.0197047\n",
      "[170]\ttrain-auc:0.991756+0.00110923\ttest-auc:0.750596+0.0195295\n",
      "[171]\ttrain-auc:0.991876+0.00107956\ttest-auc:0.750134+0.0200625\n",
      "[172]\ttrain-auc:0.991978+0.00103829\ttest-auc:0.750488+0.0196743\n",
      "[173]\ttrain-auc:0.992106+0.00101686\ttest-auc:0.75033+0.0193468\n",
      "[174]\ttrain-auc:0.992261+0.00100589\ttest-auc:0.750489+0.0186927\n",
      "[175]\ttrain-auc:0.992443+0.00101718\ttest-auc:0.750374+0.0189137\n",
      "[176]\ttrain-auc:0.992619+0.000958312\ttest-auc:0.750386+0.0187348\n",
      "[177]\ttrain-auc:0.992719+0.000959016\ttest-auc:0.750153+0.0191546\n",
      "[178]\ttrain-auc:0.992801+0.000948996\ttest-auc:0.75046+0.0193306\n",
      "[179]\ttrain-auc:0.992878+0.000926058\ttest-auc:0.750366+0.0195001\n",
      "[180]\ttrain-auc:0.993005+0.000904356\ttest-auc:0.750375+0.0198389\n",
      "[181]\ttrain-auc:0.99314+0.000912707\ttest-auc:0.750043+0.0196895\n",
      "[182]\ttrain-auc:0.993272+0.0008319\ttest-auc:0.749977+0.0198814\n",
      "[183]\ttrain-auc:0.993371+0.000799093\ttest-auc:0.749856+0.0197863\n",
      "[184]\ttrain-auc:0.993461+0.000766707\ttest-auc:0.750698+0.0197355\n",
      "[185]\ttrain-auc:0.993618+0.000792493\ttest-auc:0.750666+0.0192718\n",
      "[186]\ttrain-auc:0.993706+0.000764141\ttest-auc:0.750491+0.0194511\n",
      "[187]\ttrain-auc:0.993783+0.000773398\ttest-auc:0.750443+0.0189887\n",
      "[188]\ttrain-auc:0.993875+0.000791311\ttest-auc:0.750529+0.0187379\n",
      "[189]\ttrain-auc:0.993948+0.000790894\ttest-auc:0.750552+0.0188903\n",
      "[190]\ttrain-auc:0.994037+0.000821624\ttest-auc:0.750431+0.0189028\n",
      "[191]\ttrain-auc:0.994071+0.000815959\ttest-auc:0.750197+0.0192938\n",
      "[192]\ttrain-auc:0.994102+0.000806369\ttest-auc:0.750585+0.019259\n",
      "[193]\ttrain-auc:0.994189+0.000745885\ttest-auc:0.750994+0.0192253\n",
      "[194]\ttrain-auc:0.994277+0.000742867\ttest-auc:0.751131+0.0193128\n",
      "[195]\ttrain-auc:0.994358+0.000734704\ttest-auc:0.751054+0.0192242\n",
      "[196]\ttrain-auc:0.9944+0.000725781\ttest-auc:0.751491+0.0186889\n",
      "[197]\ttrain-auc:0.994529+0.000673011\ttest-auc:0.751886+0.018646\n",
      "\n",
      "Model Report\n",
      "Accuracy : 0.964658487457\n",
      "AUC Score (Train): 0.992150722409\n"
     ]
    },
    {
     "data": {
      "image/png": "[encoded data removed]",
      "text/plain": [
       "<matplotlib.figure.Figure at 0x1128e4190>"
      ]
     },
     "metadata": {},
     "output_type": "display_data"
    }
   ],
   "source": [
    "model_fit(xgb_base, x_train_base, x_train_base.columns.values)"
   ]
  },
  {
   "cell_type": "markdown",
   "metadata": {},
   "source": [
    "Finally, let's tune our BaggingClassifier model using a parameter tuned XGBClassifier as the base estimator."
   ]
  },
  {
   "cell_type": "code",
   "execution_count": 56,
   "metadata": {
    "collapsed": true
   },
   "outputs": [],
   "source": [
    "def get_tuned_xgb_copy():\n",
    "    \"\"\" \n",
    "    Returns a fresh copy of our parameter tuned XGBClassifier, in case someone\n",
    "    wants to re-run this notebook so the optimized parameters are saved.\n",
    "    \"\"\"\n",
    "    return XGBClassifier(learning_rate=0.1,\n",
    "                         n_estimators=345,\n",
    "                         max_depth=8,\n",
    "                         min_child_weight=2,\n",
    "                         gamma=0.2,\n",
    "                         subsample=0.6,\n",
    "                         colsample_bytree=0.5,\n",
    "                         objective=\"binary:logistic\",\n",
    "                         n_jobs=-1,\n",
    "                         scale_pos_weight=1,\n",
    "                         random_state=seed)"
   ]
  },
  {
   "cell_type": "code",
   "execution_count": 9,
   "metadata": {
    "collapsed": true
   },
   "outputs": [],
   "source": [
    "bag_param_grid = {\n",
    "    \"max_samples\": [0.6, 0.7, 0.8,],\n",
    "    \"max_features\": [0.7, 0.75, 0.8],\n",
    "    \"n_estimators\": range(30, 70 + 1, 10)\n",
    "}\n",
    " \n",
    "xgb_bag = get_tuned_xgb_copy()\n",
    "xgb_bagger = BaggingClassifier(base_estimator=xgb_bag, n_estimators=50, max_samples=0.7, max_features=0.75, \\\n",
    "                              bootstrap_features=True)\n",
    "\n",
    "gs_xgb_bagger = GridSearchCV(estimator=xgb_bagger, param_grid=bag_param_grid, cv=n_splits, scoring=\"roc_auc\")"
   ]
  },
  {
   "cell_type": "code",
   "execution_count": null,
   "metadata": {
    "collapsed": true
   },
   "outputs": [],
   "source": [
    "gs_xgb_bagger.fit(x_train_base, y_train_base)"
   ]
  },
  {
   "cell_type": "code",
   "execution_count": null,
   "metadata": {
    "collapsed": true
   },
   "outputs": [],
   "source": [
    "print gs_xgb_bagger.best_params_\n",
    "print gs_xgb_bagger.best_score_"
   ]
  },
  {
   "cell_type": "code",
   "execution_count": null,
   "metadata": {
    "collapsed": true
   },
   "outputs": [],
   "source": [
    "xgb_bagger = BaggingClassifier(base_estimator=xgb_bag, n_estimators=50, max_samples=0.7, max_features=0.75, \\\n",
    "                              bootstrap_features=True)"
   ]
  },
  {
   "cell_type": "code",
   "execution_count": null,
   "metadata": {
    "collapsed": true
   },
   "outputs": [],
   "source": [
    "# TODO: Run tune on desktop PC (computationally expensive)"
   ]
  },
  {
   "cell_type": "markdown",
   "metadata": {},
   "source": [
    "### XGB Modeling\n",
    "\n",
    "With our tuned parameters, we'll now actually create, fit, train, and store predictions for the 3 XGBClassifier model variations described above."
   ]
  },
  {
   "cell_type": "code",
   "execution_count": 75,
   "metadata": {},
   "outputs": [
    {
     "name": "stdout",
     "output_type": "stream",
     "text": [
      "CPU times: user 7.69 s, sys: 1.56 s, total: 9.26 s\n",
      "Wall time: 2.4 s\n",
      "CPU times: user 7.62 s, sys: 1.54 s, total: 9.16 s\n",
      "Wall time: 2.29 s\n",
      "CPU times: user 7.89 s, sys: 1.91 s, total: 9.8 s\n",
      "Wall time: 2.64 s\n",
      "CPU times: user 7.78 s, sys: 1.73 s, total: 9.52 s\n",
      "Wall time: 2.41 s\n",
      "CPU times: user 7.55 s, sys: 1.59 s, total: 9.15 s\n",
      "Wall time: 2.33 s\n"
     ]
    }
   ],
   "source": [
    "# Raw data\n",
    "xgb_raw = get_tuned_xgb_copy()\n",
    "xgb_raw = train_and_save_base_learner_preds(xgb_raw, folds, x_train_raw, y_train_raw, test_raw, \"xgboost_raw\")"
   ]
  },
  {
   "cell_type": "code",
   "execution_count": 59,
   "metadata": {},
   "outputs": [
    {
     "name": "stdout",
     "output_type": "stream",
     "text": [
      "Cross validation score: 0.752946642875 +/- 0.00490805565511\n",
      "Raw scores: [ 0.75409323  0.75685271  0.74511919  0.75873599  0.74993209]\n"
     ]
    }
   ],
   "source": [
    "# There seems to be a parallelization issue w/ XGBClassifier when trying to obtain a CV score, thus we use only 1 core\n",
    "xgb_raw_cv = get_cross_val_score(xgb_raw, x_train_raw, y_train_raw, n_splits, run_parallel=False)"
   ]
  },
  {
   "cell_type": "code",
   "execution_count": 11,
   "metadata": {},
   "outputs": [
    {
     "name": "stdout",
     "output_type": "stream",
     "text": [
      "CPU times: user 6.27 s, sys: 1.46 s, total: 7.73 s\n",
      "Wall time: 1.94 s\n",
      "CPU times: user 5.98 s, sys: 1.41 s, total: 7.39 s\n",
      "Wall time: 1.87 s\n",
      "CPU times: user 6.12 s, sys: 1.51 s, total: 7.63 s\n",
      "Wall time: 1.98 s\n",
      "CPU times: user 6.13 s, sys: 1.55 s, total: 7.69 s\n",
      "Wall time: 2.05 s\n",
      "CPU times: user 6.08 s, sys: 1.49 s, total: 7.57 s\n",
      "Wall time: 1.94 s\n"
     ]
    }
   ],
   "source": [
    "# With baseline data\n",
    "xgb_base = get_tuned_xgb_copy()\n",
    "xgb_base = train_and_save_base_learner_preds(xgb_base, folds, x_train_base, y_train_base, test_base, \"xgboost_base\")"
   ]
  },
  {
   "cell_type": "code",
   "execution_count": 12,
   "metadata": {},
   "outputs": [
    {
     "name": "stdout",
     "output_type": "stream",
     "text": [
      "Cross validation score: 0.758965265001 +/- 0.0044137786577\n",
      "Raw scores: [ 0.76202306  0.75019668  0.76073913  0.76056439  0.76130306]\n"
     ]
    }
   ],
   "source": [
    "xgb_base_cv = get_cross_val_score(xgb_base, x_train_base, y_train_base, n_splits, run_parallel=False)"
   ]
  },
  {
   "cell_type": "code",
   "execution_count": 13,
   "metadata": {},
   "outputs": [
    {
     "name": "stdout",
     "output_type": "stream",
     "text": [
      "[ 0.97352272  0.69323683  0.97338152 ...,  0.98168164  0.99494499\n",
      "  0.97807866]\n"
     ]
    }
   ],
   "source": [
    "# Finally, predict our probabilities.\n",
    "xgb_base.fit(x_train_base, y_train_base)\n",
    "xgb_base_probs = xgb_base.predict_proba(test_base)[:,1]\n",
    "print xgb_base_probs"
   ]
  },
  {
   "cell_type": "code",
   "execution_count": 15,
   "metadata": {
    "collapsed": true
   },
   "outputs": [],
   "source": [
    "# save a copy of the predictions\n",
    "submission = pd.DataFrame({\"id\": test_ids.id, \"Y\": xgb_base_probs})\n",
    "submission.to_csv(\"./submissions/xgboost_base_lone.csv\", index=False, columns=[\"id\", \"Y\"])"
   ]
  },
  {
   "cell_type": "code",
   "execution_count": 26,
   "metadata": {},
   "outputs": [
    {
     "name": "stdout",
     "output_type": "stream",
     "text": [
      "CPU times: user 8.09 s, sys: 1.56 s, total: 9.65 s\n",
      "Wall time: 2.27 s\n",
      "CPU times: user 7.81 s, sys: 1.47 s, total: 9.28 s\n",
      "Wall time: 2.2 s\n",
      "CPU times: user 8.01 s, sys: 1.47 s, total: 9.47 s\n",
      "Wall time: 2.16 s\n",
      "CPU times: user 8.02 s, sys: 1.48 s, total: 9.5 s\n",
      "Wall time: 2.18 s\n",
      "CPU times: user 8.09 s, sys: 1.51 s, total: 9.59 s\n",
      "Wall time: 2.19 s\n"
     ]
    }
   ],
   "source": [
    "# With polynomial features\n",
    "xgb_poly = get_tuned_xgb_copy()\n",
    "xgb_poly = train_and_save_base_learner_preds(xgb_poly, folds, x_train_poly, y_train_poly, test_poly, \"xgboost_poly\")"
   ]
  },
  {
   "cell_type": "code",
   "execution_count": 27,
   "metadata": {},
   "outputs": [
    {
     "name": "stdout",
     "output_type": "stream",
     "text": [
      "Cross validation score: 0.745601533629 +/- 0.00395136757867\n",
      "Raw scores: [ 0.74112726  0.7418853   0.74615411  0.74670364  0.75213736]\n"
     ]
    }
   ],
   "source": [
    "xgb_poly_cv = get_cross_val_score(xgb_poly, x_train_poly, y_train_poly, n_splits, run_parallel=False)"
   ]
  },
  {
   "cell_type": "code",
   "execution_count": 28,
   "metadata": {},
   "outputs": [
    {
     "name": "stdout",
     "output_type": "stream",
     "text": [
      "[ 0.9757967   0.83976942  0.99041665 ...,  0.8301931   0.99723142\n",
      "  0.96768582]\n"
     ]
    }
   ],
   "source": [
    "# Finally, predict our probabilities.\n",
    "xgb_poly.fit(x_train_poly, y_train_poly)\n",
    "xgb_poly_probs = xgb_poly.predict_proba(test_poly)[:,1]\n",
    "print xgb_poly_probs"
   ]
  },
  {
   "cell_type": "code",
   "execution_count": 29,
   "metadata": {
    "collapsed": true
   },
   "outputs": [],
   "source": [
    "# save a copy of the predictions\n",
    "submission = pd.DataFrame({\"id\": test_ids.id, \"Y\": xgb_poly_probs})\n",
    "submission.to_csv(\"./submissions/xgboost_poly_lone.csv\", index=False, columns=[\"id\", \"Y\"])"
   ]
  },
  {
   "cell_type": "code",
   "execution_count": 10,
   "metadata": {},
   "outputs": [
    {
     "name": "stdout",
     "output_type": "stream",
     "text": [
      "CPU times: user 4min 12s, sys: 1min 3s, total: 5min 15s\n",
      "Wall time: 1min 21s\n",
      "CPU times: user 4min 9s, sys: 1min 3s, total: 5min 13s\n",
      "Wall time: 1min 22s\n",
      "CPU times: user 4min 12s, sys: 1min 5s, total: 5min 18s\n",
      "Wall time: 1min 23s\n",
      "CPU times: user 4min 15s, sys: 1min 6s, total: 5min 21s\n",
      "Wall time: 1min 24s\n",
      "CPU times: user 4min 11s, sys: 1min 5s, total: 5min 16s\n",
      "Wall time: 1min 22s\n"
     ]
    }
   ],
   "source": [
    "# Bagged classifier\n",
    "xgb_bag = BaggingClassifier(base_estimator=get_tuned_xgb_copy(), n_estimators=50, max_samples=0.7, max_features=0.75, \\\n",
    "                              bootstrap_features=True)\n",
    "xgb_bag = train_and_save_base_learner_preds(xgb_bag, folds, x_train_base, y_train_base, test_base, \"xgboost_bag\")"
   ]
  },
  {
   "cell_type": "code",
   "execution_count": 11,
   "metadata": {},
   "outputs": [
    {
     "name": "stdout",
     "output_type": "stream",
     "text": [
      "Cross validation score: 0.765461690614 +/- 0.00809893237118\n",
      "Raw scores: [ 0.76912311  0.77508948  0.75436082  0.77130436  0.75743068]\n"
     ]
    }
   ],
   "source": [
    "xgb_bag_cv = get_cross_val_score(xgb_bag, x_train_base, y_train_base, n_splits, run_parallel=False)"
   ]
  },
  {
   "cell_type": "code",
   "execution_count": 12,
   "metadata": {},
   "outputs": [
    {
     "name": "stdout",
     "output_type": "stream",
     "text": [
      "[ 0.98064233  0.77828402  0.94634236 ...,  0.92761304  0.98266136\n",
      "  0.97643858]\n"
     ]
    }
   ],
   "source": [
    "# Finally, predict our probabilities.\n",
    "xgb_bag.fit(x_train_base, y_train_base)\n",
    "xgb_bag_probs = xgb_bag.predict_proba(test_base)[:,1]\n",
    "print xgb_bag_probs"
   ]
  },
  {
   "cell_type": "markdown",
   "metadata": {},
   "source": [
    "#### XGB Prediction Correlation Matrix (Varied Data Sets)"
   ]
  },
  {
   "cell_type": "code",
   "execution_count": 80,
   "metadata": {},
   "outputs": [
    {
     "data": {
      "image/png": "[encoded data removed]",
      "text/plain": [
       "<matplotlib.figure.Figure at 0x112980fd0>"
      ]
     },
     "metadata": {},
     "output_type": "display_data"
    }
   ],
   "source": [
    "xgb_preds = {\n",
    "    \"xgb_raw\": get_preds(\"xgboost_raw\")[0],\n",
    "    \"xgb_base\": get_preds(\"xgboost_base\")[0],\n",
    "    \"xgb_poly\": get_preds(\"xgboost_poly\")[0],\n",
    "    \"xgb_bag\": get_preds(\"xgboost_bag\")[0]\n",
    "}\n",
    "\n",
    "show_pearson_corr(xgb_preds, dict_vals_are_models=False)"
   ]
  },
  {
   "cell_type": "markdown",
   "metadata": {},
   "source": [
    "### ExtraTreesClassifier"
   ]
  },
  {
   "cell_type": "code",
   "execution_count": 55,
   "metadata": {},
   "outputs": [
    {
     "data": {
      "text/plain": [
       "GridSearchCV(cv=5, error_score='raise',\n",
       "       estimator=ExtraTreesClassifier(bootstrap=False, class_weight=None, criterion='entropy',\n",
       "           max_depth=6, max_features='auto', max_leaf_nodes=None,\n",
       "           min_impurity_split=1e-07, min_samples_leaf=1,\n",
       "           min_samples_split=2, min_weight_fraction_leaf=0.0,\n",
       "           n_estimators=150, n_jobs=-1, oob_score=False, random_state=None,\n",
       "           verbose=0, warm_start=False),\n",
       "       fit_params={}, iid=True, n_jobs=1,\n",
       "       param_grid={'n_estimators': [150, 200, 250, 300, 350], 'max_depth': [6, 8, 10, 12]},\n",
       "       pre_dispatch='2*n_jobs', refit=True, return_train_score=True,\n",
       "       scoring='roc_auc', verbose=0)"
      ]
     },
     "execution_count": 55,
     "metadata": {},
     "output_type": "execute_result"
    }
   ],
   "source": [
    "et_param_grid = {\n",
    "    \"max_depth\": range(6, 12 + 1, 2),\n",
    "    \"n_estimators\": range(150, 350 + 1, 50)\n",
    "}\n",
    "\n",
    "et = ExtraTreesClassifier(max_depth=6, n_estimators=150, n_jobs=-1, criterion=\"entropy\")\n",
    "gs_et = GridSearchCV(estimator=et, param_grid=et_param_grid, cv=n_splits, scoring=\"roc_auc\")\n",
    "gs_et.fit(x_train_base, y_train_base)"
   ]
  },
  {
   "cell_type": "code",
   "execution_count": 56,
   "metadata": {},
   "outputs": [
    {
     "name": "stdout",
     "output_type": "stream",
     "text": [
      "{'n_estimators': 250, 'max_depth': 12}\n",
      "0.657812396697\n"
     ]
    }
   ],
   "source": [
    "print gs_et.best_params_\n",
    "print gs_et.best_score_"
   ]
  },
  {
   "cell_type": "code",
   "execution_count": 60,
   "metadata": {},
   "outputs": [
    {
     "data": {
      "text/plain": [
       "GridSearchCV(cv=5, error_score='raise',\n",
       "       estimator=ExtraTreesClassifier(bootstrap=False, class_weight=None, criterion='entropy',\n",
       "           max_depth=12, max_features='auto', max_leaf_nodes=None,\n",
       "           min_impurity_split=1e-07, min_samples_leaf=1,\n",
       "           min_samples_split=2, min_weight_fraction_leaf=0.0,\n",
       "           n_estimators=250, n_jobs=-1, oob_score=False, random_state=None,\n",
       "           verbose=0, warm_start=False),\n",
       "       fit_params={}, iid=True, n_jobs=1,\n",
       "       param_grid={'max_depth': [12, 14, 16, 18, 20]},\n",
       "       pre_dispatch='2*n_jobs', refit=True, return_train_score=True,\n",
       "       scoring='roc_auc', verbose=0)"
      ]
     },
     "execution_count": 60,
     "metadata": {},
     "output_type": "execute_result"
    }
   ],
   "source": [
    "# Step two\n",
    "et_param_grid_2 = {\n",
    "    \"max_depth\": range(12, 20 + 1, 2)\n",
    "}\n",
    "\n",
    "et_2 = ExtraTreesClassifier(max_depth=12, n_estimators=250, n_jobs=-1, criterion=\"entropy\")\n",
    "gs_et_2 = GridSearchCV(estimator=et_2, param_grid=et_param_grid_2, cv=n_splits, scoring=\"roc_auc\")\n",
    "gs_et_2.fit(x_train_base, y_train_base)"
   ]
  },
  {
   "cell_type": "code",
   "execution_count": 61,
   "metadata": {},
   "outputs": [
    {
     "name": "stdout",
     "output_type": "stream",
     "text": [
      "{'n_estimators': 250, 'max_depth': 12}\n",
      "0.657812396697\n"
     ]
    }
   ],
   "source": [
    "print gs_et.best_params_\n",
    "print gs_et.best_score_"
   ]
  },
  {
   "cell_type": "code",
   "execution_count": 16,
   "metadata": {},
   "outputs": [
    {
     "name": "stdout",
     "output_type": "stream",
     "text": [
      "Cross validation score: 0.658994376998 +/- 0.0162024899885\n",
      "Raw scores: [ 0.66693004  0.65553248  0.67156773  0.62885771  0.67208392]\n"
     ]
    },
    {
     "data": {
      "text/plain": [
       "array([ 0.66693004,  0.65553248,  0.67156773,  0.62885771,  0.67208392])"
      ]
     },
     "execution_count": 16,
     "metadata": {},
     "output_type": "execute_result"
    }
   ],
   "source": [
    "get_cross_val_score(ExtraTreesClassifier(max_depth=12, n_estimators=250, n_jobs=-1, criterion=\"entropy\"), x_train_base, y_train_base, n_splits)"
   ]
  },
  {
   "cell_type": "code",
   "execution_count": 79,
   "metadata": {},
   "outputs": [
    {
     "name": "stdout",
     "output_type": "stream",
     "text": [
      "CPU times: user 2.03 s, sys: 132 ms, total: 2.16 s\n",
      "Wall time: 925 ms\n",
      "CPU times: user 2.13 s, sys: 127 ms, total: 2.26 s\n",
      "Wall time: 948 ms\n",
      "CPU times: user 2.33 s, sys: 120 ms, total: 2.45 s\n",
      "Wall time: 1.08 s\n",
      "CPU times: user 2.18 s, sys: 121 ms, total: 2.31 s\n",
      "Wall time: 970 ms\n",
      "CPU times: user 2.1 s, sys: 110 ms, total: 2.21 s\n",
      "Wall time: 935 ms\n"
     ]
    }
   ],
   "source": [
    "et_base = ExtraTreesClassifier(max_depth=12, n_estimators=250, n_jobs=-1, criterion=\"entropy\")\n",
    "et_base = train_and_save_base_learner_preds(et_base, folds, x_train_base, y_train_base, test_base, \"extra_trees_base\")"
   ]
  },
  {
   "cell_type": "markdown",
   "metadata": {},
   "source": [
    "### AdaboostClassifier"
   ]
  },
  {
   "cell_type": "code",
   "execution_count": 8,
   "metadata": {},
   "outputs": [
    {
     "data": {
      "text/plain": [
       "GridSearchCV(cv=5, error_score='raise',\n",
       "       estimator=AdaBoostClassifier(algorithm='SAMME.R', base_estimator=None,\n",
       "          learning_rate=0.1, n_estimators=150, random_state=None),\n",
       "       fit_params={}, iid=True, n_jobs=1,\n",
       "       param_grid={'n_estimators': [300, 310, 320, 330, 340, 350, 360, 370, 380, 390], 'learning_rate': [1, 1.1, 1.2, 1.3, 1.4, 1.5]},\n",
       "       pre_dispatch='2*n_jobs', refit=True, return_train_score=True,\n",
       "       scoring='roc_auc', verbose=0)"
      ]
     },
     "execution_count": 8,
     "metadata": {},
     "output_type": "execute_result"
    }
   ],
   "source": [
    "ada_param_grid = {\n",
    "    \"learning_rate\": [1, 1.1, 1.2, 1.3, 1.4, 1.5],\n",
    "    \"n_estimators\": range(300, 400, 10)\n",
    "}\n",
    "\n",
    "ada = AdaBoostClassifier(n_estimators=150, learning_rate=0.1)\n",
    "gs_ada = GridSearchCV(estimator=ada, param_grid=ada_param_grid, cv=n_splits, scoring=\"roc_auc\")\n",
    "gs_ada.fit(x_train_base, y_train_base)"
   ]
  },
  {
   "cell_type": "code",
   "execution_count": 9,
   "metadata": {},
   "outputs": [
    {
     "name": "stdout",
     "output_type": "stream",
     "text": [
      "{'n_estimators': 390, 'learning_rate': 1.5}\n",
      "0.701561241805\n"
     ]
    }
   ],
   "source": [
    "print gs_ada.best_params_\n",
    "print gs_ada.best_score_"
   ]
  },
  {
   "cell_type": "code",
   "execution_count": 10,
   "metadata": {},
   "outputs": [
    {
     "data": {
      "text/plain": [
       "GridSearchCV(cv=5, error_score='raise',\n",
       "       estimator=AdaBoostClassifier(algorithm='SAMME.R', base_estimator=None,\n",
       "          learning_rate=1.5, n_estimators=390, random_state=None),\n",
       "       fit_params={}, iid=True, n_jobs=1,\n",
       "       param_grid={'n_estimators': [385, 390, 395], 'learning_rate': [1.45, 1.5, 1.55]},\n",
       "       pre_dispatch='2*n_jobs', refit=True, return_train_score=True,\n",
       "       scoring='roc_auc', verbose=0)"
      ]
     },
     "execution_count": 10,
     "metadata": {},
     "output_type": "execute_result"
    }
   ],
   "source": [
    "ada_param_grid_2 = {\n",
    "    \"learning_rate\": [1.45, 1.5, 1.55],\n",
    "    \"n_estimators\": [385, 390, 395]\n",
    "}\n",
    "\n",
    "ada_2 = AdaBoostClassifier(n_estimators=390, learning_rate=1.5)\n",
    "gs_ada_2 = GridSearchCV(estimator=ada_2, param_grid=ada_param_grid_2, cv=n_splits, scoring=\"roc_auc\")\n",
    "gs_ada_2.fit(x_train_base, y_train_base)"
   ]
  },
  {
   "cell_type": "code",
   "execution_count": 11,
   "metadata": {},
   "outputs": [
    {
     "name": "stdout",
     "output_type": "stream",
     "text": [
      "{'n_estimators': 395, 'learning_rate': 1.55}\n",
      "0.704140678649\n"
     ]
    }
   ],
   "source": [
    "print gs_ada_2.best_params_\n",
    "print gs_ada_2.best_score_"
   ]
  },
  {
   "cell_type": "code",
   "execution_count": 14,
   "metadata": {},
   "outputs": [
    {
     "name": "stdout",
     "output_type": "stream",
     "text": [
      "CPU times: user 4.31 s, sys: 8.68 ms, total: 4.32 s\n",
      "Wall time: 4.32 s\n",
      "CPU times: user 4.21 s, sys: 5.1 ms, total: 4.21 s\n",
      "Wall time: 4.21 s\n",
      "CPU times: user 4.24 s, sys: 4.18 ms, total: 4.24 s\n",
      "Wall time: 4.24 s\n",
      "CPU times: user 4.19 s, sys: 4.51 ms, total: 4.2 s\n",
      "Wall time: 4.19 s\n",
      "CPU times: user 4.22 s, sys: 4.25 ms, total: 4.23 s\n",
      "Wall time: 4.23 s\n"
     ]
    }
   ],
   "source": [
    "ada_tuned = AdaBoostClassifier(n_estimators=395, learning_rate=1.55)\n",
    "ada_tuned = train_and_save_base_learner_preds(ada_tuned, folds, x_train_base, y_train_base, test_base, \"adaboost_base\")"
   ]
  },
  {
   "cell_type": "code",
   "execution_count": 15,
   "metadata": {},
   "outputs": [
    {
     "name": "stdout",
     "output_type": "stream",
     "text": [
      "Cross validation score: 0.70414215576 +/- 0.01160028695\n",
      "Raw scores: [ 0.71407938  0.69589411  0.70874949  0.68574588  0.71624191]\n"
     ]
    }
   ],
   "source": [
    "ada_tuned_cv = get_cross_val_score(ada_tuned, x_train_base, y_train_base, n_splits)"
   ]
  },
  {
   "cell_type": "markdown",
   "metadata": {},
   "source": [
    "### KNeighborsClassifier\n",
    "\n",
    "We'll train instances of KNeighbors with **n_neighbors** set to $2^n$ for **n = [1, 10]**."
   ]
  },
  {
   "cell_type": "code",
   "execution_count": 67,
   "metadata": {
    "scrolled": true
   },
   "outputs": [
    {
     "name": "stdout",
     "output_type": "stream",
     "text": [
      "'n_neighbors'=2:  Cross validation score: 0.573434775043 +/- 0.0215055478114\n",
      "Raw scores: [ 0.56259454  0.59927742  0.59888489  0.54767778  0.55873925]\n",
      "'n_neighbors'=4:  Cross validation score: 0.590499136721 +/- 0.0217076333611\n",
      "Raw scores: [ 0.61750827  0.59411804  0.60925007  0.56118483  0.57043447]\n",
      "'n_neighbors'=8:  Cross validation score: 0.610623922154 +/- 0.0283743924322\n",
      "Raw scores: [ 0.65312922  0.60882293  0.62842129  0.5716876   0.59105856]\n",
      "'n_neighbors'=16:  Cross validation score: 0.624549248213 +/- 0.0129561138453\n",
      "Raw scores: [ 0.62794604  0.6354268   0.63109468  0.59914151  0.62913721]\n",
      "'n_neighbors'=32:  Cross validation score: 0.635463475798 +/- 0.0167329190449\n",
      "Raw scores: [ 0.64259775  0.63234569  0.64453252  0.60471873  0.65312269]\n",
      "'n_neighbors'=64:  Cross validation score: 0.626697022758 +/- 0.0260453337146\n",
      "Raw scores: [ 0.64346299  0.59740765  0.64831594  0.59261885  0.65167967]\n",
      "'n_neighbors'=128:  Cross validation score: 0.627894229991 +/- 0.0251870821371\n",
      "Raw scores: [ 0.64371286  0.59585022  0.63367943  0.60305662  0.66317202]\n",
      "'n_neighbors'=256:  Cross validation score: 0.62450318956 +/- 0.0214519569907\n",
      "Raw scores: [ 0.64017423  0.6006044   0.62072528  0.60406875  0.65694328]\n",
      "'n_neighbors'=512:  Cross validation score: 0.61037238551 +/- 0.0276870271816\n",
      "Raw scores: [ 0.63900088  0.5820131   0.61331291  0.57563732  0.64189772]\n",
      "'n_neighbors'=1024:  Cross validation score: 0.601517820762 +/- 0.0222069878259\n",
      "Raw scores: [ 0.62095236  0.57190201  0.61168963  0.57799078  0.62505433]\n"
     ]
    }
   ],
   "source": [
    "knn_models = dict()\n",
    "\n",
    "for n in range(1, 10 + 1):\n",
    "    knn_i = KNeighborsClassifier(n_neighbors=2**n, n_jobs=-1)\n",
    "    knn_i = train_and_save_base_learner_preds(knn_i, \n",
    "                                              folds, \n",
    "                                              x_train_base, \n",
    "                                              y_train_base, \n",
    "                                              test_base, \n",
    "                                              \"knn_{}\".format(2**n), \n",
    "                                              timeit=False)\n",
    "    knn_models[\"knn_{}\".format(2**n)] = knn_i\n",
    "    print (\"'n_neighbors'={}: \".format(2**n)),\n",
    "    get_cross_val_score(knn_i, x_train_base, y_train_base, n_splits)"
   ]
  },
  {
   "cell_type": "code",
   "execution_count": 66,
   "metadata": {
    "collapsed": true
   },
   "outputs": [],
   "source": [
    "# TODO: maybe explore other models"
   ]
  },
  {
   "cell_type": "markdown",
   "metadata": {
    "collapsed": true
   },
   "source": [
    "## Choosing optimal base learners\n",
    "\n",
    "We'll first see how each base learner performs by itself, then display the pearson correlation matrix against each base learner's predictions."
   ]
  },
  {
   "cell_type": "code",
   "execution_count": 68,
   "metadata": {
    "collapsed": true
   },
   "outputs": [],
   "source": [
    "# Process for parameters used for each base learner is documented in \"layer_1_models.ipynb\".\n",
    "rfc = RandomForestClassifier(criterion='entropy', max_depth=10, n_estimators=1000, n_jobs=-1)\n",
    "lr = LogisticRegression(C=100, tol=1e-05, solver=\"liblinear\")\n",
    "et = ExtraTreesClassifier(max_depth=12, n_estimators=250, n_jobs=-1, criterion=\"entropy\")\n",
    "ada = AdaBoostClassifier(n_estimators=395, learning_rate=1.55)\n",
    "xgb = get_tuned_xgb_copy()"
   ]
  },
  {
   "cell_type": "code",
   "execution_count": 69,
   "metadata": {
    "collapsed": true
   },
   "outputs": [],
   "source": [
    "base_learners = {\n",
    "    \"rfc\": rfc,\n",
    "    \"lr\": lr,\n",
    "    \"et\": et,\n",
    "    \"ada\": ada,\n",
    "    \"xgb\": xgb\n",
    "}\n",
    "\n",
    "base_learners.update(knn_models)\n",
    "\n",
    "all_preds = pd.DataFrame(np.zeros((test_base.shape[0], len(base_learners))), columns=list(base_learners.keys()))\n",
    "\n",
    "for name, model in base_learners.items():\n",
    "    model.fit(x_train_base, y_train_base)\n",
    "    all_preds[name] = model.predict_proba(test_base)[:,1]"
   ]
  },
  {
   "cell_type": "code",
   "execution_count": 78,
   "metadata": {
    "scrolled": true
   },
   "outputs": [
    {
     "data": {
      "image/png": "[encoded data removed]",
      "text/plain": [
       "<matplotlib.figure.Figure at 0x11148e750>"
      ]
     },
     "metadata": {},
     "output_type": "display_data"
    }
   ],
   "source": [
    "all_preds = all_preds.reindex_axis(sorted(all_preds.columns.values), axis=1)\n",
    "\n",
    "ax = corrmat(all_preds.corr())\n",
    "plt.show()"
   ]
  },
  {
   "cell_type": "markdown",
   "metadata": {},
   "source": [
    "Excluding the correlation values of different KNN instances, we can see that a majority of the base learners aren't highly correlated, so an ensemble including **all** of these base learners will likely outperform any of the base learner's lone predictions, through combining each base learner's respective predictive \n",
    "strengths."
   ]
  },
  {
   "cell_type": "markdown",
   "metadata": {},
   "source": [
    "Based on my most recent Kaggle submissions, it seems ML-Ensemble produces better performing predictions. Because of this, I'll generate another set of meta features with the same tuned parameters, but predicting using mlens."
   ]
  },
  {
   "cell_type": "code",
   "execution_count": 22,
   "metadata": {},
   "outputs": [],
   "source": [
    "from mlens.ensemble import SuperLearner\n",
    "from sklearn.metrics import roc_auc_score"
   ]
  },
  {
   "cell_type": "code",
   "execution_count": 52,
   "metadata": {},
   "outputs": [
    {
     "name": "stdout",
     "output_type": "stream",
     "text": [
      "CPU times: user 1min 56s, sys: 8.85 ms, total: 1min 56s\n",
      "Wall time: 1min 58s\n",
      "CPU times: user 1min 55s, sys: 679 µs, total: 1min 55s\n",
      "Wall time: 1min 57s\n",
      "CPU times: user 1min 55s, sys: 4.71 ms, total: 1min 55s\n",
      "Wall time: 1min 57s\n",
      "CPU times: user 1min 54s, sys: 8.45 ms, total: 1min 54s\n",
      "Wall time: 1min 55s\n",
      "CPU times: user 1min 55s, sys: 468 µs, total: 1min 55s\n",
      "Wall time: 1min 56s\n",
      "Cross validation score: 0.771108710694092 +/- 0.011731124909709916\n",
      "Raw scores: [0.76757834 0.78622451 0.75820418 0.75994142 0.78359511]\n",
      "CPU times: user 1min 33s, sys: 11.9 ms, total: 1min 33s\n",
      "Wall time: 1min 36s\n",
      "CPU times: user 1min 28s, sys: 26.1 ms, total: 1min 28s\n",
      "Wall time: 1min 39s\n",
      "CPU times: user 1min 29s, sys: 0 ns, total: 1min 29s\n",
      "Wall time: 1min 42s\n",
      "CPU times: user 1min 27s, sys: 18.2 ms, total: 1min 27s\n",
      "Wall time: 1min 36s\n",
      "CPU times: user 1min 28s, sys: 11.1 ms, total: 1min 28s\n",
      "Wall time: 1min 33s\n",
      "Cross validation score: 0.7670154592380092 +/- 0.013308737233868325\n",
      "Raw scores: [0.76937382 0.782539   0.74785842 0.75600689 0.77929917]\n",
      "CPU times: user 2min 13s, sys: 203 ms, total: 2min 13s\n",
      "Wall time: 2min 30s\n",
      "CPU times: user 2min 13s, sys: 242 ms, total: 2min 14s\n",
      "Wall time: 2min 33s\n",
      "CPU times: user 2min 14s, sys: 60.7 ms, total: 2min 14s\n",
      "Wall time: 2min 31s\n",
      "CPU times: user 2min 20s, sys: 117 ms, total: 2min 21s\n",
      "Wall time: 2min 28s\n",
      "CPU times: user 2min 14s, sys: 151 ms, total: 2min 14s\n",
      "Wall time: 2min 33s\n"
     ]
    },
    {
     "ename": "NameError",
     "evalue": "name 'y_train_poy' is not defined",
     "output_type": "error",
     "traceback": [
      "\u001b[0;31m---------------------------------------------------------------------------\u001b[0m",
      "\u001b[0;31mNameError\u001b[0m                                 Traceback (most recent call last)",
      "\u001b[0;32m<ipython-input-52-a1c9bfed8f6f>\u001b[0m in \u001b[0;36m<module>\u001b[0;34m()\u001b[0m\n\u001b[1;32m     26\u001b[0m                                                        \u001b[0mtimeit\u001b[0m\u001b[0;34m=\u001b[0m\u001b[0mFalse\u001b[0m\u001b[0;34m,\u001b[0m\u001b[0;34m\u001b[0m\u001b[0m\n\u001b[1;32m     27\u001b[0m                                                        mlens=True)\n\u001b[0;32m---> 28\u001b[0;31m \u001b[0mrf_poly_mlens_cv\u001b[0m \u001b[0;34m=\u001b[0m \u001b[0mget_cross_val_score\u001b[0m\u001b[0;34m(\u001b[0m\u001b[0mrf_poly_mlens_preds\u001b[0m\u001b[0;34m,\u001b[0m \u001b[0mx_train_poly\u001b[0m\u001b[0;34m,\u001b[0m \u001b[0my_train_poy\u001b[0m\u001b[0;34m,\u001b[0m \u001b[0mn_splits\u001b[0m\u001b[0;34m)\u001b[0m\u001b[0;34m\u001b[0m\u001b[0m\n\u001b[0m",
      "\u001b[0;31mNameError\u001b[0m: name 'y_train_poy' is not defined"
     ]
    }
   ],
   "source": [
    "rf_mlens = RandomForestClassifier(criterion='entropy', max_features=10, n_estimators=1000, n_jobs=-1)\n",
    "\n",
    "# Raw\n",
    "rf_raw_mlens = train_and_save_base_learner_preds(rf_mlens, \n",
    "                                                       folds, \n",
    "                                                       x_train_raw, y_train_raw, test_raw, \n",
    "                                                       \"random_forest_raw\",\n",
    "                                                       timeit=False, \n",
    "                                                       mlens=True)\n",
    "rf_raw_mlens_cv = get_cross_val_score(rf_raw_mlens, x_train_raw, y_train_raw, n_splits)\n",
    "\n",
    "# Log\n",
    "rf_log_mlens = train_and_save_base_learner_preds(rf_mlens, \n",
    "                                                       folds, \n",
    "                                                       x_train_log, y_train_log, test_log, \n",
    "                                                       \"random_forest_log\",\n",
    "                                                       timeit=False, \n",
    "                                                       mlens=True)\n",
    "rf_log_mlens_cv = get_cross_val_score(rf_log_mlens, x_train_log, y_train_log, n_splits)"
   ]
  },
  {
   "cell_type": "code",
   "execution_count": 55,
   "metadata": {},
   "outputs": [
    {
     "name": "stdout",
     "output_type": "stream",
     "text": [
      "CPU times: user 2min 16s, sys: 156 ms, total: 2min 16s\n",
      "Wall time: 2min 38s\n",
      "CPU times: user 2min 15s, sys: 40.2 ms, total: 2min 15s\n",
      "Wall time: 2min 31s\n",
      "CPU times: user 2min 13s, sys: 1.49 ms, total: 2min 13s\n",
      "Wall time: 2min 15s\n",
      "CPU times: user 2min 13s, sys: 1.39 ms, total: 2min 13s\n",
      "Wall time: 2min 15s\n",
      "CPU times: user 2min 13s, sys: 8.66 ms, total: 2min 13s\n",
      "Wall time: 2min 16s\n",
      "Cross validation score: 0.7630587133668844 +/- 0.016673517355080603\n",
      "Raw scores: [0.75718615 0.78210342 0.74633306 0.74603677 0.78363416]\n"
     ]
    }
   ],
   "source": [
    "# Typo lmao, just running the poly transformation in this block separately since it takes a while\n",
    "# Poly\n",
    "rf_poly_mlens = train_and_save_base_learner_preds(rf_mlens, \n",
    "                                                       folds, \n",
    "                                                       x_train_poly, y_train_poly, test_poly, \n",
    "                                                       \"random_forest_poly\",\n",
    "                                                       timeit=False, \n",
    "                                                       mlens=True)\n",
    "rf_poly_mlens_cv = get_cross_val_score(rf_poly_mlens, x_train_poly, y_train_poly, n_splits)"
   ]
  },
  {
   "cell_type": "code",
   "execution_count": 57,
   "metadata": {},
   "outputs": [
    {
     "name": "stdout",
     "output_type": "stream",
     "text": [
      "CPU times: user 346 ms, sys: 7 µs, total: 346 ms\n",
      "Wall time: 384 ms\n",
      "CPU times: user 356 ms, sys: 0 ns, total: 356 ms\n",
      "Wall time: 399 ms\n",
      "CPU times: user 336 ms, sys: 0 ns, total: 336 ms\n",
      "Wall time: 362 ms\n",
      "CPU times: user 339 ms, sys: 0 ns, total: 339 ms\n",
      "Wall time: 365 ms\n",
      "CPU times: user 343 ms, sys: 0 ns, total: 343 ms\n",
      "Wall time: 368 ms\n",
      "Cross validation score: 0.5457534068030371 +/- 0.023000862577507126\n",
      "Raw scores: [0.5643436  0.55359772 0.50611494 0.53533056 0.56938022]\n"
     ]
    }
   ],
   "source": [
    "lr_mlens = LogisticRegression(C=100, tol=1e-05, solver=\"liblinear\", random_state=seed)\n",
    "\n",
    "# Log\n",
    "lr_log_mlens = train_and_save_base_learner_preds(lr_mlens,\n",
    "                                                       folds,\n",
    "                                                       x_train_log, y_train_log, test_log,\n",
    "                                                       \"logistic_regression_log\",\n",
    "                                                       mlens=True)\n",
    "lr_log_mlens_cv = get_cross_val_score(lr_log_mlens, x_train_log, y_train_log, n_splits)"
   ]
  },
  {
   "cell_type": "code",
   "execution_count": 59,
   "metadata": {},
   "outputs": [
    {
     "name": "stdout",
     "output_type": "stream",
     "text": [
      "CPU times: user 9.92 s, sys: 27.5 ms, total: 9.95 s\n",
      "Wall time: 10.5 s\n",
      "CPU times: user 10.5 s, sys: 35.4 ms, total: 10.5 s\n",
      "Wall time: 10.7 s\n",
      "CPU times: user 10.4 s, sys: 31.5 ms, total: 10.5 s\n",
      "Wall time: 10.9 s\n",
      "CPU times: user 10.4 s, sys: 39.4 ms, total: 10.4 s\n",
      "Wall time: 10.6 s\n",
      "CPU times: user 10.4 s, sys: 35.4 ms, total: 10.4 s\n",
      "Wall time: 10.5 s\n",
      "Cross validation score: 0.7529464731081388 +/- 0.0049081599371427545\n",
      "Raw scores: [0.75409323 0.75685271 0.74511919 0.75873599 0.74993124]\n",
      "CPU times: user 8.39 s, sys: 27.6 ms, total: 8.42 s\n",
      "Wall time: 8.54 s\n",
      "CPU times: user 8.26 s, sys: 39.3 ms, total: 8.3 s\n",
      "Wall time: 8.39 s\n",
      "CPU times: user 8.22 s, sys: 35.4 ms, total: 8.25 s\n",
      "Wall time: 8.34 s\n",
      "CPU times: user 8.18 s, sys: 4 ms, total: 8.18 s\n",
      "Wall time: 8.28 s\n",
      "CPU times: user 8.22 s, sys: 19.7 ms, total: 8.24 s\n",
      "Wall time: 8.33 s\n",
      "Cross validation score: 0.7589652650008001 +/- 0.00441377865770259\n",
      "Raw scores: [0.76202306 0.75019668 0.76073913 0.76056439 0.76130306]\n",
      "CPU times: user 10.7 s, sys: 23.7 ms, total: 10.7 s\n",
      "Wall time: 11.1 s\n",
      "CPU times: user 12 s, sys: 59 ms, total: 12 s\n",
      "Wall time: 12.2 s\n",
      "CPU times: user 11 s, sys: 23.6 ms, total: 11 s\n",
      "Wall time: 11.3 s\n",
      "CPU times: user 10.9 s, sys: 27.5 ms, total: 10.9 s\n",
      "Wall time: 11.7 s\n",
      "CPU times: user 10.7 s, sys: 19.8 ms, total: 10.8 s\n",
      "Wall time: 10.9 s\n",
      "Cross validation score: 0.7456015336292732 +/- 0.003951367578665627\n",
      "Raw scores: [0.74112726 0.7418853  0.74615411 0.74670364 0.75213736]\n",
      "CPU times: user 5min 36s, sys: 1.11 s, total: 5min 37s\n",
      "Wall time: 5min 41s\n",
      "CPU times: user 5min 38s, sys: 1.34 s, total: 5min 39s\n",
      "Wall time: 5min 45s\n",
      "CPU times: user 5min 38s, sys: 1.15 s, total: 5min 39s\n",
      "Wall time: 5min 44s\n",
      "CPU times: user 5min 47s, sys: 1.08 s, total: 5min 48s\n",
      "Wall time: 6min\n",
      "CPU times: user 5min 29s, sys: 1.04 s, total: 5min 30s\n",
      "Wall time: 5min 40s\n",
      "Cross validation score: 0.7667638893323365 +/- 0.008399416315940707\n",
      "Raw scores: [0.76508644 0.77300615 0.75443848 0.7626148  0.77867358]\n"
     ]
    }
   ],
   "source": [
    "xgb_mlens = get_tuned_xgb_copy()\n",
    "\n",
    "# Raw\n",
    "xgb_raw_mlens = train_and_save_base_learner_preds(xgb_mlens,\n",
    "                                                  folds,\n",
    "                                                  x_train_raw, y_train_raw, test_raw,\n",
    "                                                   \"xgboost_raw\",\n",
    "                                                  mlens=True)\n",
    "xgb_raw_mlens_cv = get_cross_val_score(xgb_raw_mlens, x_train_raw, y_train_raw, n_splits, run_parallel=False)\n",
    "\n",
    "# Base\n",
    "xgb_base_mlens = train_and_save_base_learner_preds(xgb_mlens,\n",
    "                                                   folds,\n",
    "                                                   x_train_base, y_train_base, test_base,\n",
    "                                                   \"xgboost_base\",\n",
    "                                                   mlens=True)\n",
    "xgb_base_mlens_cv = get_cross_val_score(xgb_base_mlens, x_train_base, y_train_base, n_splits, run_parallel=False)\n",
    "\n",
    "# Poly\n",
    "xgb_poly_mlens = train_and_save_base_learner_preds(xgb_mlens,\n",
    "                                                   folds,\n",
    "                                                   x_train_poly, y_train_poly, test_poly,\n",
    "                                                   \"xgboost_poly\",\n",
    "                                                   mlens=True)\n",
    "xgb_poly_mlens_cv = get_cross_val_score(xgb_poly_mlens, x_train_poly, y_train_poly, n_splits, run_parallel=False)\n",
    "\n",
    "# Bag\n",
    "xgb_bag = BaggingClassifier(base_estimator=xgb_mlens, n_estimators=50, max_samples=0.7, max_features=0.75, \\\n",
    "                              bootstrap_features=True)\n",
    "\n",
    "xgb_bag_mlens = train_and_save_base_learner_preds(xgb_bag,\n",
    "                                                  folds,\n",
    "                                                  x_train_base, y_train_base, test_base,\n",
    "                                                  \"xgboost_bag\",\n",
    "                                                  mlens=True)\n",
    "xgb_bag_mlens_cv = get_cross_val_score(xgb_bag_mlens, x_train_base, y_train_base, n_splits, run_parallel=False)"
   ]
  },
  {
   "cell_type": "code",
   "execution_count": 60,
   "metadata": {},
   "outputs": [
    {
     "name": "stdout",
     "output_type": "stream",
     "text": [
      "CPU times: user 10.4 s, sys: 4.07 ms, total: 10.4 s\n",
      "Wall time: 10.5 s\n",
      "CPU times: user 9.92 s, sys: 176 µs, total: 9.92 s\n",
      "Wall time: 10 s\n",
      "CPU times: user 9.71 s, sys: 128 µs, total: 9.71 s\n",
      "Wall time: 9.79 s\n",
      "CPU times: user 9.65 s, sys: 187 µs, total: 9.65 s\n",
      "Wall time: 9.72 s\n",
      "CPU times: user 9.91 s, sys: 4.04 ms, total: 9.92 s\n",
      "Wall time: 10.3 s\n",
      "Cross validation score: 0.7041421557601281 +/- 0.011600286950032486\n",
      "Raw scores: [0.71407938 0.69589411 0.70874949 0.68574588 0.71624191]\n"
     ]
    }
   ],
   "source": [
    "ada_mlens = AdaBoostClassifier(n_estimators=395, learning_rate=1.55)\n",
    "\n",
    "# Base\n",
    "ada_base_mlens = train_and_save_base_learner_preds(ada_mlens, \n",
    "                                                   folds, \n",
    "                                                   x_train_base, y_train_base, test_base, \n",
    "                                                   \"adaboost_base\",\n",
    "                                                   mlens=True)\n",
    "ada_base_mlens_cv = get_cross_val_score(ada_base_mlens, x_train_base, y_train_base, n_splits)"
   ]
  },
  {
   "cell_type": "code",
   "execution_count": 61,
   "metadata": {},
   "outputs": [
    {
     "name": "stdout",
     "output_type": "stream",
     "text": [
      "CPU times: user 3.32 s, sys: 47 µs, total: 3.32 s\n",
      "Wall time: 3.36 s\n",
      "CPU times: user 3.41 s, sys: 51 µs, total: 3.41 s\n",
      "Wall time: 3.45 s\n",
      "CPU times: user 3.35 s, sys: 53 µs, total: 3.35 s\n",
      "Wall time: 3.37 s\n",
      "CPU times: user 3.36 s, sys: 3.99 ms, total: 3.36 s\n",
      "Wall time: 3.39 s\n",
      "CPU times: user 3.45 s, sys: 63 µs, total: 3.45 s\n",
      "Wall time: 3.48 s\n",
      "Cross validation score: 0.6552834053985692 +/- 0.01665215010591389\n",
      "Raw scores: [0.66506618 0.64908158 0.67635906 0.62707827 0.65883194]\n"
     ]
    }
   ],
   "source": [
    "et_mlens = ExtraTreesClassifier(max_depth=12, n_estimators=250, n_jobs=-1, random_state=seed, criterion=\"entropy\")\n",
    "et_base_mlens = train_and_save_base_learner_preds(et_mlens, \n",
    "                                                  folds, \n",
    "                                                  x_train_base, y_train_base, test_base, \n",
    "                                                  \"extra_trees_base\",\n",
    "                                                  mlens=True)\n",
    "et_base_mlens_cv = get_cross_val_score(et_base_mlens, x_train_base, y_train_base, n_splits)"
   ]
  },
  {
   "cell_type": "code",
   "execution_count": null,
   "metadata": {
    "collapsed": true
   },
   "outputs": [],
   "source": []
  }
 ],
 "metadata": {
  "kernelspec": {
   "display_name": "Python 2",
   "language": "python",
   "name": "python2"
  },
  "language_info": {
   "codemirror_mode": {
    "name": "ipython",
    "version": 2
   },
   "file_extension": ".py",
   "mimetype": "text/x-python",
   "name": "python",
   "nbconvert_exporter": "python",
   "pygments_lexer": "ipython2",
   "version": "2.7.14"
  }
 },
 "nbformat": 4,
 "nbformat_minor": 2
}
