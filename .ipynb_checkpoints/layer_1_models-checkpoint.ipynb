{
 "cells": [
  {
   "cell_type": "markdown",
   "metadata": {},
   "source": [
    "# Base Learners\n",
    "\n",
    "Julian Domingo - jad5348\n",
    "\n",
    "This file contains my process for training my base learners and meta learner to predict the probability values for the target value **Y**."
   ]
  },
  {
   "cell_type": "code",
   "execution_count": 49,
   "metadata": {
    "collapsed": true
   },
   "outputs": [],
   "source": [
    "# Computation / Data Analysis stuff\n",
    "import numpy as np\n",
    "import pandas as pd\n",
    "from scipy.stats import skew, probplot, norm, uniform, randint\n",
    "from scipy.special import boxcox1p\n",
    "\n",
    "# Modeling stuff\n",
    "from mlens.metrics import make_scorer\n",
    "from mlens.model_selection import Evaluator\n",
    "import xgboost as xgb\n",
    "from xgboost import XGBClassifier\n",
    "from sklearn import metrics\n",
    "from sklearn.svm import SVC\n",
    "from sklearn.naive_bayes import GaussianNB\n",
    "from sklearn.model_selection import (GridSearchCV, \n",
    "                                     StratifiedKFold,\n",
    "                                     cross_val_score)\n",
    "from sklearn.neighbors import KNeighborsClassifier\n",
    "from sklearn.metrics import roc_auc_score\n",
    "from sklearn.tree import DecisionTreeClassifier\n",
    "from sklearn.ensemble import (RandomForestClassifier, \n",
    "                              AdaBoostClassifier, \n",
    "                              GradientBoostingClassifier, \n",
    "                              ExtraTreesClassifier,\n",
    "                              BaggingClassifier)\n",
    "from sklearn.linear_model import LogisticRegression\n",
    "from sklearn.preprocessing import StandardScaler\n",
    "from sklearn.cross_validation import train_test_split, KFold\n",
    "\n",
    "# Plotting stuff\n",
    "import seaborn as sns\n",
    "import matplotlib as mpl\n",
    "import matplotlib.pyplot as plt\n",
    "import matplotlib.pylab as pylab\n",
    "from mlens.visualization import corrmat\n",
    "from pandas.tools.plotting import scatter_matrix\n",
    "\n",
    "# Plotting visuals stuff\n",
    "%matplotlib inline\n",
    "mpl.style.use('ggplot')\n",
    "sns.set_style('white')\n",
    "\n",
    "# ignore warnings (i.e. deprecation warnings)\n",
    "import warnings\n",
    "warnings.filterwarnings('ignore')\n",
    "\n",
    "seed = 42\n",
    "np.random.seed(seed)"
   ]
  },
  {
   "cell_type": "code",
   "execution_count": 50,
   "metadata": {
    "collapsed": true
   },
   "outputs": [],
   "source": [
    "test_ids = pd.read_csv(\"./data/raw/test.csv\")[[\"id\"]]\n",
    "train_y_cp = pd.read_csv(\"./data/raw/train.csv\")[\"Y\"]"
   ]
  },
  {
   "cell_type": "markdown",
   "metadata": {},
   "source": [
    "## Helper Functions"
   ]
  },
  {
   "cell_type": "code",
   "execution_count": 51,
   "metadata": {
    "collapsed": true
   },
   "outputs": [],
   "source": [
    "def get_preds(filename):\n",
    "    train = pd.read_csv(\"./meta_features/train/train_{}.csv\".format(filename), index_col=0).as_matrix().ravel()\n",
    "    test = pd.read_csv(\"./meta_features/test/test_{}.csv\".format(filename), index_col=0).as_matrix().ravel()\n",
    "    \n",
    "    return train, test\n",
    "\n",
    "\n",
    "def get_data(filename):\n",
    "    train = pd.read_csv(\"./data/refined/train/train_{}.csv\".format(filename))\n",
    "    test = pd.read_csv(\"./data/refined/test/test_{}.csv\".format(filename))\n",
    "    \n",
    "    x_train = train.drop([\"Y\"], axis = 1)\n",
    "    y_train = train[\"Y\"]\n",
    "    \n",
    "    return train, test, x_train, y_train"
   ]
  },
  {
   "cell_type": "code",
   "execution_count": 52,
   "metadata": {
    "collapsed": true
   },
   "outputs": [],
   "source": [
    "train_raw, test_raw, x_train_raw, y_train_raw = get_data(\"raw\")\n",
    "train_base, test_base, x_train_base, y_train_base = get_data(\"base\")\n",
    "train_log, test_log, x_train_log, y_train_log = get_data(\"log\")\n",
    "train_poly, test_poly, x_train_poly, y_train_poly = get_data(\"poly\")\n",
    "train_scaled, test_scaled, x_train_scaled, y_train_scaled = get_data(\"scaled\")\n",
    "train_reduced, test_reduced, x_train_reduced, y_train_reduced = get_data(\"reduced\")"
   ]
  },
  {
   "cell_type": "code",
   "execution_count": 53,
   "metadata": {},
   "outputs": [
    {
     "data": {
      "text/html": [
       "<div>\n",
       "<style>\n",
       "    .dataframe thead tr:only-child th {\n",
       "        text-align: right;\n",
       "    }\n",
       "\n",
       "    .dataframe thead th {\n",
       "        text-align: left;\n",
       "    }\n",
       "\n",
       "    .dataframe tbody tr th {\n",
       "        vertical-align: top;\n",
       "    }\n",
       "</style>\n",
       "<table border=\"1\" class=\"dataframe\">\n",
       "  <thead>\n",
       "    <tr style=\"text-align: right;\">\n",
       "      <th></th>\n",
       "      <th>F2</th>\n",
       "      <th>F3</th>\n",
       "      <th>F4</th>\n",
       "      <th>F5</th>\n",
       "      <th>F6</th>\n",
       "      <th>F7</th>\n",
       "      <th>F8</th>\n",
       "      <th>F10</th>\n",
       "      <th>F11</th>\n",
       "      <th>F15</th>\n",
       "      <th>F16</th>\n",
       "      <th>F17</th>\n",
       "      <th>F18</th>\n",
       "      <th>F19</th>\n",
       "      <th>F20</th>\n",
       "      <th>F21</th>\n",
       "      <th>F22</th>\n",
       "      <th>F23</th>\n",
       "      <th>F24</th>\n",
       "    </tr>\n",
       "  </thead>\n",
       "  <tbody>\n",
       "    <tr>\n",
       "      <th>0</th>\n",
       "      <td>61385</td>\n",
       "      <td>0</td>\n",
       "      <td>38</td>\n",
       "      <td>118751</td>\n",
       "      <td>1000</td>\n",
       "      <td>32020</td>\n",
       "      <td>1</td>\n",
       "      <td>127959</td>\n",
       "      <td>1</td>\n",
       "      <td>1</td>\n",
       "      <td>119757</td>\n",
       "      <td>119100</td>\n",
       "      <td>1</td>\n",
       "      <td>118830</td>\n",
       "      <td>1</td>\n",
       "      <td>1</td>\n",
       "      <td>126461</td>\n",
       "      <td>1</td>\n",
       "      <td>46871</td>\n",
       "    </tr>\n",
       "    <tr>\n",
       "      <th>1</th>\n",
       "      <td>51329</td>\n",
       "      <td>0</td>\n",
       "      <td>41</td>\n",
       "      <td>120800</td>\n",
       "      <td>1000</td>\n",
       "      <td>130630</td>\n",
       "      <td>1</td>\n",
       "      <td>128342</td>\n",
       "      <td>2</td>\n",
       "      <td>1</td>\n",
       "      <td>138110</td>\n",
       "      <td>121149</td>\n",
       "      <td>1</td>\n",
       "      <td>118832</td>\n",
       "      <td>1</td>\n",
       "      <td>1</td>\n",
       "      <td>130296</td>\n",
       "      <td>1</td>\n",
       "      <td>42386</td>\n",
       "    </tr>\n",
       "    <tr>\n",
       "      <th>2</th>\n",
       "      <td>5522</td>\n",
       "      <td>0</td>\n",
       "      <td>50</td>\n",
       "      <td>118779</td>\n",
       "      <td>1000</td>\n",
       "      <td>303218</td>\n",
       "      <td>2</td>\n",
       "      <td>128299</td>\n",
       "      <td>1</td>\n",
       "      <td>1</td>\n",
       "      <td>119777</td>\n",
       "      <td>119126</td>\n",
       "      <td>1</td>\n",
       "      <td>118832</td>\n",
       "      <td>1</td>\n",
       "      <td>2</td>\n",
       "      <td>127063</td>\n",
       "      <td>1</td>\n",
       "      <td>23968</td>\n",
       "    </tr>\n",
       "    <tr>\n",
       "      <th>3</th>\n",
       "      <td>6754</td>\n",
       "      <td>0</td>\n",
       "      <td>45</td>\n",
       "      <td>123163</td>\n",
       "      <td>2000</td>\n",
       "      <td>19024</td>\n",
       "      <td>1</td>\n",
       "      <td>127968</td>\n",
       "      <td>1</td>\n",
       "      <td>2</td>\n",
       "      <td>270637</td>\n",
       "      <td>123511</td>\n",
       "      <td>1</td>\n",
       "      <td>118832</td>\n",
       "      <td>1</td>\n",
       "      <td>1</td>\n",
       "      <td>15274</td>\n",
       "      <td>1</td>\n",
       "      <td>27555</td>\n",
       "    </tr>\n",
       "    <tr>\n",
       "      <th>4</th>\n",
       "      <td>16991</td>\n",
       "      <td>0</td>\n",
       "      <td>41</td>\n",
       "      <td>119193</td>\n",
       "      <td>1000</td>\n",
       "      <td>303218</td>\n",
       "      <td>1</td>\n",
       "      <td>128299</td>\n",
       "      <td>1</td>\n",
       "      <td>1</td>\n",
       "      <td>119777</td>\n",
       "      <td>119542</td>\n",
       "      <td>1</td>\n",
       "      <td>118832</td>\n",
       "      <td>1</td>\n",
       "      <td>1</td>\n",
       "      <td>133491</td>\n",
       "      <td>1</td>\n",
       "      <td>50260</td>\n",
       "    </tr>\n",
       "  </tbody>\n",
       "</table>\n",
       "</div>"
      ],
      "text/plain": [
       "      F2  F3  F4      F5    F6      F7  F8     F10  F11  F15     F16     F17  \\\n",
       "0  61385   0  38  118751  1000   32020   1  127959    1    1  119757  119100   \n",
       "1  51329   0  41  120800  1000  130630   1  128342    2    1  138110  121149   \n",
       "2   5522   0  50  118779  1000  303218   2  128299    1    1  119777  119126   \n",
       "3   6754   0  45  123163  2000   19024   1  127968    1    2  270637  123511   \n",
       "4  16991   0  41  119193  1000  303218   1  128299    1    1  119777  119542   \n",
       "\n",
       "   F18     F19  F20  F21     F22  F23    F24  \n",
       "0    1  118830    1    1  126461    1  46871  \n",
       "1    1  118832    1    1  130296    1  42386  \n",
       "2    1  118832    1    2  127063    1  23968  \n",
       "3    1  118832    1    1   15274    1  27555  \n",
       "4    1  118832    1    1  133491    1  50260  "
      ]
     },
     "execution_count": 53,
     "metadata": {},
     "output_type": "execute_result"
    }
   ],
   "source": [
    "x_train_base.head()"
   ]
  },
  {
   "cell_type": "code",
   "execution_count": 54,
   "metadata": {
    "collapsed": true
   },
   "outputs": [],
   "source": [
    "def show_pearson_corr(mapping, dict_vals_are_models=True):\n",
    "    if dict_vals_are_models:\n",
    "        all_preds = pd.DataFrame(np.zeros((test_base.shape[0], len(mapping))), columns=list(mapping.keys()))\n",
    "    else:\n",
    "        all_preds = pd.DataFrame(np.zeros((train_base.shape[0], len(mapping))), columns=list(mapping.keys()))\n",
    "    \n",
    "    for name, val in mapping.items():\n",
    "        if dict_vals_are_models:\n",
    "            val.fit(x_train_base, y_train_base)\n",
    "            all_preds[name] = val.predict_proba(test_base)[:,1]   \n",
    "        else:\n",
    "            all_preds[name] = val\n",
    "        \n",
    "    all_preds = all_preds.reindex_axis(sorted(all_preds.columns.values), axis=1)\n",
    "\n",
    "    ax = corrmat(all_preds.corr())\n",
    "    plt.show()"
   ]
  },
  {
   "cell_type": "markdown",
   "metadata": {},
   "source": [
    "## Modeling Functions"
   ]
  },
  {
   "cell_type": "code",
   "execution_count": 55,
   "metadata": {
    "collapsed": true
   },
   "outputs": [],
   "source": [
    "def get_cross_val_score(model, x_train, y_train, n_folds, run_parallel=True):\n",
    "    if run_parallel:\n",
    "        cv = cross_val_score(model, x_train, y_train, cv = n_folds, scoring = \"roc_auc\", n_jobs = -1)\n",
    "    else:\n",
    "        cv = cross_val_score(model, x_train, y_train, cv = n_folds, scoring = \"roc_auc\")\n",
    "        \n",
    "    print(\"Cross validation score: {} +/- {}\\nRaw scores: {}\".format(str(np.mean(cv)), str(np.std(cv)), str(cv)))\n",
    "    return cv\n",
    "\n",
    "\n",
    "def train_and_save_base_learner_preds(model, folds, x_train, y_train, test, pred_filename, timeit=True, mlens=False):\n",
    "    # Train model on the folds defined\n",
    "    if mlens:\n",
    "        train_ids = x_train.index\n",
    "        test_ids = test.index\n",
    "        x_train = np.array(x_train)\n",
    "        y_train = np.array(y_train)\n",
    "        test = np.array(test)\n",
    "        \n",
    "        train_preds = np.zeros(x_train.shape[0])\n",
    "        test_preds = np.zeros(test.shape[0])\n",
    "        test_preds_iter = np.zeros((test.shape[0], len(folds)))\n",
    "        \n",
    "        stacker = SuperLearner(random_state=seed, scorer=roc_auc_score)\n",
    "        stacker.add(model, proba=True)\n",
    "        \n",
    "        for i, (train_indices, test_indices) in enumerate(folds):\n",
    "            xtr = x_train[train_indices]\n",
    "            xhold = x_train[test_indices]\n",
    "            ytr = y_train[train_indices]\n",
    "            \n",
    "            # Deletes the previous fit when \"warm_start\" is disabled (intended behavior)\n",
    "            %time stacker.fit(x_train, y_train)\n",
    "            \n",
    "            train_preds[test_indices] = stacker.predict_proba(xhold)[:,1]\n",
    "            test_preds_iter[:,i] = stacker.predict_proba(test)[:,1]\n",
    "        \n",
    "        test_preds[:] = test_preds_iter.mean(1)\n",
    "        \n",
    "        submission = pd.DataFrame({\"id\": train_ids, \"Y\": train_preds})\n",
    "        submission.to_csv(\"./meta_features/mlens/train/train_{}.csv\".format(pred_filename), index=False, columns=[\"id\", \"Y\"])   \n",
    "        \n",
    "        submission = pd.DataFrame({\"id\": test_ids, \"Y\": test_preds})\n",
    "        submission.to_csv(\"./meta_features/mlens/test/test_{}.csv\".format(pred_filename), index=False, columns=[\"id\", \"Y\"])   \n",
    "        \n",
    "        return model  \n",
    "    \n",
    "    else:\n",
    "        result = generate_out_of_folds_preds(model, folds, x_train, y_train, test, timeit)\n",
    "\n",
    "        train_preds_csv = pd.DataFrame(columns=[\"Y\"], index=x_train.index, data=result[\"train_preds\"])\n",
    "        train_preds_csv.to_csv(\"./meta_features/train/train_{}.csv\".format(pred_filename), index=False, columns=[\"id\", \"Y\"])\n",
    "\n",
    "        test_preds_csv = pd.DataFrame(columns=[\"Y\"], index=test.index, data=result[\"test_preds\"])\n",
    "        test_preds_csv.to_csv(\"./meta_features/test/test_{}.csv\".format(pred_filename), index=False, columns=[\"id\", \"Y\"])\n",
    "\n",
    "        return result[\"model\"]\n",
    "                          \n",
    "\n",
    "def generate_out_of_folds_preds(model, folds, x, y, test, timeit=True):\n",
    "    \"\"\" \n",
    "    Trains the model through (stratified) CV, and generates predictions from\n",
    "    the weighted average of each holdout's predictions.\n",
    "    \n",
    "    'train_preds' is the combination of all predictions from each holdout.\n",
    "    'test_preds' is the final predictions computed through the mean of each test prediction.\n",
    "    \n",
    "    \"\"\"\n",
    "    x = np.array(x)\n",
    "    y = np.array(y)\n",
    "    test = np.array(test)\n",
    "        \n",
    "    train_preds = np.zeros(x.shape[0])\n",
    "    test_preds = np.zeros(test.shape[0])\n",
    "    test_preds_iter = np.zeros((test.shape[0], len(folds)))\n",
    "    \n",
    "    for i, (train_indices, test_indices) in enumerate(folds):\n",
    "        x_train = x[train_indices]\n",
    "        x_holdout = x[test_indices]\n",
    "        y_train = y[train_indices]\n",
    "        \n",
    "        if timeit:\n",
    "            %time model.fit(x_train, y_train)\n",
    "        else:\n",
    "            model.fit(x_train, y_train)\n",
    "        \n",
    "        train_preds[test_indices] = model.predict_proba(x_holdout)[:,1]\n",
    "        test_preds_iter[:,i] = model.predict_proba(test)[:,1]\n",
    "        \n",
    "    test_preds[:] = test_preds_iter.mean(1)\n",
    "        \n",
    "    return {'model': model, 'train_preds': train_preds ,'test_preds': test_preds}"
   ]
  },
  {
   "cell_type": "code",
   "execution_count": 62,
   "metadata": {
    "collapsed": true
   },
   "outputs": [],
   "source": [
    "# Obtain fold indices for base learner training.\n",
    "n_splits = 5\n",
    "folds = list(StratifiedKFold(n_splits, random_state=seed).split(x_train_base, y_train_base))"
   ]
  },
  {
   "cell_type": "markdown",
   "metadata": {},
   "source": [
    "Note that we want to use the **same** fold indices every time in order for our stacking ensemble to perform optimally."
   ]
  },
  {
   "cell_type": "markdown",
   "metadata": {},
   "source": [
    "# Base Learners"
   ]
  },
  {
   "cell_type": "markdown",
   "metadata": {},
   "source": [
    "### Random Forest Classifier"
   ]
  },
  {
   "cell_type": "code",
   "execution_count": 30,
   "metadata": {},
   "outputs": [
    {
     "name": "stdout",
     "output_type": "stream",
     "text": [
      "CPU times: user 1min, sys: 386 ms, total: 1min\n",
      "Wall time: 9.53 s\n",
      "CPU times: user 1min 1s, sys: 350 ms, total: 1min 2s\n",
      "Wall time: 9.71 s\n",
      "CPU times: user 1min 1s, sys: 337 ms, total: 1min 2s\n",
      "Wall time: 9.67 s\n",
      "CPU times: user 1min 4s, sys: 339 ms, total: 1min 4s\n",
      "Wall time: 9.94 s\n",
      "CPU times: user 1min 4s, sys: 355 ms, total: 1min 4s\n",
      "Wall time: 10 s\n",
      "Cross validation score: 0.763972140277 +/- 0.0126201727415\n",
      "Raw scores: [ 0.76663797  0.77985633  0.74617437  0.75311065  0.77408139]\n"
     ]
    }
   ],
   "source": [
    "rfc_log = RandomForestClassifier(criterion='entropy', max_features=10, n_estimators=1000, n_jobs=-1)\n",
    "rfc_log = train_and_save_base_learner_preds(rfc_log, folds, x_train_log, y_train_log, test_log, \"random_forest_log\")\n",
    "rfc_log_cv = get_cross_val_score(rfc_log, x_train_log, y_train_log, n_splits)"
   ]
  },
  {
   "cell_type": "markdown",
   "metadata": {},
   "source": [
    "###### Using Raw Data"
   ]
  },
  {
   "cell_type": "code",
   "execution_count": 64,
   "metadata": {},
   "outputs": [
    {
     "data": {
      "text/plain": [
       "GridSearchCV(cv=5, error_score='raise',\n",
       "       estimator=RandomForestClassifier(bootstrap=True, class_weight=None, criterion='entropy',\n",
       "            max_depth=10, max_features='auto', max_leaf_nodes=None,\n",
       "            min_impurity_decrease=0.0, min_impurity_split=None,\n",
       "            min_samples_leaf=1, min_samples_split=2,\n",
       "            min_weight_fraction_leaf=0.0, n_estimators=1000, n_jobs=-1,\n",
       "            oob_score=False, random_state=None, verbose=0,\n",
       "            warm_start=False),\n",
       "       fit_params=None, iid=True, n_jobs=-1,\n",
       "       param_grid={'max_features': [9, 10, 11, 12], 'n_estimators': [1000, 1050, 1100], 'max_depth': [9, 10, 11]},\n",
       "       pre_dispatch='2*n_jobs', refit=True, return_train_score='warn',\n",
       "       scoring='roc_auc', verbose=0)"
      ]
     },
     "execution_count": 64,
     "metadata": {},
     "output_type": "execute_result"
    }
   ],
   "source": [
    "rfc_raw_grid = {\n",
    "    \"max_features\": range(9, 12 + 1),\n",
    "    \"n_estimators\": range(1000, 1100 + 1, 50),\n",
    "    \"max_depth\": range(9, 11 + 1)\n",
    "}\n",
    "\n",
    "rfc_raw = RandomForestClassifier(criterion='entropy', max_depth=10, n_estimators=1000, n_jobs=-1)\n",
    "\n",
    "gs_raw = GridSearchCV(estimator=rfc_raw, param_grid=rfc_raw_grid, cv=n_splits, scoring=\"roc_auc\", n_jobs=-1, verbose=1)\n",
    "gs_raw.fit(x_train_raw, y_train_raw)"
   ]
  },
  {
   "cell_type": "code",
   "execution_count": 65,
   "metadata": {},
   "outputs": [
    {
     "name": "stdout",
     "output_type": "stream",
     "text": [
      "{'max_features': 11, 'n_estimators': 1050, 'max_depth': 11}\n",
      "0.7561616541276784\n"
     ]
    }
   ],
   "source": [
    "print gs_raw.best_params_\n",
    "print gs_raw.best_score_"
   ]
  },
  {
   "cell_type": "code",
   "execution_count": 70,
   "metadata": {
    "collapsed": true
   },
   "outputs": [],
   "source": [
    "rfc_raw = RandomForestClassifier(criterion='entropy', max_features=10, n_estimators=1000, n_jobs=-1)"
   ]
  },
  {
   "cell_type": "code",
   "execution_count": 73,
   "metadata": {},
   "outputs": [
    {
     "name": "stdout",
     "output_type": "stream",
     "text": [
      "Cross validation score: 0.7695456125591551 +/- 0.012976891105761897\n",
      "Raw scores: [0.76927927 0.78441299 0.75467399 0.7555443  0.78381751]\n"
     ]
    }
   ],
   "source": [
    "# Using tuned parameters fitted on BASE data\n",
    "rfc_raw = train_and_save_base_learner_preds(rfc_raw, folds, x_train_raw, y_train_raw, test_raw, \"random_forest_raw\", timeit=False)\n",
    "rfc_raw_cv = get_cross_val_score(rfc_raw, x_train_raw, y_train_raw, n_splits)"
   ]
  },
  {
   "cell_type": "markdown",
   "metadata": {},
   "source": [
    "###### Using Polynomial Transformation Data"
   ]
  },
  {
   "cell_type": "code",
   "execution_count": 35,
   "metadata": {},
   "outputs": [
    {
     "name": "stdout",
     "output_type": "stream",
     "text": [
      "CPU times: user 1min 32s, sys: 413 ms, total: 1min 32s\n",
      "Wall time: 16.1 s\n",
      "CPU times: user 1min 38s, sys: 398 ms, total: 1min 39s\n",
      "Wall time: 14.5 s\n",
      "CPU times: user 1min 36s, sys: 408 ms, total: 1min 37s\n",
      "Wall time: 15.3 s\n",
      "CPU times: user 1min 38s, sys: 646 ms, total: 1min 39s\n",
      "Wall time: 15.6 s\n",
      "CPU times: user 1min 40s, sys: 555 ms, total: 1min 41s\n",
      "Wall time: 15 s\n",
      "Cross validation score: 0.762157532882 +/- 0.0178247735886\n",
      "Raw scores: [ 0.74675429  0.78349288  0.74934748  0.74677624  0.78441678]\n"
     ]
    }
   ],
   "source": [
    "rfc_poly = RandomForestClassifier(criterion='entropy', max_features=10, n_estimators=1000, n_jobs=-1)\n",
    "rfc_poly = train_and_save_base_learner_preds(rfc_poly, folds, x_train_poly, y_train_poly, test_poly, \"random_forest_poly\")\n",
    "rfc_poly_cv = get_cross_val_score(rfc_poly, x_train_poly, y_train_poly, n_splits)"
   ]
  },
  {
   "cell_type": "markdown",
   "metadata": {},
   "source": [
    "###### Using Base Data"
   ]
  },
  {
   "cell_type": "code",
   "execution_count": 36,
   "metadata": {},
   "outputs": [
    {
     "data": {
      "text/plain": [
       "GridSearchCV(cv=5, error_score='raise',\n",
       "       estimator=RandomForestClassifier(bootstrap=True, class_weight=None, criterion='entropy',\n",
       "            max_depth=10, max_features='auto', max_leaf_nodes=None,\n",
       "            min_impurity_split=1e-07, min_samples_leaf=1,\n",
       "            min_samples_split=2, min_weight_fraction_leaf=0.0,\n",
       "            n_estimators=1000, n_jobs=-1, oob_score=False,\n",
       "            random_state=None, verbose=0, warm_start=False),\n",
       "       fit_params={}, iid=True, n_jobs=1,\n",
       "       param_grid={'max_features': [1, 2, 3, 4, 5, 6, 7, 8, 9, 10, 'auto'], 'max_depth': [5, 6, 7, 8, 9, 10, 11, 12]},\n",
       "       pre_dispatch='2*n_jobs', refit=True, return_train_score=True,\n",
       "       scoring='roc_auc', verbose=0)"
      ]
     },
     "execution_count": 36,
     "metadata": {},
     "output_type": "execute_result"
    }
   ],
   "source": [
    "rfc_param_grid = {\n",
    "    \"max_features\": [1, 3, 10]\n",
    "}\n",
    "\n",
    "rfc = RandomForestClassifier(criterion='entropy', max_depth=10, n_estimators=1000, n_jobs=-1)\n",
    "\n",
    "gs_rfc = GridSearchCV(estimator=rfc, param_grid=rfc_param_grid, cv=n_splits, scoring=\"roc_auc\")\n",
    "gs_rfc.fit(x_train_base, y_train_base)"
   ]
  },
  {
   "cell_type": "code",
   "execution_count": 41,
   "metadata": {},
   "outputs": [
    {
     "name": "stdout",
     "output_type": "stream",
     "text": [
      "{'max_features': 6, 'max_depth': 12}\n"
     ]
    }
   ],
   "source": [
    "# So, we'll use 10 to be our max_features value.\n",
    "print gs_rfc.best_params_"
   ]
  },
  {
   "cell_type": "code",
   "execution_count": 130,
   "metadata": {
    "scrolled": false
   },
   "outputs": [
    {
     "name": "stdout",
     "output_type": "stream",
     "text": [
      "Cross validation score: 0.767653985688 +/- 0.0137592880393\n",
      "Raw scores: [ 0.76729217  0.78474473  0.74785336  0.7578412   0.78053847]\n"
     ]
    }
   ],
   "source": [
    "# Train with our optimized parameters.\n",
    "rfc = RandomForestClassifier(criterion='entropy', max_features=10, n_estimators=1000, n_jobs=-1)\n",
    "rfc = train_and_save_base_learner_preds(rfc, folds, x_train_base, y_train_base, test_base, \"random_forest_base\")\n",
    "rf_cv = get_cross_val_score(rfc, x_train_base, y_train_base, n_splits)"
   ]
  },
  {
   "cell_type": "markdown",
   "metadata": {},
   "source": [
    "###### Using Log Data"
   ]
  },
  {
   "cell_type": "code",
   "execution_count": 54,
   "metadata": {},
   "outputs": [
    {
     "name": "stdout",
     "output_type": "stream",
     "text": [
      "CPU times: user 1min 2s, sys: 511 ms, total: 1min 2s\n",
      "Wall time: 10.8 s\n",
      "CPU times: user 1min 4s, sys: 512 ms, total: 1min 4s\n",
      "Wall time: 11 s\n",
      "CPU times: user 1min 4s, sys: 498 ms, total: 1min 5s\n",
      "Wall time: 10.7 s\n",
      "CPU times: user 1min 4s, sys: 308 ms, total: 1min 5s\n",
      "Wall time: 10.1 s\n",
      "CPU times: user 1min 5s, sys: 413 ms, total: 1min 5s\n",
      "Wall time: 10.4 s\n",
      "Cross validation score: 0.766020138462 +/- 0.0113610765781\n",
      "Raw scores: [ 0.76509741  0.77783124  0.75289286  0.75429075  0.77998842]\n"
     ]
    }
   ],
   "source": [
    "rfc_log = RandomForestClassifier(criterion='entropy', max_features=10, n_estimators=1000, n_jobs=-1)\n",
    "rfc_log = train_and_save_base_learner_preds(rfc_log, folds, x_train_log, y_train_log, test_log, \"random_forest_log\")\n",
    "rfc_log_cv = get_cross_val_score(rfc_log, x_train_log, y_train_log, n_splits)"
   ]
  },
  {
   "cell_type": "markdown",
   "metadata": {},
   "source": [
    "Oddly enough, the raw / no feature engineering data set has the highest public LB score when submitted to kaggle. However, this could potentially be overfitting with how much noise there is in the raw / no feature engineering data set."
   ]
  },
  {
   "cell_type": "markdown",
   "metadata": {},
   "source": [
    "Let's see what features RandomForestClassifier deemed most important."
   ]
  },
  {
   "cell_type": "code",
   "execution_count": 88,
   "metadata": {
    "scrolled": true
   },
   "outputs": [
    {
     "data": {
      "text/plain": [
       "<matplotlib.axes._subplots.AxesSubplot at 0x7f55b94548d0>"
      ]
     },
     "execution_count": 88,
     "metadata": {},
     "output_type": "execute_result"
    },
    {
     "data": {
      "image/png": "[encoded data removed]",
      "text/plain": [
       "<matplotlib.figure.Figure at 0x7f55b9454f90>"
      ]
     },
     "metadata": {},
     "output_type": "display_data"
    }
   ],
   "source": [
    "pd.Series(index=x_train_raw.columns, data=rfc_raw.feature_importances_) \\\n",
    "    .drop([\"F1\", \"F9\", \"F12\", \"F13\", \"F14\"]) \\\n",
    "    .sort_values().plot(kind='barh', title='Variable Importances')"
   ]
  },
  {
   "cell_type": "markdown",
   "metadata": {},
   "source": [
    "Thus, we'll use the top 2 features, **F2** and **F24**, to use in our PolynomialFeature transformed data set. Generation of this data set can be found in **\"data_processing.ipynb\"** under the \"Transformations\" subsection."
   ]
  },
  {
   "cell_type": "markdown",
   "metadata": {},
   "source": [
    "### Logistic Regressor"
   ]
  },
  {
   "cell_type": "code",
   "execution_count": 137,
   "metadata": {},
   "outputs": [
    {
     "data": {
      "text/plain": [
       "GridSearchCV(cv=5, error_score='raise',\n",
       "       estimator=LogisticRegression(C=1.0, class_weight=None, dual=False, fit_intercept=True,\n",
       "          intercept_scaling=1, max_iter=100, multi_class='ovr', n_jobs=1,\n",
       "          penalty='l2', random_state=None, solver='liblinear', tol=0.0001,\n",
       "          verbose=0, warm_start=False),\n",
       "       fit_params={}, iid=True, n_jobs=1,\n",
       "       param_grid={'C': [0.01, 0.1, 1.0, 10, 100], 'tol': [1e-05, 0.0001, 0.001], 'solver': ['liblinear', 'sag']},\n",
       "       pre_dispatch='2*n_jobs', refit=True, return_train_score=True,\n",
       "       scoring='roc_auc', verbose=0)"
      ]
     },
     "execution_count": 137,
     "metadata": {},
     "output_type": "execute_result"
    }
   ],
   "source": [
    "lr_param_grid = {\n",
    "    \"tol\": [1e-5, 1e-4, 1e-3],\n",
    "    \"solver\": [\"liblinear\", \"sag\"], # For some reason, \"saga\" isn't allowed anymore.\n",
    "    \"C\": [0.01, 0.1, 1.0, 10, 100] # Inverse of regularization strength. Smaller values specify stronger regularization (must be pos float)\n",
    "}\n",
    "\n",
    "lr = LogisticRegression()\n",
    "\n",
    "gs_lr = GridSearchCV(estimator=lr, param_grid=lr_param_grid, cv=n_splits, scoring=\"roc_auc\")\n",
    "gs_lr.fit(x_train_log, y_train_log)"
   ]
  },
  {
   "cell_type": "code",
   "execution_count": 140,
   "metadata": {},
   "outputs": [
    {
     "name": "stdout",
     "output_type": "stream",
     "text": [
      "{'C': 100, 'tol': 1e-05, 'solver': 'liblinear'}\n",
      "0.545830385785\n"
     ]
    }
   ],
   "source": [
    "print gs_lr.best_params_\n",
    "print gs_lr.best_score_"
   ]
  },
  {
   "cell_type": "code",
   "execution_count": 156,
   "metadata": {},
   "outputs": [
    {
     "name": "stdout",
     "output_type": "stream",
     "text": [
      "Cross validation score: 0.545833322926 +/- 0.0230976755653\n",
      "Raw scores: [ 0.56433684  0.55349304  0.50612     0.53532381  0.56989291]\n"
     ]
    }
   ],
   "source": [
    "# Train with our optimized parameters.\n",
    "lr = LogisticRegression(C=100, tol=1e-05, solver=\"liblinear\")\n",
    "lr = train_and_save_base_learner_preds(lr, folds, x_train_log, y_train_log, test_log, \"logistic_regression_log\")\n",
    "lr_cv = get_cross_val_score(lr, x_train_log, y_train_log, n_splits)"
   ]
  },
  {
   "cell_type": "code",
   "execution_count": 157,
   "metadata": {
    "scrolled": true
   },
   "outputs": [
    {
     "name": "stdout",
     "output_type": "stream",
     "text": [
      "[ 0.91999531  0.93921733  0.91854823 ...,  0.92974219  0.92594105\n",
      "  0.94791889]\n"
     ]
    }
   ],
   "source": [
    "# Finally, predict our probabilities.\n",
    "lr.fit(x_train_log, y_train_log)\n",
    "lr_probs = lr.predict_proba(test_log)[:,1]\n",
    "print lr_probs"
   ]
  },
  {
   "cell_type": "code",
   "execution_count": 158,
   "metadata": {
    "collapsed": true
   },
   "outputs": [],
   "source": [
    "# save a copy of the predictions\n",
    "submission = pd.DataFrame({\"id\": test_ids.id, \"Y\": lr_probs})\n",
    "submission.to_csv(\"./submissions/logistic_regression_lone.csv\", index=False, columns=[\"id\", \"Y\"])"
   ]
  },
  {
   "cell_type": "markdown",
   "metadata": {},
   "source": [
    "The logistic regressor scores are pretty bad, both in offline CV and when submitted to Kaggle. I'll choose to leave this base learner out of my ensemble."
   ]
  },
  {
   "cell_type": "markdown",
   "metadata": {},
   "source": [
    "### XGBoost"
   ]
  },
  {
   "cell_type": "markdown",
   "metadata": {},
   "source": [
    "###### Using Base Data\n",
    "###### Step 1: Optimize learning_rate & n_estimators\n",
    "1. max_depth = 5 : This should be between 3-10. I’ve started with 5.\n",
    "2. min_child_weight = 1 : A smaller value is chosen because it is a highly imbalanced class problem and leaf nodes can have smaller size groups.\n",
    "3. gamma = 0 : A smaller value like 0.1-0.2 can also be chosen for starting. This will anyways be tuned later.\n",
    "4. subsample & colsample_bytree = 0.8 : This is a commonly used start value. Typical values range between 0.5-0.9.\n",
    "5. scale_pos_weight = 1: Because of high class imbalance"
   ]
  },
  {
   "cell_type": "code",
   "execution_count": 164,
   "metadata": {
    "collapsed": true
   },
   "outputs": [],
   "source": [
    "# Initial xgb parameters\n",
    "xgb_base_params = {\n",
    "    \"learning_rate\": 0.1,\n",
    "    \"n_estimators\": 311,\n",
    "    \"max_depth\": 8,\n",
    "    \"min_child_weight\": 2,\n",
    "    \"gamma\": 0.2,\n",
    "    \"subsample\": 0.6,\n",
    "    \"colsample_bytree\": 0.5,\n",
    "    \"objective\": 'binary:logistic', # Used for classifier XGB\n",
    "    \"seed\": seed\n",
    "}"
   ]
  },
  {
   "cell_type": "code",
   "execution_count": 165,
   "metadata": {},
   "outputs": [
    {
     "data": {
      "text/plain": [
       "GridSearchCV(cv=5, error_score='raise',\n",
       "       estimator=XGBClassifier(base_score=0.5, booster='gbtree', colsample_bylevel=1,\n",
       "       colsample_bytree=0.5, gamma=0.2, learning_rate=0.1,\n",
       "       max_delta_step=0, max_depth=8, min_child_weight=2, missing=None,\n",
       "       n_estimators=311, n_jobs=1, nthread=None,\n",
       "       objective='binary:logistic', random_state=0, reg_alpha=0,\n",
       "       reg_lambda=1, scale_pos_weight=1, seed=42, silent=True,\n",
       "       subsample=0.6),\n",
       "       fit_params=None, iid=True, n_jobs=1,\n",
       "       param_grid={'n_estimators': [300, 301, 302, 303, 304, 305, 306, 307, 308, 309, 310, 311, 312, 313, 314, 315, 316, 317, 318, 319, 320, 321, 322, 323, 324, 325, 326, 327, 328, 329, 330, 331, 332, 333, 334, 335, 336, 337, 338, 339, 340, 341, 342, 343, 344, 345, 346, 347, 348, 349]},\n",
       "       pre_dispatch='2*n_jobs', refit=True, return_train_score='warn',\n",
       "       scoring='roc_auc', verbose=0)"
      ]
     },
     "execution_count": 165,
     "metadata": {},
     "output_type": "execute_result"
    }
   ],
   "source": [
    "xgb_base_n_est = {\n",
    "    \"n_estimators\": range(300, 350)\n",
    "}\n",
    "\n",
    "xgb_base = XGBClassifier(**xgb_base_params)\n",
    "\n",
    "gs_base_n_est = GridSearchCV(estimator=xgb_base, param_grid=xgb_base_n_est, cv=n_splits, scoring=\"roc_auc\")\n",
    "gs_base_n_est.fit(x_train_base, y_train_base)"
   ]
  },
  {
   "cell_type": "code",
   "execution_count": 124,
   "metadata": {},
   "outputs": [
    {
     "name": "stdout",
     "output_type": "stream",
     "text": [
      "{'n_estimators': 311}\n",
      "0.7507398286576572\n"
     ]
    }
   ],
   "source": [
    "print gs_base_n_est.best_params_\n",
    "print gs_base_n_est.best_score_"
   ]
  },
  {
   "cell_type": "code",
   "execution_count": 166,
   "metadata": {},
   "outputs": [
    {
     "name": "stdout",
     "output_type": "stream",
     "text": [
      "{'n_estimators': 311}\n",
      "0.7507398286576572\n"
     ]
    }
   ],
   "source": [
    "# After first iteration\n",
    "print gs_base_n_est.best_params_\n",
    "print gs_base_n_est.best_score_"
   ]
  },
  {
   "cell_type": "markdown",
   "metadata": {},
   "source": [
    "###### Step 2: Optimize max_depth & min_child_weight"
   ]
  },
  {
   "cell_type": "code",
   "execution_count": 287,
   "metadata": {
    "collapsed": true
   },
   "outputs": [],
   "source": [
    "xgb_base_params[\"n_estimators\"] = 345"
   ]
  },
  {
   "cell_type": "code",
   "execution_count": 288,
   "metadata": {
    "collapsed": true
   },
   "outputs": [],
   "source": [
    "# refit model with optimized params\n",
    "xgb_base = XGBClassifier(**xgb_base_params)\n",
    "\n",
    "xgb_base_param_grid = {\n",
    "    \"max_depth\": range(3, 9, 1),\n",
    "    \"min_child_weight\": range(1, 6, 2)\n",
    "}"
   ]
  },
  {
   "cell_type": "code",
   "execution_count": 289,
   "metadata": {},
   "outputs": [
    {
     "data": {
      "text/plain": [
       "GridSearchCV(cv=5, error_score='raise',\n",
       "       estimator=XGBClassifier(base_score=0.5, booster='gbtree', colsample_bylevel=1,\n",
       "       colsample_bytree=0.8, gamma=0, learning_rate=0.1, max_delta_step=0,\n",
       "       max_depth=5, min_child_weight=1, missing=None, n_estimators=345,\n",
       "       n_jobs=1, nthread=4, objective='binary:logistic', random_state=0,\n",
       "       reg_alpha=0, reg_lambda=1, scale_pos_weight=1, seed=42, silent=True,\n",
       "       subsample=0.8),\n",
       "       fit_params={}, iid=True, n_jobs=1,\n",
       "       param_grid={'max_depth': [3, 4, 5, 6, 7, 8], 'min_child_weight': [1, 3, 5]},\n",
       "       pre_dispatch='2*n_jobs', refit=True, return_train_score=True,\n",
       "       scoring='roc_auc', verbose=0)"
      ]
     },
     "execution_count": 289,
     "metadata": {},
     "output_type": "execute_result"
    }
   ],
   "source": [
    "gs_xgb_base = GridSearchCV(estimator=xgb_base, param_grid=xgb_base_param_grid, cv=n_splits, scoring=\"roc_auc\")\n",
    "gs_xgb_base.fit(x_train_base, y_train_base)"
   ]
  },
  {
   "cell_type": "code",
   "execution_count": 290,
   "metadata": {},
   "outputs": [
    {
     "name": "stdout",
     "output_type": "stream",
     "text": [
      "{'max_depth': 6, 'min_child_weight': 1}\n",
      "0.7527988661\n"
     ]
    }
   ],
   "source": [
    "print gs_xgb_base.best_params_\n",
    "print gs_xgb_base.best_score_"
   ]
  },
  {
   "cell_type": "code",
   "execution_count": 291,
   "metadata": {
    "collapsed": true
   },
   "outputs": [],
   "source": [
    "xgb_base_params[\"max_depth\"] = 6\n",
    "xgb_base_params[\"min_child_weight\"] = 1"
   ]
  },
  {
   "cell_type": "code",
   "execution_count": 293,
   "metadata": {
    "collapsed": true
   },
   "outputs": [],
   "source": [
    "# refit model with optimized params\n",
    "xgb_base = XGBClassifier(**xgb_base_params)"
   ]
  },
  {
   "cell_type": "markdown",
   "metadata": {},
   "source": [
    "We'll now look for optimum values by searching 1 above and 1 below the initial best parameters."
   ]
  },
  {
   "cell_type": "code",
   "execution_count": 294,
   "metadata": {
    "collapsed": true
   },
   "outputs": [],
   "source": [
    "xgb_base_param_grid_2 = {\n",
    "    \"max_depth\": [8, 9, 10],\n",
    "    \"min_child_weight\": [0, 1, 2, 3, 4]\n",
    "}"
   ]
  },
  {
   "cell_type": "code",
   "execution_count": 295,
   "metadata": {},
   "outputs": [
    {
     "data": {
      "text/plain": [
       "GridSearchCV(cv=5, error_score='raise',\n",
       "       estimator=XGBClassifier(base_score=0.5, booster='gbtree', colsample_bylevel=1,\n",
       "       colsample_bytree=0.8, gamma=0, learning_rate=0.1, max_delta_step=0,\n",
       "       max_depth=6, min_child_weight=1, missing=None, n_estimators=345,\n",
       "       n_jobs=1, nthread=4, objective='binary:logistic', random_state=0,\n",
       "       reg_alpha=0, reg_lambda=1, scale_pos_weight=1, seed=42, silent=True,\n",
       "       subsample=0.8),\n",
       "       fit_params={}, iid=True, n_jobs=1,\n",
       "       param_grid={'max_depth': [8, 9, 10], 'min_child_weight': [0, 1, 2, 3, 4]},\n",
       "       pre_dispatch='2*n_jobs', refit=True, return_train_score=True,\n",
       "       scoring='roc_auc', verbose=0)"
      ]
     },
     "execution_count": 295,
     "metadata": {},
     "output_type": "execute_result"
    }
   ],
   "source": [
    "gs_xgb_base_2 = GridSearchCV(estimator=xgb_base, param_grid=xgb_base_param_grid_2, cv=n_splits, scoring=\"roc_auc\")\n",
    "gs_xgb_base_2.fit(x_train_base, y_train_base)"
   ]
  },
  {
   "cell_type": "code",
   "execution_count": 296,
   "metadata": {},
   "outputs": [
    {
     "name": "stdout",
     "output_type": "stream",
     "text": [
      "{'max_depth': 8, 'min_child_weight': 2}\n",
      "0.75347678825\n"
     ]
    }
   ],
   "source": [
    "print gs_xgb_base_2.best_params_\n",
    "print gs_xgb_base_2.best_score_"
   ]
  },
  {
   "cell_type": "code",
   "execution_count": 297,
   "metadata": {
    "collapsed": true
   },
   "outputs": [],
   "source": [
    "# Looks like we got a better max_depth!\n",
    "xgb_base_params[\"max_depth\"] = 8\n",
    "xgb_base_params[\"min_child_weight\"] = 2"
   ]
  },
  {
   "cell_type": "markdown",
   "metadata": {},
   "source": [
    "To ensure **min_child_weight** isn't just a local optimum, we'll test values larger than our initial test range."
   ]
  },
  {
   "cell_type": "code",
   "execution_count": 298,
   "metadata": {
    "collapsed": true
   },
   "outputs": [],
   "source": [
    "xgb_base_param_grid_2b = {\n",
    "    \"min_child_weight\": [1, 2, 6, 8, 10, 12]\n",
    "}"
   ]
  },
  {
   "cell_type": "code",
   "execution_count": 299,
   "metadata": {
    "collapsed": true
   },
   "outputs": [],
   "source": [
    "# refit model with optimized params\n",
    "xgb_base = XGBClassifier(**xgb_base_params)"
   ]
  },
  {
   "cell_type": "code",
   "execution_count": 300,
   "metadata": {},
   "outputs": [
    {
     "data": {
      "text/plain": [
       "GridSearchCV(cv=5, error_score='raise',\n",
       "       estimator=XGBClassifier(base_score=0.5, booster='gbtree', colsample_bylevel=1,\n",
       "       colsample_bytree=0.8, gamma=0, learning_rate=0.1, max_delta_step=0,\n",
       "       max_depth=8, min_child_weight=2, missing=None, n_estimators=345,\n",
       "       n_jobs=1, nthread=4, objective='binary:logistic', random_state=0,\n",
       "       reg_alpha=0, reg_lambda=1, scale_pos_weight=1, seed=42, silent=True,\n",
       "       subsample=0.8),\n",
       "       fit_params={}, iid=True, n_jobs=1,\n",
       "       param_grid={'min_child_weight': [1, 2, 6, 8, 10, 12]},\n",
       "       pre_dispatch='2*n_jobs', refit=True, return_train_score=True,\n",
       "       scoring='roc_auc', verbose=0)"
      ]
     },
     "execution_count": 300,
     "metadata": {},
     "output_type": "execute_result"
    }
   ],
   "source": [
    "gs_xgb_base_2b = GridSearchCV(estimator=xgb_base, param_grid=xgb_base_param_grid_2b, cv=n_splits, scoring=\"roc_auc\")\n",
    "gs_xgb_base_2b.fit(x_train_base, y_train_base)"
   ]
  },
  {
   "cell_type": "code",
   "execution_count": 302,
   "metadata": {},
   "outputs": [
    {
     "name": "stdout",
     "output_type": "stream",
     "text": [
      "{'min_child_weight': 2}\n",
      "0.75347678825\n"
     ]
    }
   ],
   "source": [
    "# Looks like we were right!\n",
    "print gs_xgb_base_2b.best_params_\n",
    "print gs_xgb_base_2b.best_score_"
   ]
  },
  {
   "cell_type": "markdown",
   "metadata": {},
   "source": [
    "###### Step 3: Tune Gamma"
   ]
  },
  {
   "cell_type": "code",
   "execution_count": 303,
   "metadata": {
    "collapsed": true
   },
   "outputs": [],
   "source": [
    "xgb_base_param_grid_3 = {\n",
    "    \"gamma\": [(i / 10.0) for i in range(0,5)]\n",
    "}"
   ]
  },
  {
   "cell_type": "code",
   "execution_count": 304,
   "metadata": {},
   "outputs": [
    {
     "data": {
      "text/plain": [
       "GridSearchCV(cv=5, error_score='raise',\n",
       "       estimator=XGBClassifier(base_score=0.5, booster='gbtree', colsample_bylevel=1,\n",
       "       colsample_bytree=0.8, gamma=0, learning_rate=0.1, max_delta_step=0,\n",
       "       max_depth=8, min_child_weight=2, missing=None, n_estimators=345,\n",
       "       n_jobs=1, nthread=4, objective='binary:logistic', random_state=0,\n",
       "       reg_alpha=0, reg_lambda=1, scale_pos_weight=1, seed=42, silent=True,\n",
       "       subsample=0.8),\n",
       "       fit_params={}, iid=True, n_jobs=1,\n",
       "       param_grid={'gamma': [0.0, 0.1, 0.2, 0.3, 0.4]},\n",
       "       pre_dispatch='2*n_jobs', refit=True, return_train_score=True,\n",
       "       scoring='roc_auc', verbose=0)"
      ]
     },
     "execution_count": 304,
     "metadata": {},
     "output_type": "execute_result"
    }
   ],
   "source": [
    "gs_xgb_base_3 = GridSearchCV(estimator=xgb_base, param_grid=xgb_base_param_grid_3, cv=n_splits, scoring=\"roc_auc\")\n",
    "gs_xgb_base_3.fit(x_train_base, y_train_base)"
   ]
  },
  {
   "cell_type": "code",
   "execution_count": 305,
   "metadata": {},
   "outputs": [
    {
     "name": "stdout",
     "output_type": "stream",
     "text": [
      "{'gamma': 0.2}\n",
      "0.755026850826\n"
     ]
    }
   ],
   "source": [
    "print gs_xgb_base_3.best_params_\n",
    "print gs_xgb_base_3.best_score_"
   ]
  },
  {
   "cell_type": "code",
   "execution_count": 306,
   "metadata": {
    "collapsed": true
   },
   "outputs": [],
   "source": [
    "xgb_base_params[\"gamma\"] = 0.2"
   ]
  },
  {
   "cell_type": "markdown",
   "metadata": {},
   "source": [
    "###### Step 4: Tune subsample & colsample_bytree\n",
    "\n",
    "Like **max_depth**, we'll use a 2-step process of searching across **0.1** increments, then a **0.5** change above and below our initial optimum."
   ]
  },
  {
   "cell_type": "code",
   "execution_count": 307,
   "metadata": {
    "collapsed": true
   },
   "outputs": [],
   "source": [
    "# refit model with optimized params\n",
    "xgb_base = XGBClassifier(**xgb_base_params)"
   ]
  },
  {
   "cell_type": "code",
   "execution_count": 308,
   "metadata": {
    "collapsed": true
   },
   "outputs": [],
   "source": [
    "# Step one\n",
    "xgb_base_param_grid_4a = {\n",
    "    \"subsample\": [0.6, 0.7, 0.8, 0.9, 1.0],\n",
    "#     \"colsample_bytree\": [0.6, 0.7, 0.8, 0.9, 1.0]\n",
    "    \"colsample_bytree\": [0.1, 0.2, 0.3, 0.4, 0.5, 0.6]\n",
    "}"
   ]
  },
  {
   "cell_type": "code",
   "execution_count": 309,
   "metadata": {},
   "outputs": [
    {
     "data": {
      "text/plain": [
       "GridSearchCV(cv=5, error_score='raise',\n",
       "       estimator=XGBClassifier(base_score=0.5, booster='gbtree', colsample_bylevel=1,\n",
       "       colsample_bytree=0.8, gamma=0.2, learning_rate=0.1,\n",
       "       max_delta_step=0, max_depth=8, min_child_weight=2, missing=None,\n",
       "       n_estimators=345, n_jobs=1, nthread=4, objective='binary:logistic',\n",
       "       random_state=0, reg_alpha=0, reg_lambda=1, scale_pos_weight=1,\n",
       "       seed=42, silent=True, subsample=0.8),\n",
       "       fit_params={}, iid=True, n_jobs=1,\n",
       "       param_grid={'subsample': [0.6, 0.7, 0.8, 0.9, 1.0], 'colsample_bytree': [0.1, 0.2, 0.3, 0.4, 0.5, 0.6]},\n",
       "       pre_dispatch='2*n_jobs', refit=True, return_train_score=True,\n",
       "       scoring='roc_auc', verbose=0)"
      ]
     },
     "execution_count": 309,
     "metadata": {},
     "output_type": "execute_result"
    }
   ],
   "source": [
    "gs_xgb_base_4a = GridSearchCV(estimator=xgb_base, param_grid=xgb_base_param_grid_4a, cv=n_splits, scoring=\"roc_auc\")\n",
    "gs_xgb_base_4a.fit(x_train_base, y_train_base)"
   ]
  },
  {
   "cell_type": "code",
   "execution_count": 310,
   "metadata": {},
   "outputs": [
    {
     "name": "stdout",
     "output_type": "stream",
     "text": [
      "{'subsample': 0.6, 'colsample_bytree': 0.5}\n",
      "0.758964979608\n"
     ]
    }
   ],
   "source": [
    "print gs_xgb_base_4a.best_params_\n",
    "print gs_xgb_base_4a.best_score_"
   ]
  },
  {
   "cell_type": "code",
   "execution_count": 311,
   "metadata": {
    "collapsed": true
   },
   "outputs": [],
   "source": [
    "xgb_base_params[\"colsample_bytree\"] = 0.5\n",
    "xgb_base_params[\"subsample\"] = 0.6"
   ]
  },
  {
   "cell_type": "code",
   "execution_count": 312,
   "metadata": {
    "collapsed": true
   },
   "outputs": [],
   "source": [
    "# refit model with optimized params\n",
    "xgb_base = XGBClassifier(**xgb_base_params)"
   ]
  },
  {
   "cell_type": "code",
   "execution_count": 313,
   "metadata": {
    "collapsed": true
   },
   "outputs": [],
   "source": [
    "# Step two\n",
    "xgb_base_param_grid_4b = {\n",
    "    \"subsample\": [0.55, 0.6, 0.65],\n",
    "    \"colsample_bytree\": [0.45, 0.5, 0.55]\n",
    "}"
   ]
  },
  {
   "cell_type": "code",
   "execution_count": 314,
   "metadata": {},
   "outputs": [
    {
     "data": {
      "text/plain": [
       "GridSearchCV(cv=5, error_score='raise',\n",
       "       estimator=XGBClassifier(base_score=0.5, booster='gbtree', colsample_bylevel=1,\n",
       "       colsample_bytree=0.5, gamma=0.2, learning_rate=0.1,\n",
       "       max_delta_step=0, max_depth=8, min_child_weight=2, missing=None,\n",
       "       n_estimators=198, n_jobs=1, nthread=4, objective='binary:logistic',\n",
       "       random_state=0, reg_alpha=0, reg_lambda=1, scale_pos_weight=1,\n",
       "       seed=42, silent=True, subsample=0.6),\n",
       "       fit_params={}, iid=True, n_jobs=1,\n",
       "       param_grid={'subsample': [0.55, 0.6, 0.65], 'colsample_bytree': [0.45, 0.5, 0.55]},\n",
       "       pre_dispatch='2*n_jobs', refit=True, return_train_score=True,\n",
       "       scoring='roc_auc', verbose=0)"
      ]
     },
     "execution_count": 314,
     "metadata": {},
     "output_type": "execute_result"
    }
   ],
   "source": [
    "gs_xgb_base_4b = GridSearchCV(estimator=xgb_base, param_grid=xgb_base_param_grid_4b, cv=n_splits, scoring=\"roc_auc\")\n",
    "gs_xgb_base_4b.fit(x_train_base, y_train_base)"
   ]
  },
  {
   "cell_type": "code",
   "execution_count": 315,
   "metadata": {},
   "outputs": [
    {
     "name": "stdout",
     "output_type": "stream",
     "text": [
      "{'subsample': 0.6, 'colsample_bytree': 0.5}\n",
      "0.760606208777\n"
     ]
    }
   ],
   "source": [
    "print gs_xgb_base_4b.best_params_\n",
    "print gs_xgb_base_4b.best_score_"
   ]
  },
  {
   "cell_type": "markdown",
   "metadata": {},
   "source": [
    "Looks like our initial optimum for these two features were the best values.\n",
    "\n",
    "I'm going to go ahead and stop tuning additional parameters, as I don't want to potentially \"overtune\" my model."
   ]
  },
  {
   "cell_type": "markdown",
   "metadata": {},
   "source": [
    "###### Using Reduced Data"
   ]
  },
  {
   "cell_type": "code",
   "execution_count": 153,
   "metadata": {
    "collapsed": true
   },
   "outputs": [],
   "source": [
    "xgb_reduced_params = {\n",
    "    \"learning_rate\": 0.1,\n",
    "    \"n_estimators\": 223,\n",
    "    \"max_depth\": 7,\n",
    "    \"min_child_weight\": 1,\n",
    "    \"gamma\": 0,\n",
    "    \"subsample\": 0.8,\n",
    "    \"colsample_bytree\": 0.75,\n",
    "    \"objective\": 'binary:logistic', # Used for classifier XGB\n",
    "    \"seed\": seed    \n",
    "}"
   ]
  },
  {
   "cell_type": "code",
   "execution_count": 154,
   "metadata": {},
   "outputs": [
    {
     "data": {
      "text/plain": [
       "GridSearchCV(cv=5, error_score='raise',\n",
       "       estimator=XGBClassifier(base_score=0.5, booster='gbtree', colsample_bylevel=1,\n",
       "       colsample_bytree=0.75, gamma=0, learning_rate=0.1, max_delta_step=0,\n",
       "       max_depth=7, min_child_weight=1, missing=None, n_estimators=223,\n",
       "       n_jobs=1, nthread=None, objective='binary:logistic', random_state=0,\n",
       "       reg_alpha=0, reg_lambda=1, scale_pos_weight=1, seed=42, silent=True,\n",
       "       subsample=0.8),\n",
       "       fit_params=None, iid=True, n_jobs=1,\n",
       "       param_grid={'n_estimators': [215, 216, 217, 218, 219, 220, 221, 222, 223, 224, 225, 226, 227, 228, 229]},\n",
       "       pre_dispatch='2*n_jobs', refit=True, return_train_score='warn',\n",
       "       scoring='roc_auc', verbose=0)"
      ]
     },
     "execution_count": 154,
     "metadata": {},
     "output_type": "execute_result"
    }
   ],
   "source": [
    "xgb_reduced_n_est = {\n",
    "    \"n_estimators\": range(215, 230)\n",
    "}\n",
    "\n",
    "xgb_reduced = XGBClassifier(**xgb_reduced_params)\n",
    "\n",
    "gs_reduced_n_est = GridSearchCV(estimator=xgb_reduced, param_grid=xgb_reduced_n_est, cv=n_splits, scoring=\"roc_auc\")\n",
    "gs_reduced_n_est.fit(x_train_reduced, y_train_reduced)"
   ]
  },
  {
   "cell_type": "code",
   "execution_count": 148,
   "metadata": {},
   "outputs": [
    {
     "name": "stdout",
     "output_type": "stream",
     "text": [
      "{'n_estimators': 220}\n",
      "0.7593967046522269\n"
     ]
    }
   ],
   "source": [
    "print gs_reduced_n_est.best_params_\n",
    "print gs_reduced_n_est.best_score_"
   ]
  },
  {
   "cell_type": "code",
   "execution_count": 155,
   "metadata": {},
   "outputs": [
    {
     "name": "stdout",
     "output_type": "stream",
     "text": [
      "{'n_estimators': 223}\n",
      "0.7599316268348643\n"
     ]
    }
   ],
   "source": [
    "# After 1st iteration\n",
    "print gs_reduced_n_est.best_params_\n",
    "print gs_reduced_n_est.best_score_"
   ]
  },
  {
   "cell_type": "code",
   "execution_count": 156,
   "metadata": {},
   "outputs": [
    {
     "name": "stdout",
     "output_type": "stream",
     "text": [
      "Fitting 5 folds for each of 9 candidates, totalling 45 fits\n"
     ]
    },
    {
     "name": "stderr",
     "output_type": "stream",
     "text": [
      "[Parallel(n_jobs=1)]: Done  45 out of  45 | elapsed:  1.5min finished\n"
     ]
    },
    {
     "data": {
      "text/plain": [
       "GridSearchCV(cv=5, error_score='raise',\n",
       "       estimator=XGBClassifier(base_score=0.5, booster='gbtree', colsample_bylevel=1,\n",
       "       colsample_bytree=0.75, gamma=0, learning_rate=0.1, max_delta_step=0,\n",
       "       max_depth=7, min_child_weight=1, missing=None, n_estimators=223,\n",
       "       n_jobs=1, nthread=None, objective='binary:logistic', random_state=0,\n",
       "       reg_alpha=0, reg_lambda=1, scale_pos_weight=1, seed=42, silent=True,\n",
       "       subsample=0.8),\n",
       "       fit_params=None, iid=True, n_jobs=1,\n",
       "       param_grid={'max_depth': [6, 7, 8], 'min_child_weight': [0, 1, 2]},\n",
       "       pre_dispatch='2*n_jobs', refit=True, return_train_score='warn',\n",
       "       scoring='roc_auc', verbose=1)"
      ]
     },
     "execution_count": 156,
     "metadata": {},
     "output_type": "execute_result"
    }
   ],
   "source": [
    "xgb_reduced = XGBClassifier(**xgb_reduced_params)\n",
    "\n",
    "gs_md_mcw = {\n",
    "    \"max_depth\": range(6, 9),\n",
    "    \"min_child_weight\": range(0, 3)\n",
    "}\n",
    "\n",
    "gs_md_mcw = GridSearchCV(estimator=xgb_reduced, param_grid=gs_md_mcw, cv=n_splits, scoring=\"roc_auc\", verbose=1)\n",
    "gs_md_mcw.fit(x_train_reduced, y_train_reduced)"
   ]
  },
  {
   "cell_type": "code",
   "execution_count": 103,
   "metadata": {},
   "outputs": [
    {
     "name": "stdout",
     "output_type": "stream",
     "text": [
      "{'max_depth': 7, 'min_child_weight': 1}\n",
      "0.7580583641939536\n"
     ]
    }
   ],
   "source": [
    "print gs_md_mcw.best_params_\n",
    "print gs_md_mcw.best_score_"
   ]
  },
  {
   "cell_type": "code",
   "execution_count": 109,
   "metadata": {},
   "outputs": [
    {
     "name": "stdout",
     "output_type": "stream",
     "text": [
      "{'max_depth': 7, 'min_child_weight': 1}\n",
      "0.7592573880980192\n"
     ]
    }
   ],
   "source": [
    "print gs_md_mcw.best_params_\n",
    "print gs_md_mcw.best_score_"
   ]
  },
  {
   "cell_type": "code",
   "execution_count": 157,
   "metadata": {},
   "outputs": [
    {
     "name": "stdout",
     "output_type": "stream",
     "text": [
      "{'max_depth': 7, 'min_child_weight': 1}\n",
      "0.7599316268348643\n"
     ]
    }
   ],
   "source": [
    "# After first iteration\n",
    "print gs_md_mcw.best_params_\n",
    "print gs_md_mcw.best_score_"
   ]
  },
  {
   "cell_type": "code",
   "execution_count": 158,
   "metadata": {},
   "outputs": [
    {
     "data": {
      "text/plain": [
       "GridSearchCV(cv=5, error_score='raise',\n",
       "       estimator=XGBClassifier(base_score=0.5, booster='gbtree', colsample_bylevel=1,\n",
       "       colsample_bytree=0.75, gamma=0, learning_rate=0.1, max_delta_step=0,\n",
       "       max_depth=7, min_child_weight=1, missing=None, n_estimators=223,\n",
       "       n_jobs=1, nthread=None, objective='binary:logistic', random_state=0,\n",
       "       reg_alpha=0, reg_lambda=1, scale_pos_weight=1, seed=42, silent=True,\n",
       "       subsample=0.8),\n",
       "       fit_params=None, iid=True, n_jobs=1,\n",
       "       param_grid={'gamma': [0.0, 0.1, 0.2, 0.3, 0.4]},\n",
       "       pre_dispatch='2*n_jobs', refit=True, return_train_score='warn',\n",
       "       scoring='roc_auc', verbose=0)"
      ]
     },
     "execution_count": 158,
     "metadata": {},
     "output_type": "execute_result"
    }
   ],
   "source": [
    "xgb_reduced = XGBClassifier(**xgb_reduced_params)\n",
    "\n",
    "gs_gamma = {\n",
    "    \"gamma\": [(i / 10.0) for i in range(0, 5)]\n",
    "}\n",
    "\n",
    "gs_gamma = GridSearchCV(estimator=xgb_reduced, param_grid=gs_gamma, cv=n_splits, scoring=\"roc_auc\")\n",
    "gs_gamma.fit(x_train_reduced, y_train_reduced)"
   ]
  },
  {
   "cell_type": "code",
   "execution_count": 111,
   "metadata": {},
   "outputs": [
    {
     "name": "stdout",
     "output_type": "stream",
     "text": [
      "{'gamma': 0.0}\n",
      "0.7592573880980192\n"
     ]
    }
   ],
   "source": [
    "print gs_gamma.best_params_\n",
    "print gs_gamma.best_score_"
   ]
  },
  {
   "cell_type": "code",
   "execution_count": 167,
   "metadata": {},
   "outputs": [
    {
     "name": "stdout",
     "output_type": "stream",
     "text": [
      "{'gamma': 0.0}\n",
      "0.7599316268348643\n"
     ]
    }
   ],
   "source": [
    "# After first iteration\n",
    "print gs_gamma.best_params_\n",
    "print gs_gamma.best_score_"
   ]
  },
  {
   "cell_type": "code",
   "execution_count": 160,
   "metadata": {},
   "outputs": [
    {
     "name": "stdout",
     "output_type": "stream",
     "text": [
      "Fitting 5 folds for each of 44 candidates, totalling 220 fits\n"
     ]
    },
    {
     "name": "stderr",
     "output_type": "stream",
     "text": [
      "[Parallel(n_jobs=1)]: Done 220 out of 220 | elapsed:  5.3min finished\n"
     ]
    },
    {
     "data": {
      "text/plain": [
       "GridSearchCV(cv=5, error_score='raise',\n",
       "       estimator=XGBClassifier(base_score=0.5, booster='gbtree', colsample_bylevel=1,\n",
       "       colsample_bytree=0.75, gamma=0, learning_rate=0.1, max_delta_step=0,\n",
       "       max_depth=7, min_child_weight=1, missing=None, n_estimators=223,\n",
       "       n_jobs=1, nthread=None, objective='binary:logistic', random_state=0,\n",
       "       reg_alpha=0, reg_lambda=1, scale_pos_weight=1, seed=42, silent=True,\n",
       "       subsample=0.8),\n",
       "       fit_params=None, iid=True, n_jobs=1,\n",
       "       param_grid={'subsample': [0.75, 0.8, 0.85, 0.9], 'colsample_bytree': [0.3, 0.35, 0.4, 0.45, 0.5, 0.55, 0.6, 0.65, 0.7, 0.75, 0.8]},\n",
       "       pre_dispatch='2*n_jobs', refit=True, return_train_score='warn',\n",
       "       scoring='roc_auc', verbose=1)"
      ]
     },
     "execution_count": 160,
     "metadata": {},
     "output_type": "execute_result"
    }
   ],
   "source": [
    "xgb_reduced = XGBClassifier(**xgb_reduced_params)\n",
    "\n",
    "gs_ss_cb = {\n",
    "    \"subsample\": [0.75, 0.8, 0.85, 0.9],\n",
    "    \"colsample_bytree\": [0.3, 0.35, 0.4, 0.45, 0.5, 0.55, 0.6, 0.65, 0.7, 0.75, 0.8]\n",
    "}\n",
    "\n",
    "gs_ss_cb = GridSearchCV(estimator=xgb_reduced, param_grid=gs_ss_cb, cv=n_splits, scoring=\"roc_auc\", verbose=1)\n",
    "gs_ss_cb.fit(x_train_reduced, y_train_reduced)"
   ]
  },
  {
   "cell_type": "code",
   "execution_count": 114,
   "metadata": {},
   "outputs": [
    {
     "name": "stdout",
     "output_type": "stream",
     "text": [
      "{'subsample': 0.8, 'colsample_bytree': 0.75}\n",
      "0.7592573880980192\n"
     ]
    }
   ],
   "source": [
    "print gs_ss_cb.best_params_\n",
    "print gs_ss_cb.best_score_"
   ]
  },
  {
   "cell_type": "code",
   "execution_count": 161,
   "metadata": {},
   "outputs": [
    {
     "name": "stdout",
     "output_type": "stream",
     "text": [
      "{'subsample': 0.8, 'colsample_bytree': 0.75}\n",
      "0.7599316268348643\n"
     ]
    }
   ],
   "source": [
    "# After first iteration\n",
    "print gs_ss_cb.best_params_\n",
    "print gs_ss_cb.best_score_"
   ]
  },
  {
   "cell_type": "markdown",
   "metadata": {},
   "source": [
    "#### Using Polynomial Data"
   ]
  },
  {
   "cell_type": "code",
   "execution_count": 48,
   "metadata": {
    "collapsed": true
   },
   "outputs": [],
   "source": [
    "xgb_poly_params = {\n",
    "    \"learning_rate\": 0.05,\n",
    "    \"n_estimators\": 343,\n",
    "    \"max_depth\": 17,\n",
    "    \"min_child_weight\": 3,\n",
    "    \"gamma\": 0.2,\n",
    "    \"subsample\": 0.75,\n",
    "    \"colsample_bytree\": 0.35,\n",
    "    \"objective\": 'binary:logistic', # Used for classifier XGB\n",
    "    \"seed\": seed    \n",
    "}"
   ]
  },
  {
   "cell_type": "code",
   "execution_count": 46,
   "metadata": {},
   "outputs": [
    {
     "name": "stdout",
     "output_type": "stream",
     "text": [
      "Fitting 5 folds for each of 10 candidates, totalling 50 fits\n"
     ]
    },
    {
     "name": "stderr",
     "output_type": "stream",
     "text": [
      "[Parallel(n_jobs=1)]: Done  50 out of  50 | elapsed:  5.1min finished\n"
     ]
    },
    {
     "data": {
      "text/plain": [
       "GridSearchCV(cv=5, error_score='raise',\n",
       "       estimator=XGBClassifier(base_score=0.5, booster='gbtree', colsample_bylevel=1,\n",
       "       colsample_bytree=0.35, gamma=0.2, learning_rate=0.05,\n",
       "       max_delta_step=0, max_depth=17, min_child_weight=3, missing=None,\n",
       "       n_estimators=339, n_jobs=1, nthread=None,\n",
       "       objective='binary:logistic', random_state=0, reg_alpha=0,\n",
       "       reg_lambda=1, scale_pos_weight=1, seed=42, silent=True,\n",
       "       subsample=0.75),\n",
       "       fit_params=None, iid=True, n_jobs=1,\n",
       "       param_grid={'n_estimators': [335, 336, 337, 338, 339, 340, 341, 342, 343, 344]},\n",
       "       pre_dispatch='2*n_jobs', refit=True, return_train_score='warn',\n",
       "       scoring='roc_auc', verbose=1)"
      ]
     },
     "execution_count": 46,
     "metadata": {},
     "output_type": "execute_result"
    }
   ],
   "source": [
    "xgb_poly_n_est = {\n",
    "    \"n_estimators\": range(335, 345)\n",
    "}\n",
    "\n",
    "xgb_poly = XGBClassifier(**xgb_poly_params)\n",
    "\n",
    "gs_poly_n_est = GridSearchCV(estimator=xgb_poly, param_grid=xgb_poly_n_est, cv=n_splits, scoring=\"roc_auc\", verbose=1)\n",
    "gs_poly_n_est.fit(x_train_poly, y_train_poly)"
   ]
  },
  {
   "cell_type": "code",
   "execution_count": 12,
   "metadata": {},
   "outputs": [
    {
     "name": "stdout",
     "output_type": "stream",
     "text": [
      "{'n_estimators': 340}\n",
      "0.7511335078388837\n"
     ]
    }
   ],
   "source": [
    "print gs_poly_n_est.best_params_\n",
    "print gs_poly_n_est.best_score_"
   ]
  },
  {
   "cell_type": "code",
   "execution_count": 15,
   "metadata": {},
   "outputs": [
    {
     "name": "stdout",
     "output_type": "stream",
     "text": [
      "{'n_estimators': 339}\n",
      "0.7511949102193791\n"
     ]
    }
   ],
   "source": [
    "print gs_poly_n_est.best_params_\n",
    "print gs_poly_n_est.best_score_"
   ]
  },
  {
   "cell_type": "code",
   "execution_count": 47,
   "metadata": {},
   "outputs": [
    {
     "name": "stdout",
     "output_type": "stream",
     "text": [
      "{'n_estimators': 343}\n",
      "0.7541242814466971\n"
     ]
    }
   ],
   "source": [
    "# After first iteration\n",
    "print gs_poly_n_est.best_params_\n",
    "print gs_poly_n_est.best_score_"
   ]
  },
  {
   "cell_type": "code",
   "execution_count": 30,
   "metadata": {},
   "outputs": [
    {
     "name": "stdout",
     "output_type": "stream",
     "text": [
      "Fitting 5 folds for each of 6 candidates, totalling 30 fits\n"
     ]
    },
    {
     "name": "stderr",
     "output_type": "stream",
     "text": [
      "[Parallel(n_jobs=1)]: Done  30 out of  30 | elapsed:  5.2min finished\n"
     ]
    },
    {
     "data": {
      "text/plain": [
       "GridSearchCV(cv=5, error_score='raise',\n",
       "       estimator=XGBClassifier(base_score=0.5, booster='gbtree', colsample_bylevel=1,\n",
       "       colsample_bytree=0.35, gamma=0, learning_rate=0.05,\n",
       "       max_delta_step=0, max_depth=17, min_child_weight=3, missing=None,\n",
       "       n_estimators=339, n_jobs=1, nthread=None,\n",
       "       objective='binary:logistic', random_state=0, reg_alpha=0,\n",
       "       reg_lambda=1, scale_pos_weight=1, seed=42, silent=True,\n",
       "       subsample=0.75),\n",
       "       fit_params=None, iid=True, n_jobs=1,\n",
       "       param_grid={'max_depth': [16, 17, 18], 'min_child_weight': [3, 4]},\n",
       "       pre_dispatch='2*n_jobs', refit=True, return_train_score='warn',\n",
       "       scoring='roc_auc', verbose=1)"
      ]
     },
     "execution_count": 30,
     "metadata": {},
     "output_type": "execute_result"
    }
   ],
   "source": [
    "xgb_poly = XGBClassifier(**xgb_poly_params)\n",
    "\n",
    "gs_md_mcw = {\n",
    "    \"max_depth\": range(16, 18 + 1),\n",
    "    \"min_child_weight\": range(3, 5)\n",
    "}\n",
    "\n",
    "gs_md_mcw = GridSearchCV(estimator=xgb_poly, param_grid=gs_md_mcw, cv=n_splits, scoring=\"roc_auc\", verbose=1)\n",
    "gs_md_mcw.fit(x_train_poly, y_train_poly)"
   ]
  },
  {
   "cell_type": "code",
   "execution_count": 21,
   "metadata": {},
   "outputs": [
    {
     "name": "stdout",
     "output_type": "stream",
     "text": [
      "{'max_depth': 10, 'min_child_weight': 3}\n",
      "0.7491771519086454\n"
     ]
    }
   ],
   "source": [
    "print gs_md_mcw.best_params_\n",
    "print gs_md_mcw.best_score_"
   ]
  },
  {
   "cell_type": "code",
   "execution_count": 23,
   "metadata": {},
   "outputs": [
    {
     "name": "stdout",
     "output_type": "stream",
     "text": [
      "{'max_depth': 13}\n",
      "0.7560657449943476\n"
     ]
    }
   ],
   "source": [
    "print gs_md_mcw.best_params_\n",
    "print gs_md_mcw.best_score_"
   ]
  },
  {
   "cell_type": "code",
   "execution_count": 25,
   "metadata": {},
   "outputs": [
    {
     "name": "stdout",
     "output_type": "stream",
     "text": [
      "{'max_depth': 16}\n",
      "0.7591748820996025\n"
     ]
    }
   ],
   "source": [
    "print gs_md_mcw.best_params_\n",
    "print gs_md_mcw.best_score_"
   ]
  },
  {
   "cell_type": "code",
   "execution_count": 34,
   "metadata": {},
   "outputs": [
    {
     "name": "stdout",
     "output_type": "stream",
     "text": [
      "Fitting 5 folds for each of 3 candidates, totalling 15 fits\n"
     ]
    },
    {
     "name": "stderr",
     "output_type": "stream",
     "text": [
      "[Parallel(n_jobs=1)]: Done  15 out of  15 | elapsed:  1.5min finished\n"
     ]
    },
    {
     "data": {
      "text/plain": [
       "GridSearchCV(cv=5, error_score='raise',\n",
       "       estimator=XGBClassifier(base_score=0.5, booster='gbtree', colsample_bylevel=1,\n",
       "       colsample_bytree=0.35, gamma=0, learning_rate=0.05,\n",
       "       max_delta_step=0, max_depth=17, min_child_weight=3, missing=None,\n",
       "       n_estimators=339, n_jobs=1, nthread=None,\n",
       "       objective='binary:logistic', random_state=0, reg_alpha=0,\n",
       "       reg_lambda=1, scale_pos_weight=1, seed=42, silent=True,\n",
       "       subsample=0.75),\n",
       "       fit_params=None, iid=True, n_jobs=1,\n",
       "       param_grid={'gamma': [0.15, 0.2, 0.25]}, pre_dispatch='2*n_jobs',\n",
       "       refit=True, return_train_score='warn', scoring='roc_auc', verbose=1)"
      ]
     },
     "execution_count": 34,
     "metadata": {},
     "output_type": "execute_result"
    }
   ],
   "source": [
    "xgb_poly = XGBClassifier(**xgb_poly_params)\n",
    "\n",
    "gs_gamma = {\n",
    "    \"gamma\": [0.15, 0.2, 0.25]\n",
    "}\n",
    "\n",
    "gs_gamma = GridSearchCV(estimator=xgb_poly, param_grid=gs_gamma, cv=n_splits, scoring=\"roc_auc\", verbose=1)\n",
    "gs_gamma.fit(x_train_poly, y_train_poly)"
   ]
  },
  {
   "cell_type": "code",
   "execution_count": 33,
   "metadata": {},
   "outputs": [
    {
     "name": "stdout",
     "output_type": "stream",
     "text": [
      "{'gamma': 0.2}\n",
      "0.7540321882174835\n"
     ]
    }
   ],
   "source": [
    "print gs_gamma.best_params_\n",
    "print gs_gamma.best_score_"
   ]
  },
  {
   "cell_type": "code",
   "execution_count": 40,
   "metadata": {},
   "outputs": [
    {
     "name": "stdout",
     "output_type": "stream",
     "text": [
      "Fitting 5 folds for each of 9 candidates, totalling 45 fits\n"
     ]
    },
    {
     "name": "stderr",
     "output_type": "stream",
     "text": [
      "[Parallel(n_jobs=1)]: Done  45 out of  45 | elapsed:  4.5min finished\n"
     ]
    },
    {
     "data": {
      "text/plain": [
       "GridSearchCV(cv=5, error_score='raise',\n",
       "       estimator=XGBClassifier(base_score=0.5, booster='gbtree', colsample_bylevel=1,\n",
       "       colsample_bytree=0.35, gamma=0.2, learning_rate=0.05,\n",
       "       max_delta_step=0, max_depth=16, min_child_weight=3, missing=None,\n",
       "       n_estimators=339, n_jobs=1, nthread=None,\n",
       "       objective='binary:logistic', random_state=0, reg_alpha=0,\n",
       "       reg_lambda=1, scale_pos_weight=1, seed=42, silent=True,\n",
       "       subsample=0.75),\n",
       "       fit_params=None, iid=True, n_jobs=1,\n",
       "       param_grid={'subsample': [0.7, 0.75, 0.8], 'colsample_bytree': [0.35, 0.4, 0.45]},\n",
       "       pre_dispatch='2*n_jobs', refit=True, return_train_score='warn',\n",
       "       scoring='roc_auc', verbose=1)"
      ]
     },
     "execution_count": 40,
     "metadata": {},
     "output_type": "execute_result"
    }
   ],
   "source": [
    "xgb_poly = XGBClassifier(**xgb_poly_params)\n",
    "\n",
    "gs_ss_cb = {\n",
    "    \"subsample\": [0.7, 0.75, 0.8],\n",
    "    \"colsample_bytree\": [0.35, 0.4, 0.45]\n",
    "}\n",
    "\n",
    "gs_ss_cb = GridSearchCV(estimator=xgb_poly, param_grid=gs_ss_cb, cv=n_splits, scoring=\"roc_auc\", verbose=1)\n",
    "gs_ss_cb.fit(x_train_poly, y_train_poly)"
   ]
  },
  {
   "cell_type": "code",
   "execution_count": 37,
   "metadata": {},
   "outputs": [
    {
     "name": "stdout",
     "output_type": "stream",
     "text": [
      "{'subsample': 0.75, 'colsample_bytree': 0.45}\n",
      "0.7545884251782282\n"
     ]
    }
   ],
   "source": [
    "print gs_ss_cb.best_params_\n",
    "print gs_ss_cb.best_score_"
   ]
  },
  {
   "cell_type": "code",
   "execution_count": 43,
   "metadata": {},
   "outputs": [
    {
     "name": "stdout",
     "output_type": "stream",
     "text": [
      "Fitting 5 folds for each of 9 candidates, totalling 45 fits\n"
     ]
    },
    {
     "name": "stderr",
     "output_type": "stream",
     "text": [
      "[Parallel(n_jobs=1)]: Done  45 out of  45 | elapsed:  4.5min finished\n"
     ]
    },
    {
     "data": {
      "text/plain": [
       "GridSearchCV(cv=5, error_score='raise',\n",
       "       estimator=XGBClassifier(base_score=0.5, booster='gbtree', colsample_bylevel=1,\n",
       "       colsample_bytree=0.35, gamma=0.2, learning_rate=0.05,\n",
       "       max_delta_step=0, max_depth=17, min_child_weight=3, missing=None,\n",
       "       n_estimators=339, n_jobs=1, nthread=None,\n",
       "       objective='binary:logistic', random_state=0, reg_alpha=0,\n",
       "       reg_lambda=1, scale_pos_weight=1, seed=42, silent=True,\n",
       "       subsample=0.75),\n",
       "       fit_params=None, iid=True, n_jobs=1,\n",
       "       param_grid={'learning_rate': [0.02, 0.03, 0.04, 0.05, 0.06, 0.07, 0.08, 0.09, 0.1]},\n",
       "       pre_dispatch='2*n_jobs', refit=True, return_train_score='warn',\n",
       "       scoring='roc_auc', verbose=1)"
      ]
     },
     "execution_count": 43,
     "metadata": {},
     "output_type": "execute_result"
    }
   ],
   "source": [
    "xgb_poly = XGBClassifier(**xgb_poly_params)\n",
    "\n",
    "gs_learning = {\n",
    "    \"learning_rate\": [0.02, 0.03, 0.04, 0.05, 0.06, 0.07, 0.08, 0.09, 0.1]\n",
    "}\n",
    "\n",
    "gs_learning = GridSearchCV(estimator=xgb_poly, param_grid=gs_learning, cv=n_splits, scoring=\"roc_auc\", verbose=1)\n",
    "gs_learning.fit(x_train_poly, y_train_poly)"
   ]
  },
  {
   "cell_type": "code",
   "execution_count": 44,
   "metadata": {},
   "outputs": [
    {
     "name": "stdout",
     "output_type": "stream",
     "text": [
      "{'learning_rate': 0.05}\n",
      "0.7540321882174835\n"
     ]
    }
   ],
   "source": [
    "print gs_learning.best_params_\n",
    "print gs_learning.best_score_"
   ]
  },
  {
   "cell_type": "markdown",
   "metadata": {},
   "source": [
    "###### Using Raw Data"
   ]
  },
  {
   "cell_type": "code",
   "execution_count": 212,
   "metadata": {
    "collapsed": true
   },
   "outputs": [],
   "source": [
    "xgb_raw_params = {\n",
    "    \"learning_rate\": 0.05,\n",
    "    \"n_estimators\": 308,\n",
    "    \"max_depth\": 9,\n",
    "    \"min_child_weight\": 1,\n",
    "    \"gamma\": 0,\n",
    "    \"subsample\": 0.75,\n",
    "    \"colsample_bytree\": 0.35,\n",
    "    \"objective\": 'binary:logistic', # Used for classifier XGB\n",
    "    \"seed\": seed    \n",
    "}"
   ]
  },
  {
   "cell_type": "code",
   "execution_count": 208,
   "metadata": {},
   "outputs": [
    {
     "name": "stdout",
     "output_type": "stream",
     "text": [
      "Fitting 5 folds for each of 10 candidates, totalling 50 fits\n"
     ]
    },
    {
     "name": "stderr",
     "output_type": "stream",
     "text": [
      "[Parallel(n_jobs=1)]: Done  50 out of  50 | elapsed:  2.5min finished\n"
     ]
    },
    {
     "data": {
      "text/plain": [
       "GridSearchCV(cv=5, error_score='raise',\n",
       "       estimator=XGBClassifier(base_score=0.5, booster='gbtree', colsample_bylevel=1,\n",
       "       colsample_bytree=0.35, gamma=0, learning_rate=0.05,\n",
       "       max_delta_step=0, max_depth=9, min_child_weight=1, missing=None,\n",
       "       n_estimators=308, n_jobs=1, nthread=None,\n",
       "       objective='binary:logistic', random_state=0, reg_alpha=0,\n",
       "       reg_lambda=1, scale_pos_weight=1, seed=42, silent=True,\n",
       "       subsample=0.75),\n",
       "       fit_params=None, iid=True, n_jobs=1,\n",
       "       param_grid={'n_estimators': [300, 301, 302, 303, 304, 305, 306, 307, 308, 309]},\n",
       "       pre_dispatch='2*n_jobs', refit=True, return_train_score='warn',\n",
       "       scoring='roc_auc', verbose=1)"
      ]
     },
     "execution_count": 208,
     "metadata": {},
     "output_type": "execute_result"
    }
   ],
   "source": [
    "xgb_raw_n_est = {\n",
    "    \"n_estimators\": range(300, 310)\n",
    "}\n",
    "\n",
    "xgb_raw = XGBClassifier(**xgb_raw_params)\n",
    "\n",
    "gs_raw_n_est = GridSearchCV(estimator=xgb_raw, param_grid=xgb_raw_n_est, cv=n_splits, scoring=\"roc_auc\", verbose=1)\n",
    "gs_raw_n_est.fit(x_train_raw, y_train_raw)"
   ]
  },
  {
   "cell_type": "code",
   "execution_count": 170,
   "metadata": {},
   "outputs": [
    {
     "name": "stdout",
     "output_type": "stream",
     "text": [
      "{'n_estimators': 304}\n",
      "0.7504375241872834\n"
     ]
    }
   ],
   "source": [
    "print gs_raw_n_est.best_params_\n",
    "print gs_raw_n_est.best_score_"
   ]
  },
  {
   "cell_type": "code",
   "execution_count": 209,
   "metadata": {},
   "outputs": [
    {
     "name": "stdout",
     "output_type": "stream",
     "text": [
      "{'n_estimators': 308}\n",
      "0.7679402811335971\n"
     ]
    }
   ],
   "source": [
    "# After first iteration\n",
    "print gs_raw_n_est.best_params_\n",
    "print gs_raw_n_est.best_score_"
   ]
  },
  {
   "cell_type": "code",
   "execution_count": 210,
   "metadata": {},
   "outputs": [
    {
     "name": "stdout",
     "output_type": "stream",
     "text": [
      "Fitting 5 folds for each of 9 candidates, totalling 45 fits\n"
     ]
    },
    {
     "name": "stderr",
     "output_type": "stream",
     "text": [
      "[Parallel(n_jobs=1)]: Done  45 out of  45 | elapsed:  2.5min finished\n"
     ]
    },
    {
     "data": {
      "text/plain": [
       "GridSearchCV(cv=5, error_score='raise',\n",
       "       estimator=XGBClassifier(base_score=0.5, booster='gbtree', colsample_bylevel=1,\n",
       "       colsample_bytree=0.35, gamma=0, learning_rate=0.05,\n",
       "       max_delta_step=0, max_depth=9, min_child_weight=1, missing=None,\n",
       "       n_estimators=308, n_jobs=1, nthread=None,\n",
       "       objective='binary:logistic', random_state=0, reg_alpha=0,\n",
       "       reg_lambda=1, scale_pos_weight=1, seed=42, silent=True,\n",
       "       subsample=0.75),\n",
       "       fit_params=None, iid=True, n_jobs=1,\n",
       "       param_grid={'max_depth': [8, 9, 10], 'min_child_weight': [0, 1, 2]},\n",
       "       pre_dispatch='2*n_jobs', refit=True, return_train_score='warn',\n",
       "       scoring='roc_auc', verbose=1)"
      ]
     },
     "execution_count": 210,
     "metadata": {},
     "output_type": "execute_result"
    }
   ],
   "source": [
    "xgb_raw = XGBClassifier(**xgb_raw_params)\n",
    "\n",
    "gs_md_mcw = {\n",
    "    \"max_depth\": range(8, 10 + 1),\n",
    "    \"min_child_weight\": range(0, 2 + 1)\n",
    "}\n",
    "\n",
    "gs_md_mcw = GridSearchCV(estimator=xgb_raw, param_grid=gs_md_mcw, cv=n_splits, scoring=\"roc_auc\", verbose=1)\n",
    "gs_md_mcw.fit(x_train_raw, y_train_raw)"
   ]
  },
  {
   "cell_type": "code",
   "execution_count": 175,
   "metadata": {},
   "outputs": [
    {
     "name": "stdout",
     "output_type": "stream",
     "text": [
      "{'max_depth': 7, 'min_child_weight': 5}\n",
      "0.7497058693786715\n"
     ]
    }
   ],
   "source": [
    "print gs_md_mcw.best_params_\n",
    "print gs_md_mcw.best_score_"
   ]
  },
  {
   "cell_type": "code",
   "execution_count": 178,
   "metadata": {},
   "outputs": [
    {
     "name": "stdout",
     "output_type": "stream",
     "text": [
      "{'max_depth': 9, 'min_child_weight': 4}\n",
      "0.7520580379865669\n"
     ]
    }
   ],
   "source": [
    "print gs_md_mcw.best_params_\n",
    "print gs_md_mcw.best_score_"
   ]
  },
  {
   "cell_type": "code",
   "execution_count": 181,
   "metadata": {},
   "outputs": [
    {
     "name": "stdout",
     "output_type": "stream",
     "text": [
      "{'max_depth': 9, 'min_child_weight': 1}\n",
      "0.7544897211045654\n"
     ]
    }
   ],
   "source": [
    "print gs_md_mcw.best_params_\n",
    "print gs_md_mcw.best_score_"
   ]
  },
  {
   "cell_type": "code",
   "execution_count": 186,
   "metadata": {},
   "outputs": [
    {
     "name": "stdout",
     "output_type": "stream",
     "text": [
      "Fitting 5 folds for each of 5 candidates, totalling 25 fits\n"
     ]
    },
    {
     "name": "stderr",
     "output_type": "stream",
     "text": [
      "[Parallel(n_jobs=1)]: Done  25 out of  25 | elapsed:  2.3min finished\n"
     ]
    },
    {
     "data": {
      "text/plain": [
       "GridSearchCV(cv=5, error_score='raise',\n",
       "       estimator=XGBClassifier(base_score=0.5, booster='gbtree', colsample_bylevel=1,\n",
       "       colsample_bytree=0.75, gamma=0, learning_rate=0.1, max_delta_step=0,\n",
       "       max_depth=9, min_child_weight=1, missing=None, n_estimators=304,\n",
       "       n_jobs=1, nthread=None, objective='binary:logistic', random_state=0,\n",
       "       reg_alpha=0, reg_lambda=1, scale_pos_weight=1, seed=42, silent=True,\n",
       "       subsample=0.8),\n",
       "       fit_params=None, iid=True, n_jobs=1,\n",
       "       param_grid={'gamma': [0.0, 0.1, 0.2, 0.3, 0.4]},\n",
       "       pre_dispatch='2*n_jobs', refit=True, return_train_score='warn',\n",
       "       scoring='roc_auc', verbose=1)"
      ]
     },
     "execution_count": 186,
     "metadata": {},
     "output_type": "execute_result"
    }
   ],
   "source": [
    "xgb_raw = XGBClassifier(**xgb_raw_params)\n",
    "\n",
    "gs_gamma = {\n",
    "    \"gamma\": [(i / 10.0) for i in range(0, 5)]\n",
    "}\n",
    "\n",
    "gs_gamma = GridSearchCV(estimator=xgb_raw, param_grid=gs_gamma, cv=n_splits, scoring=\"roc_auc\", verbose=1)\n",
    "gs_gamma.fit(x_train_raw, y_train_raw)"
   ]
  },
  {
   "cell_type": "code",
   "execution_count": 187,
   "metadata": {},
   "outputs": [
    {
     "name": "stdout",
     "output_type": "stream",
     "text": [
      "{'gamma': 0.0}\n",
      "0.7544897211045654\n"
     ]
    }
   ],
   "source": [
    "print gs_gamma.best_params_\n",
    "print gs_gamma.best_score_"
   ]
  },
  {
   "cell_type": "code",
   "execution_count": 192,
   "metadata": {},
   "outputs": [
    {
     "name": "stdout",
     "output_type": "stream",
     "text": [
      "Fitting 5 folds for each of 12 candidates, totalling 60 fits\n"
     ]
    },
    {
     "name": "stderr",
     "output_type": "stream",
     "text": [
      "[Parallel(n_jobs=1)]: Done  60 out of  60 | elapsed:  3.3min finished\n"
     ]
    },
    {
     "data": {
      "text/plain": [
       "GridSearchCV(cv=5, error_score='raise',\n",
       "       estimator=XGBClassifier(base_score=0.5, booster='gbtree', colsample_bylevel=1,\n",
       "       colsample_bytree=0.35, gamma=0, learning_rate=0.1, max_delta_step=0,\n",
       "       max_depth=9, min_child_weight=1, missing=None, n_estimators=304,\n",
       "       n_jobs=1, nthread=None, objective='binary:logistic', random_state=0,\n",
       "       reg_alpha=0, reg_lambda=1, scale_pos_weight=1, seed=42, silent=True,\n",
       "       subsample=0.75),\n",
       "       fit_params=None, iid=True, n_jobs=1,\n",
       "       param_grid={'subsample': [0.725, 0.75, 0.775], 'colsample_bytree': [0.325, 0.35, 0.375, 0.4]},\n",
       "       pre_dispatch='2*n_jobs', refit=True, return_train_score='warn',\n",
       "       scoring='roc_auc', verbose=1)"
      ]
     },
     "execution_count": 192,
     "metadata": {},
     "output_type": "execute_result"
    }
   ],
   "source": [
    "xgb_raw = XGBClassifier(**xgb_raw_params)\n",
    "\n",
    "gs_ss_cb = {\n",
    "    \"subsample\": [0.725, 0.75, 0.775],\n",
    "    \"colsample_bytree\": [0.325, 0.35, 0.375, 0.4]\n",
    "}\n",
    "\n",
    "gs_ss_cb = GridSearchCV(estimator=xgb_raw, param_grid=gs_ss_cb, cv=n_splits, scoring=\"roc_auc\", verbose=1)\n",
    "gs_ss_cb.fit(x_train_raw, y_train_raw)"
   ]
  },
  {
   "cell_type": "code",
   "execution_count": 189,
   "metadata": {},
   "outputs": [
    {
     "name": "stdout",
     "output_type": "stream",
     "text": [
      "{'subsample': 0.75, 'colsample_bytree': 0.35}\n",
      "0.7634658845502256\n"
     ]
    }
   ],
   "source": [
    "print gs_ss_cb.best_params_\n",
    "print gs_ss_cb.best_score_"
   ]
  },
  {
   "cell_type": "code",
   "execution_count": 193,
   "metadata": {},
   "outputs": [
    {
     "name": "stdout",
     "output_type": "stream",
     "text": [
      "{'subsample': 0.75, 'colsample_bytree': 0.35}\n",
      "0.7634658845502256\n"
     ]
    }
   ],
   "source": [
    "print gs_ss_cb.best_params_\n",
    "print gs_ss_cb.best_score_"
   ]
  },
  {
   "cell_type": "code",
   "execution_count": 197,
   "metadata": {},
   "outputs": [
    {
     "name": "stdout",
     "output_type": "stream",
     "text": [
      "Fitting 5 folds for each of 8 candidates, totalling 40 fits\n"
     ]
    },
    {
     "name": "stderr",
     "output_type": "stream",
     "text": [
      "[Parallel(n_jobs=1)]: Done  40 out of  40 | elapsed:  2.2min finished\n"
     ]
    },
    {
     "data": {
      "text/plain": [
       "GridSearchCV(cv=5, error_score='raise',\n",
       "       estimator=XGBClassifier(base_score=0.5, booster='gbtree', colsample_bylevel=1,\n",
       "       colsample_bytree=0.35, gamma=0, learning_rate=0.05,\n",
       "       max_delta_step=0, max_depth=9, min_child_weight=1, missing=None,\n",
       "       n_estimators=304, n_jobs=1, nthread=None,\n",
       "       objective='binary:logistic', random_state=0, reg_alpha=0,\n",
       "       reg_lambda=1, scale_pos_weight=1, seed=42, silent=True,\n",
       "       subsample=0.75),\n",
       "       fit_params=None, iid=True, n_jobs=1,\n",
       "       param_grid={'learning_rate': [0.02, 0.03, 0.04, 0.05, 0.06, 0.07, 0.08, 0.09]},\n",
       "       pre_dispatch='2*n_jobs', refit=True, return_train_score='warn',\n",
       "       scoring='roc_auc', verbose=1)"
      ]
     },
     "execution_count": 197,
     "metadata": {},
     "output_type": "execute_result"
    }
   ],
   "source": [
    "xgb_raw = XGBClassifier(**xgb_raw_params)\n",
    "\n",
    "gs_learning = {\n",
    "    \"learning_rate\": [0.02, 0.03, 0.04, 0.05, 0.06, 0.07, 0.08, 0.09]\n",
    "}\n",
    "\n",
    "gs_learning = GridSearchCV(estimator=xgb_raw, param_grid=gs_learning, cv=n_splits, scoring=\"roc_auc\", verbose=1)\n",
    "gs_learning.fit(x_train_raw, y_train_raw)"
   ]
  },
  {
   "cell_type": "code",
   "execution_count": 195,
   "metadata": {},
   "outputs": [
    {
     "name": "stdout",
     "output_type": "stream",
     "text": [
      "{'learning_rate': 0.05}\n",
      "0.7676482138163261\n"
     ]
    }
   ],
   "source": [
    "print gs_learning.best_params_\n",
    "print gs_learning.best_score_"
   ]
  },
  {
   "cell_type": "code",
   "execution_count": 198,
   "metadata": {},
   "outputs": [
    {
     "name": "stdout",
     "output_type": "stream",
     "text": [
      "{'learning_rate': 0.05}\n",
      "0.7676482138163261\n"
     ]
    }
   ],
   "source": [
    "print gs_learning.best_params_\n",
    "print gs_learning.best_score_"
   ]
  },
  {
   "cell_type": "markdown",
   "metadata": {},
   "source": [
    "##### Bagged Classifier Tuning (XGB Base Estimator)"
   ]
  },
  {
   "cell_type": "code",
   "execution_count": 69,
   "metadata": {
    "collapsed": true
   },
   "outputs": [],
   "source": [
    "def get_tuned_xgb_copy(data):\n",
    "    \"\"\" \n",
    "    Returns a fresh copy of our parameter tuned XGBClassifier, in case someone\n",
    "    wants to re-run this notebook so the optimized parameters are saved.\n",
    "    \"\"\"\n",
    "    return {\n",
    "        \"base\": XGBClassifier(learning_rate=0.1,\n",
    "                             n_estimators=345,\n",
    "                             max_depth=8,\n",
    "                             min_child_weight=2,\n",
    "                             gamma=0.2,\n",
    "                             subsample=0.6,\n",
    "                             colsample_bytree=0.5,\n",
    "                             objective=\"binary:logistic\",\n",
    "                             n_jobs=-1,\n",
    "                             random_state=seed),\n",
    "        \"reduced\": XGBClassifier(learning_rate=0.1,\n",
    "                                 n_estimators=223,\n",
    "                                 max_depth=7,\n",
    "                                 min_child_weight=1,\n",
    "                                 gamma=0,\n",
    "                                 subsample=0.8,\n",
    "                                 colsample_bytree=0.75,\n",
    "                                 objective=\"binary:logistic\",\n",
    "                                 n_jobs=-1,\n",
    "                                 random_state=seed),\n",
    "        \"raw\": XGBClassifier(learning_rate=0.05,\n",
    "                             n_estimators=308,\n",
    "                             max_depth=9,\n",
    "                             min_child_weight=1,\n",
    "                             gamma=0, \n",
    "                             subsample=0.75,\n",
    "                             colsample_bytree=0.35,\n",
    "                             objective=\"binary:logistic\",\n",
    "                             n_jobs=-1,\n",
    "                             random_state=seed)\n",
    "    }[data]"
   ]
  },
  {
   "cell_type": "code",
   "execution_count": 265,
   "metadata": {
    "collapsed": true
   },
   "outputs": [],
   "source": [
    "xgb_bag_params = {\n",
    "    \"n_estimators\": 40,\n",
    "    \"max_samples\": 0.8,\n",
    "    \"max_features\": 0.75\n",
    "}"
   ]
  },
  {
   "cell_type": "code",
   "execution_count": 262,
   "metadata": {
    "collapsed": true
   },
   "outputs": [],
   "source": [
    "bag_param_grid = {\n",
    "    \"max_samples\": [0.6, 0.7, 0.8,],\n",
    "    \"max_features\": [0.7, 0.75, 0.8],\n",
    "    \"n_estimators\": range(30, 70 + 1, 10)\n",
    "}\n",
    " \n",
    "xgb_bag = get_tuned_xgb_copy(\"base\")\n",
    "xgb_bagger = BaggingClassifier(base_estimator=xgb_bag, n_estimators=50, max_samples=0.7, max_features=0.75, \\\n",
    "                              bootstrap_features=True, n_jobs=-1)\n",
    "\n",
    "gs_xgb_bagger = GridSearchCV(estimator=xgb_bagger, param_grid=bag_param_grid, cv=n_splits, scoring=\"roc_auc\", verbose=2, n_jobs=-1)"
   ]
  },
  {
   "cell_type": "code",
   "execution_count": 263,
   "metadata": {},
   "outputs": [
    {
     "name": "stdout",
     "output_type": "stream",
     "text": [
      "Fitting 5 folds for each of 45 candidates, totalling 225 fits\n",
      "[CV] max_features=0.7, max_samples=0.6, n_estimators=30 ..............\n",
      "[CV]  max_features=0.7, max_samples=0.6, n_estimators=30, total= 1.3min\n",
      "[CV] max_features=0.7, max_samples=0.6, n_estimators=30 ..............\n"
     ]
    },
    {
     "name": "stderr",
     "output_type": "stream",
     "text": [
      "[Parallel(n_jobs=-1)]: Done   1 out of   1 | elapsed:  1.4min remaining:    0.0s\n"
     ]
    },
    {
     "name": "stdout",
     "output_type": "stream",
     "text": [
      "[CV]  max_features=0.7, max_samples=0.6, n_estimators=30, total= 1.2min\n",
      "[CV] max_features=0.7, max_samples=0.6, n_estimators=30 ..............\n",
      "[CV]  max_features=0.7, max_samples=0.6, n_estimators=30, total= 1.2min\n",
      "[CV] max_features=0.7, max_samples=0.6, n_estimators=30 ..............\n",
      "[CV]  max_features=0.7, max_samples=0.6, n_estimators=30, total= 1.3min\n",
      "[CV] max_features=0.7, max_samples=0.6, n_estimators=30 ..............\n",
      "[CV]  max_features=0.7, max_samples=0.6, n_estimators=30, total= 1.2min\n",
      "[CV] max_features=0.7, max_samples=0.6, n_estimators=40 ..............\n",
      "[CV]  max_features=0.7, max_samples=0.6, n_estimators=40, total= 1.6min\n",
      "[CV] max_features=0.7, max_samples=0.6, n_estimators=40 ..............\n",
      "[CV]  max_features=0.7, max_samples=0.6, n_estimators=40, total= 1.7min\n",
      "[CV] max_features=0.7, max_samples=0.6, n_estimators=40 ..............\n",
      "[CV]  max_features=0.7, max_samples=0.6, n_estimators=40, total= 1.6min\n",
      "[CV] max_features=0.7, max_samples=0.6, n_estimators=40 ..............\n",
      "[CV]  max_features=0.7, max_samples=0.6, n_estimators=40, total= 1.5min\n",
      "[CV] max_features=0.7, max_samples=0.6, n_estimators=40 ..............\n",
      "[CV]  max_features=0.7, max_samples=0.6, n_estimators=40, total= 1.6min\n",
      "[CV] max_features=0.7, max_samples=0.6, n_estimators=50 ..............\n",
      "[CV]  max_features=0.7, max_samples=0.6, n_estimators=50, total= 1.9min\n",
      "[CV] max_features=0.7, max_samples=0.6, n_estimators=50 ..............\n",
      "[CV]  max_features=0.7, max_samples=0.6, n_estimators=50, total= 1.9min\n",
      "[CV] max_features=0.7, max_samples=0.6, n_estimators=50 ..............\n",
      "[CV]  max_features=0.7, max_samples=0.6, n_estimators=50, total= 1.9min\n",
      "[CV] max_features=0.7, max_samples=0.6, n_estimators=50 ..............\n",
      "[CV]  max_features=0.7, max_samples=0.6, n_estimators=50, total= 2.0min\n",
      "[CV] max_features=0.7, max_samples=0.6, n_estimators=50 ..............\n",
      "[CV]  max_features=0.7, max_samples=0.6, n_estimators=50, total= 2.0min\n",
      "[CV] max_features=0.7, max_samples=0.6, n_estimators=60 ..............\n",
      "[CV]  max_features=0.7, max_samples=0.6, n_estimators=60, total= 2.4min\n",
      "[CV] max_features=0.7, max_samples=0.6, n_estimators=60 ..............\n",
      "[CV]  max_features=0.7, max_samples=0.6, n_estimators=60, total= 2.5min\n",
      "[CV] max_features=0.7, max_samples=0.6, n_estimators=60 ..............\n",
      "[CV]  max_features=0.7, max_samples=0.6, n_estimators=60, total= 2.5min\n",
      "[CV] max_features=0.7, max_samples=0.6, n_estimators=60 ..............\n",
      "[CV]  max_features=0.7, max_samples=0.6, n_estimators=60, total= 2.4min\n",
      "[CV] max_features=0.7, max_samples=0.6, n_estimators=60 ..............\n",
      "[CV]  max_features=0.7, max_samples=0.6, n_estimators=60, total= 2.4min\n",
      "[CV] max_features=0.7, max_samples=0.6, n_estimators=70 ..............\n",
      "[CV]  max_features=0.7, max_samples=0.6, n_estimators=70, total= 2.6min\n",
      "[CV] max_features=0.7, max_samples=0.6, n_estimators=70 ..............\n",
      "[CV]  max_features=0.7, max_samples=0.6, n_estimators=70, total= 2.7min\n",
      "[CV] max_features=0.7, max_samples=0.6, n_estimators=70 ..............\n",
      "[CV]  max_features=0.7, max_samples=0.6, n_estimators=70, total= 2.6min\n",
      "[CV] max_features=0.7, max_samples=0.6, n_estimators=70 ..............\n",
      "[CV]  max_features=0.7, max_samples=0.6, n_estimators=70, total= 2.7min\n",
      "[CV] max_features=0.7, max_samples=0.6, n_estimators=70 ..............\n",
      "[CV]  max_features=0.7, max_samples=0.6, n_estimators=70, total= 2.6min\n",
      "[CV] max_features=0.7, max_samples=0.7, n_estimators=30 ..............\n",
      "[CV]  max_features=0.7, max_samples=0.7, n_estimators=30, total= 1.1min\n",
      "[CV] max_features=0.7, max_samples=0.7, n_estimators=30 ..............\n",
      "[CV]  max_features=0.7, max_samples=0.7, n_estimators=30, total= 1.1min\n",
      "[CV] max_features=0.7, max_samples=0.7, n_estimators=30 ..............\n",
      "[CV]  max_features=0.7, max_samples=0.7, n_estimators=30, total= 1.2min\n",
      "[CV] max_features=0.7, max_samples=0.7, n_estimators=30 ..............\n",
      "[CV]  max_features=0.7, max_samples=0.7, n_estimators=30, total= 1.2min\n",
      "[CV] max_features=0.7, max_samples=0.7, n_estimators=30 ..............\n",
      "[CV]  max_features=0.7, max_samples=0.7, n_estimators=30, total= 1.1min\n",
      "[CV] max_features=0.7, max_samples=0.7, n_estimators=40 ..............\n",
      "[CV]  max_features=0.7, max_samples=0.7, n_estimators=40, total= 1.5min\n",
      "[CV] max_features=0.7, max_samples=0.7, n_estimators=40 ..............\n",
      "[CV]  max_features=0.7, max_samples=0.7, n_estimators=40, total= 1.6min\n",
      "[CV] max_features=0.7, max_samples=0.7, n_estimators=40 ..............\n",
      "[CV]  max_features=0.7, max_samples=0.7, n_estimators=40, total= 1.5min\n",
      "[CV] max_features=0.7, max_samples=0.7, n_estimators=40 ..............\n",
      "[CV]  max_features=0.7, max_samples=0.7, n_estimators=40, total= 1.5min\n",
      "[CV] max_features=0.7, max_samples=0.7, n_estimators=40 ..............\n",
      "[CV]  max_features=0.7, max_samples=0.7, n_estimators=40, total= 1.5min\n",
      "[CV] max_features=0.7, max_samples=0.7, n_estimators=50 ..............\n",
      "[CV]  max_features=0.7, max_samples=0.7, n_estimators=50, total= 1.9min\n",
      "[CV] max_features=0.7, max_samples=0.7, n_estimators=50 ..............\n",
      "[CV]  max_features=0.7, max_samples=0.7, n_estimators=50, total= 1.9min\n",
      "[CV] max_features=0.7, max_samples=0.7, n_estimators=50 ..............\n",
      "[CV]  max_features=0.7, max_samples=0.7, n_estimators=50, total= 1.9min\n",
      "[CV] max_features=0.7, max_samples=0.7, n_estimators=50 ..............\n",
      "[CV]  max_features=0.7, max_samples=0.7, n_estimators=50, total= 1.9min\n",
      "[CV] max_features=0.7, max_samples=0.7, n_estimators=50 ..............\n",
      "[CV]  max_features=0.7, max_samples=0.7, n_estimators=50, total= 1.9min\n",
      "[CV] max_features=0.7, max_samples=0.7, n_estimators=60 ..............\n",
      "[CV]  max_features=0.7, max_samples=0.7, n_estimators=60, total= 2.3min\n",
      "[CV] max_features=0.7, max_samples=0.7, n_estimators=60 ..............\n",
      "[CV]  max_features=0.7, max_samples=0.7, n_estimators=60, total= 2.3min\n",
      "[CV] max_features=0.7, max_samples=0.7, n_estimators=60 ..............\n",
      "[CV]  max_features=0.7, max_samples=0.7, n_estimators=60, total= 2.3min\n",
      "[CV] max_features=0.7, max_samples=0.7, n_estimators=60 ..............\n",
      "[CV]  max_features=0.7, max_samples=0.7, n_estimators=60, total= 2.3min\n",
      "[CV] max_features=0.7, max_samples=0.7, n_estimators=60 ..............\n",
      "[CV]  max_features=0.7, max_samples=0.7, n_estimators=60, total= 2.3min\n",
      "[CV] max_features=0.7, max_samples=0.7, n_estimators=70 ..............\n",
      "[CV]  max_features=0.7, max_samples=0.7, n_estimators=70, total= 2.7min\n",
      "[CV] max_features=0.7, max_samples=0.7, n_estimators=70 ..............\n",
      "[CV]  max_features=0.7, max_samples=0.7, n_estimators=70, total= 2.7min\n",
      "[CV] max_features=0.7, max_samples=0.7, n_estimators=70 ..............\n",
      "[CV]  max_features=0.7, max_samples=0.7, n_estimators=70, total= 2.6min\n",
      "[CV] max_features=0.7, max_samples=0.7, n_estimators=70 ..............\n",
      "[CV]  max_features=0.7, max_samples=0.7, n_estimators=70, total= 2.7min\n",
      "[CV] max_features=0.7, max_samples=0.7, n_estimators=70 ..............\n",
      "[CV]  max_features=0.7, max_samples=0.7, n_estimators=70, total= 2.7min\n",
      "[CV] max_features=0.7, max_samples=0.8, n_estimators=30 ..............\n",
      "[CV]  max_features=0.7, max_samples=0.8, n_estimators=30, total= 1.2min\n",
      "[CV] max_features=0.7, max_samples=0.8, n_estimators=30 ..............\n",
      "[CV]  max_features=0.7, max_samples=0.8, n_estimators=30, total= 1.2min\n",
      "[CV] max_features=0.7, max_samples=0.8, n_estimators=30 ..............\n",
      "[CV]  max_features=0.7, max_samples=0.8, n_estimators=30, total= 1.1min\n",
      "[CV] max_features=0.7, max_samples=0.8, n_estimators=30 ..............\n",
      "[CV]  max_features=0.7, max_samples=0.8, n_estimators=30, total= 1.2min\n",
      "[CV] max_features=0.7, max_samples=0.8, n_estimators=30 ..............\n",
      "[CV]  max_features=0.7, max_samples=0.8, n_estimators=30, total= 1.1min\n",
      "[CV] max_features=0.7, max_samples=0.8, n_estimators=40 ..............\n",
      "[CV]  max_features=0.7, max_samples=0.8, n_estimators=40, total= 1.5min\n",
      "[CV] max_features=0.7, max_samples=0.8, n_estimators=40 ..............\n",
      "[CV]  max_features=0.7, max_samples=0.8, n_estimators=40, total= 1.5min\n",
      "[CV] max_features=0.7, max_samples=0.8, n_estimators=40 ..............\n",
      "[CV]  max_features=0.7, max_samples=0.8, n_estimators=40, total= 1.5min\n",
      "[CV] max_features=0.7, max_samples=0.8, n_estimators=40 ..............\n",
      "[CV]  max_features=0.7, max_samples=0.8, n_estimators=40, total= 1.5min\n",
      "[CV] max_features=0.7, max_samples=0.8, n_estimators=40 ..............\n"
     ]
    },
    {
     "name": "stdout",
     "output_type": "stream",
     "text": [
      "[CV]  max_features=0.7, max_samples=0.8, n_estimators=40, total= 1.5min\n",
      "[CV] max_features=0.7, max_samples=0.8, n_estimators=50 ..............\n",
      "[CV]  max_features=0.7, max_samples=0.8, n_estimators=50, total= 1.9min\n",
      "[CV] max_features=0.7, max_samples=0.8, n_estimators=50 ..............\n",
      "[CV]  max_features=0.7, max_samples=0.8, n_estimators=50, total= 1.9min\n",
      "[CV] max_features=0.7, max_samples=0.8, n_estimators=50 ..............\n",
      "[CV]  max_features=0.7, max_samples=0.8, n_estimators=50, total= 1.9min\n",
      "[CV] max_features=0.7, max_samples=0.8, n_estimators=50 ..............\n",
      "[CV]  max_features=0.7, max_samples=0.8, n_estimators=50, total= 1.9min\n",
      "[CV] max_features=0.7, max_samples=0.8, n_estimators=50 ..............\n",
      "[CV]  max_features=0.7, max_samples=0.8, n_estimators=50, total= 1.9min\n",
      "[CV] max_features=0.7, max_samples=0.8, n_estimators=60 ..............\n",
      "[CV]  max_features=0.7, max_samples=0.8, n_estimators=60, total= 2.3min\n",
      "[CV] max_features=0.7, max_samples=0.8, n_estimators=60 ..............\n",
      "[CV]  max_features=0.7, max_samples=0.8, n_estimators=60, total= 2.3min\n",
      "[CV] max_features=0.7, max_samples=0.8, n_estimators=60 ..............\n",
      "[CV]  max_features=0.7, max_samples=0.8, n_estimators=60, total= 2.3min\n",
      "[CV] max_features=0.7, max_samples=0.8, n_estimators=60 ..............\n",
      "[CV]  max_features=0.7, max_samples=0.8, n_estimators=60, total= 2.3min\n",
      "[CV] max_features=0.7, max_samples=0.8, n_estimators=60 ..............\n",
      "[CV]  max_features=0.7, max_samples=0.8, n_estimators=60, total= 2.3min\n",
      "[CV] max_features=0.7, max_samples=0.8, n_estimators=70 ..............\n",
      "[CV]  max_features=0.7, max_samples=0.8, n_estimators=70, total= 2.7min\n",
      "[CV] max_features=0.7, max_samples=0.8, n_estimators=70 ..............\n",
      "[CV]  max_features=0.7, max_samples=0.8, n_estimators=70, total= 2.7min\n",
      "[CV] max_features=0.7, max_samples=0.8, n_estimators=70 ..............\n",
      "[CV]  max_features=0.7, max_samples=0.8, n_estimators=70, total= 2.7min\n",
      "[CV] max_features=0.7, max_samples=0.8, n_estimators=70 ..............\n",
      "[CV]  max_features=0.7, max_samples=0.8, n_estimators=70, total= 2.7min\n",
      "[CV] max_features=0.7, max_samples=0.8, n_estimators=70 ..............\n",
      "[CV]  max_features=0.7, max_samples=0.8, n_estimators=70, total= 2.7min\n",
      "[CV] max_features=0.75, max_samples=0.6, n_estimators=30 .............\n",
      "[CV]  max_features=0.75, max_samples=0.6, n_estimators=30, total= 1.3min\n",
      "[CV] max_features=0.75, max_samples=0.6, n_estimators=30 .............\n",
      "[CV]  max_features=0.75, max_samples=0.6, n_estimators=30, total= 1.2min\n",
      "[CV] max_features=0.75, max_samples=0.6, n_estimators=30 .............\n",
      "[CV]  max_features=0.75, max_samples=0.6, n_estimators=30, total= 1.3min\n",
      "[CV] max_features=0.75, max_samples=0.6, n_estimators=30 .............\n",
      "[CV]  max_features=0.75, max_samples=0.6, n_estimators=30, total= 1.3min\n",
      "[CV] max_features=0.75, max_samples=0.6, n_estimators=30 .............\n",
      "[CV]  max_features=0.75, max_samples=0.6, n_estimators=30, total= 1.3min\n",
      "[CV] max_features=0.75, max_samples=0.6, n_estimators=40 .............\n",
      "[CV]  max_features=0.75, max_samples=0.6, n_estimators=40, total= 1.7min\n",
      "[CV] max_features=0.75, max_samples=0.6, n_estimators=40 .............\n",
      "[CV]  max_features=0.75, max_samples=0.6, n_estimators=40, total= 1.7min\n",
      "[CV] max_features=0.75, max_samples=0.6, n_estimators=40 .............\n",
      "[CV]  max_features=0.75, max_samples=0.6, n_estimators=40, total= 1.7min\n",
      "[CV] max_features=0.75, max_samples=0.6, n_estimators=40 .............\n",
      "[CV]  max_features=0.75, max_samples=0.6, n_estimators=40, total= 1.7min\n",
      "[CV] max_features=0.75, max_samples=0.6, n_estimators=40 .............\n",
      "[CV]  max_features=0.75, max_samples=0.6, n_estimators=40, total= 1.7min\n",
      "[CV] max_features=0.75, max_samples=0.6, n_estimators=50 .............\n",
      "[CV]  max_features=0.75, max_samples=0.6, n_estimators=50, total= 2.1min\n",
      "[CV] max_features=0.75, max_samples=0.6, n_estimators=50 .............\n",
      "[CV]  max_features=0.75, max_samples=0.6, n_estimators=50, total= 2.1min\n",
      "[CV] max_features=0.75, max_samples=0.6, n_estimators=50 .............\n",
      "[CV]  max_features=0.75, max_samples=0.6, n_estimators=50, total= 2.1min\n",
      "[CV] max_features=0.75, max_samples=0.6, n_estimators=50 .............\n",
      "[CV]  max_features=0.75, max_samples=0.6, n_estimators=50, total= 2.1min\n",
      "[CV] max_features=0.75, max_samples=0.6, n_estimators=50 .............\n",
      "[CV]  max_features=0.75, max_samples=0.6, n_estimators=50, total= 2.1min\n",
      "[CV] max_features=0.75, max_samples=0.6, n_estimators=60 .............\n",
      "[CV]  max_features=0.75, max_samples=0.6, n_estimators=60, total= 2.5min\n",
      "[CV] max_features=0.75, max_samples=0.6, n_estimators=60 .............\n",
      "[CV]  max_features=0.75, max_samples=0.6, n_estimators=60, total= 2.5min\n",
      "[CV] max_features=0.75, max_samples=0.6, n_estimators=60 .............\n",
      "[CV]  max_features=0.75, max_samples=0.6, n_estimators=60, total= 2.5min\n",
      "[CV] max_features=0.75, max_samples=0.6, n_estimators=60 .............\n",
      "[CV]  max_features=0.75, max_samples=0.6, n_estimators=60, total= 2.5min\n",
      "[CV] max_features=0.75, max_samples=0.6, n_estimators=60 .............\n",
      "[CV]  max_features=0.75, max_samples=0.6, n_estimators=60, total= 2.5min\n",
      "[CV] max_features=0.75, max_samples=0.6, n_estimators=70 .............\n",
      "[CV]  max_features=0.75, max_samples=0.6, n_estimators=70, total= 2.9min\n",
      "[CV] max_features=0.75, max_samples=0.6, n_estimators=70 .............\n",
      "[CV]  max_features=0.75, max_samples=0.6, n_estimators=70, total= 2.9min\n",
      "[CV] max_features=0.75, max_samples=0.6, n_estimators=70 .............\n",
      "[CV]  max_features=0.75, max_samples=0.6, n_estimators=70, total= 2.9min\n",
      "[CV] max_features=0.75, max_samples=0.6, n_estimators=70 .............\n",
      "[CV]  max_features=0.75, max_samples=0.6, n_estimators=70, total= 2.9min\n",
      "[CV] max_features=0.75, max_samples=0.6, n_estimators=70 .............\n",
      "[CV]  max_features=0.75, max_samples=0.6, n_estimators=70, total= 2.9min\n",
      "[CV] max_features=0.75, max_samples=0.7, n_estimators=30 .............\n",
      "[CV]  max_features=0.75, max_samples=0.7, n_estimators=30, total= 1.3min\n",
      "[CV] max_features=0.75, max_samples=0.7, n_estimators=30 .............\n",
      "[CV]  max_features=0.75, max_samples=0.7, n_estimators=30, total= 1.2min\n",
      "[CV] max_features=0.75, max_samples=0.7, n_estimators=30 .............\n",
      "[CV]  max_features=0.75, max_samples=0.7, n_estimators=30, total= 1.2min\n",
      "[CV] max_features=0.75, max_samples=0.7, n_estimators=30 .............\n",
      "[CV]  max_features=0.75, max_samples=0.7, n_estimators=30, total= 1.3min\n",
      "[CV] max_features=0.75, max_samples=0.7, n_estimators=30 .............\n",
      "[CV]  max_features=0.75, max_samples=0.7, n_estimators=30, total= 1.2min\n",
      "[CV] max_features=0.75, max_samples=0.7, n_estimators=40 .............\n",
      "[CV]  max_features=0.75, max_samples=0.7, n_estimators=40, total= 1.7min\n",
      "[CV] max_features=0.75, max_samples=0.7, n_estimators=40 .............\n",
      "[CV]  max_features=0.75, max_samples=0.7, n_estimators=40, total= 1.7min\n",
      "[CV] max_features=0.75, max_samples=0.7, n_estimators=40 .............\n",
      "[CV]  max_features=0.75, max_samples=0.7, n_estimators=40, total= 1.7min\n",
      "[CV] max_features=0.75, max_samples=0.7, n_estimators=40 .............\n",
      "[CV]  max_features=0.75, max_samples=0.7, n_estimators=40, total= 1.7min\n",
      "[CV] max_features=0.75, max_samples=0.7, n_estimators=40 .............\n",
      "[CV]  max_features=0.75, max_samples=0.7, n_estimators=40, total= 1.7min\n",
      "[CV] max_features=0.75, max_samples=0.7, n_estimators=50 .............\n",
      "[CV]  max_features=0.75, max_samples=0.7, n_estimators=50, total= 2.1min\n",
      "[CV] max_features=0.75, max_samples=0.7, n_estimators=50 .............\n",
      "[CV]  max_features=0.75, max_samples=0.7, n_estimators=50, total= 2.1min\n",
      "[CV] max_features=0.75, max_samples=0.7, n_estimators=50 .............\n",
      "[CV]  max_features=0.75, max_samples=0.7, n_estimators=50, total= 2.1min\n",
      "[CV] max_features=0.75, max_samples=0.7, n_estimators=50 .............\n",
      "[CV]  max_features=0.75, max_samples=0.7, n_estimators=50, total= 2.1min\n",
      "[CV] max_features=0.75, max_samples=0.7, n_estimators=50 .............\n",
      "[CV]  max_features=0.75, max_samples=0.7, n_estimators=50, total= 2.1min\n",
      "[CV] max_features=0.75, max_samples=0.7, n_estimators=60 .............\n",
      "[CV]  max_features=0.75, max_samples=0.7, n_estimators=60, total= 2.5min\n",
      "[CV] max_features=0.75, max_samples=0.7, n_estimators=60 .............\n",
      "[CV]  max_features=0.75, max_samples=0.7, n_estimators=60, total= 2.5min\n",
      "[CV] max_features=0.75, max_samples=0.7, n_estimators=60 .............\n"
     ]
    },
    {
     "name": "stdout",
     "output_type": "stream",
     "text": [
      "[CV]  max_features=0.75, max_samples=0.7, n_estimators=60, total= 2.5min\n",
      "[CV] max_features=0.75, max_samples=0.7, n_estimators=60 .............\n",
      "[CV]  max_features=0.75, max_samples=0.7, n_estimators=60, total= 2.5min\n",
      "[CV] max_features=0.75, max_samples=0.7, n_estimators=60 .............\n",
      "[CV]  max_features=0.75, max_samples=0.7, n_estimators=60, total= 2.5min\n",
      "[CV] max_features=0.75, max_samples=0.7, n_estimators=70 .............\n",
      "[CV]  max_features=0.75, max_samples=0.7, n_estimators=70, total= 2.9min\n",
      "[CV] max_features=0.75, max_samples=0.7, n_estimators=70 .............\n",
      "[CV]  max_features=0.75, max_samples=0.7, n_estimators=70, total= 2.9min\n",
      "[CV] max_features=0.75, max_samples=0.7, n_estimators=70 .............\n",
      "[CV]  max_features=0.75, max_samples=0.7, n_estimators=70, total= 2.9min\n",
      "[CV] max_features=0.75, max_samples=0.7, n_estimators=70 .............\n",
      "[CV]  max_features=0.75, max_samples=0.7, n_estimators=70, total= 2.9min\n",
      "[CV] max_features=0.75, max_samples=0.7, n_estimators=70 .............\n",
      "[CV]  max_features=0.75, max_samples=0.7, n_estimators=70, total= 2.9min\n",
      "[CV] max_features=0.75, max_samples=0.8, n_estimators=30 .............\n",
      "[CV]  max_features=0.75, max_samples=0.8, n_estimators=30, total= 1.3min\n",
      "[CV] max_features=0.75, max_samples=0.8, n_estimators=30 .............\n",
      "[CV]  max_features=0.75, max_samples=0.8, n_estimators=30, total= 1.3min\n",
      "[CV] max_features=0.75, max_samples=0.8, n_estimators=30 .............\n",
      "[CV]  max_features=0.75, max_samples=0.8, n_estimators=30, total= 1.3min\n",
      "[CV] max_features=0.75, max_samples=0.8, n_estimators=30 .............\n",
      "[CV]  max_features=0.75, max_samples=0.8, n_estimators=30, total= 1.3min\n",
      "[CV] max_features=0.75, max_samples=0.8, n_estimators=30 .............\n",
      "[CV]  max_features=0.75, max_samples=0.8, n_estimators=30, total= 1.3min\n",
      "[CV] max_features=0.75, max_samples=0.8, n_estimators=40 .............\n",
      "[CV]  max_features=0.75, max_samples=0.8, n_estimators=40, total= 1.7min\n",
      "[CV] max_features=0.75, max_samples=0.8, n_estimators=40 .............\n",
      "[CV]  max_features=0.75, max_samples=0.8, n_estimators=40, total= 1.7min\n",
      "[CV] max_features=0.75, max_samples=0.8, n_estimators=40 .............\n",
      "[CV]  max_features=0.75, max_samples=0.8, n_estimators=40, total= 1.7min\n",
      "[CV] max_features=0.75, max_samples=0.8, n_estimators=40 .............\n",
      "[CV]  max_features=0.75, max_samples=0.8, n_estimators=40, total= 1.7min\n",
      "[CV] max_features=0.75, max_samples=0.8, n_estimators=40 .............\n",
      "[CV]  max_features=0.75, max_samples=0.8, n_estimators=40, total= 1.7min\n",
      "[CV] max_features=0.75, max_samples=0.8, n_estimators=50 .............\n",
      "[CV]  max_features=0.75, max_samples=0.8, n_estimators=50, total= 2.1min\n",
      "[CV] max_features=0.75, max_samples=0.8, n_estimators=50 .............\n",
      "[CV]  max_features=0.75, max_samples=0.8, n_estimators=50, total= 2.1min\n",
      "[CV] max_features=0.75, max_samples=0.8, n_estimators=50 .............\n",
      "[CV]  max_features=0.75, max_samples=0.8, n_estimators=50, total= 2.1min\n",
      "[CV] max_features=0.75, max_samples=0.8, n_estimators=50 .............\n",
      "[CV]  max_features=0.75, max_samples=0.8, n_estimators=50, total= 2.1min\n",
      "[CV] max_features=0.75, max_samples=0.8, n_estimators=50 .............\n",
      "[CV]  max_features=0.75, max_samples=0.8, n_estimators=50, total= 2.1min\n",
      "[CV] max_features=0.75, max_samples=0.8, n_estimators=60 .............\n",
      "[CV]  max_features=0.75, max_samples=0.8, n_estimators=60, total= 2.5min\n",
      "[CV] max_features=0.75, max_samples=0.8, n_estimators=60 .............\n",
      "[CV]  max_features=0.75, max_samples=0.8, n_estimators=60, total= 2.5min\n",
      "[CV] max_features=0.75, max_samples=0.8, n_estimators=60 .............\n",
      "[CV]  max_features=0.75, max_samples=0.8, n_estimators=60, total= 2.5min\n",
      "[CV] max_features=0.75, max_samples=0.8, n_estimators=60 .............\n",
      "[CV]  max_features=0.75, max_samples=0.8, n_estimators=60, total= 2.5min\n",
      "[CV] max_features=0.75, max_samples=0.8, n_estimators=60 .............\n",
      "[CV]  max_features=0.75, max_samples=0.8, n_estimators=60, total= 2.6min\n",
      "[CV] max_features=0.75, max_samples=0.8, n_estimators=70 .............\n",
      "[CV]  max_features=0.75, max_samples=0.8, n_estimators=70, total= 3.0min\n",
      "[CV] max_features=0.75, max_samples=0.8, n_estimators=70 .............\n",
      "[CV]  max_features=0.75, max_samples=0.8, n_estimators=70, total= 2.9min\n",
      "[CV] max_features=0.75, max_samples=0.8, n_estimators=70 .............\n",
      "[CV]  max_features=0.75, max_samples=0.8, n_estimators=70, total= 2.9min\n",
      "[CV] max_features=0.75, max_samples=0.8, n_estimators=70 .............\n",
      "[CV]  max_features=0.75, max_samples=0.8, n_estimators=70, total= 2.9min\n",
      "[CV] max_features=0.75, max_samples=0.8, n_estimators=70 .............\n",
      "[CV]  max_features=0.75, max_samples=0.8, n_estimators=70, total= 3.0min\n",
      "[CV] max_features=0.8, max_samples=0.6, n_estimators=30 ..............\n",
      "[CV]  max_features=0.8, max_samples=0.6, n_estimators=30, total= 1.3min\n",
      "[CV] max_features=0.8, max_samples=0.6, n_estimators=30 ..............\n",
      "[CV]  max_features=0.8, max_samples=0.6, n_estimators=30, total= 1.2min\n",
      "[CV] max_features=0.8, max_samples=0.6, n_estimators=30 ..............\n",
      "[CV]  max_features=0.8, max_samples=0.6, n_estimators=30, total= 1.3min\n",
      "[CV] max_features=0.8, max_samples=0.6, n_estimators=30 ..............\n",
      "[CV]  max_features=0.8, max_samples=0.6, n_estimators=30, total= 1.3min\n",
      "[CV] max_features=0.8, max_samples=0.6, n_estimators=30 ..............\n",
      "[CV]  max_features=0.8, max_samples=0.6, n_estimators=30, total= 1.3min\n",
      "[CV] max_features=0.8, max_samples=0.6, n_estimators=40 ..............\n",
      "[CV]  max_features=0.8, max_samples=0.6, n_estimators=40, total= 1.7min\n",
      "[CV] max_features=0.8, max_samples=0.6, n_estimators=40 ..............\n",
      "[CV]  max_features=0.8, max_samples=0.6, n_estimators=40, total= 1.7min\n",
      "[CV] max_features=0.8, max_samples=0.6, n_estimators=40 ..............\n",
      "[CV]  max_features=0.8, max_samples=0.6, n_estimators=40, total= 1.7min\n",
      "[CV] max_features=0.8, max_samples=0.6, n_estimators=40 ..............\n",
      "[CV]  max_features=0.8, max_samples=0.6, n_estimators=40, total= 1.7min\n",
      "[CV] max_features=0.8, max_samples=0.6, n_estimators=40 ..............\n",
      "[CV]  max_features=0.8, max_samples=0.6, n_estimators=40, total= 1.7min\n",
      "[CV] max_features=0.8, max_samples=0.6, n_estimators=50 ..............\n",
      "[CV]  max_features=0.8, max_samples=0.6, n_estimators=50, total= 2.1min\n",
      "[CV] max_features=0.8, max_samples=0.6, n_estimators=50 ..............\n",
      "[CV]  max_features=0.8, max_samples=0.6, n_estimators=50, total= 2.1min\n",
      "[CV] max_features=0.8, max_samples=0.6, n_estimators=50 ..............\n",
      "[CV]  max_features=0.8, max_samples=0.6, n_estimators=50, total= 2.1min\n",
      "[CV] max_features=0.8, max_samples=0.6, n_estimators=50 ..............\n",
      "[CV]  max_features=0.8, max_samples=0.6, n_estimators=50, total= 2.1min\n",
      "[CV] max_features=0.8, max_samples=0.6, n_estimators=50 ..............\n",
      "[CV]  max_features=0.8, max_samples=0.6, n_estimators=50, total= 2.1min\n",
      "[CV] max_features=0.8, max_samples=0.6, n_estimators=60 ..............\n",
      "[CV]  max_features=0.8, max_samples=0.6, n_estimators=60, total= 2.5min\n",
      "[CV] max_features=0.8, max_samples=0.6, n_estimators=60 ..............\n",
      "[CV]  max_features=0.8, max_samples=0.6, n_estimators=60, total= 2.5min\n",
      "[CV] max_features=0.8, max_samples=0.6, n_estimators=60 ..............\n",
      "[CV]  max_features=0.8, max_samples=0.6, n_estimators=60, total= 2.5min\n",
      "[CV] max_features=0.8, max_samples=0.6, n_estimators=60 ..............\n",
      "[CV]  max_features=0.8, max_samples=0.6, n_estimators=60, total= 2.5min\n",
      "[CV] max_features=0.8, max_samples=0.6, n_estimators=60 ..............\n",
      "[CV]  max_features=0.8, max_samples=0.6, n_estimators=60, total= 2.5min\n",
      "[CV] max_features=0.8, max_samples=0.6, n_estimators=70 ..............\n",
      "[CV]  max_features=0.8, max_samples=0.6, n_estimators=70, total= 3.0min\n",
      "[CV] max_features=0.8, max_samples=0.6, n_estimators=70 ..............\n",
      "[CV]  max_features=0.8, max_samples=0.6, n_estimators=70, total= 2.9min\n",
      "[CV] max_features=0.8, max_samples=0.6, n_estimators=70 ..............\n",
      "[CV]  max_features=0.8, max_samples=0.6, n_estimators=70, total= 2.9min\n",
      "[CV] max_features=0.8, max_samples=0.6, n_estimators=70 ..............\n",
      "[CV]  max_features=0.8, max_samples=0.6, n_estimators=70, total= 2.9min\n",
      "[CV] max_features=0.8, max_samples=0.6, n_estimators=70 ..............\n",
      "[CV]  max_features=0.8, max_samples=0.6, n_estimators=70, total= 2.9min\n",
      "[CV] max_features=0.8, max_samples=0.7, n_estimators=30 ..............\n"
     ]
    },
    {
     "name": "stdout",
     "output_type": "stream",
     "text": [
      "[CV]  max_features=0.8, max_samples=0.7, n_estimators=30, total= 1.3min\n",
      "[CV] max_features=0.8, max_samples=0.7, n_estimators=30 ..............\n",
      "[CV]  max_features=0.8, max_samples=0.7, n_estimators=30, total= 1.3min\n",
      "[CV] max_features=0.8, max_samples=0.7, n_estimators=30 ..............\n",
      "[CV]  max_features=0.8, max_samples=0.7, n_estimators=30, total= 1.3min\n",
      "[CV] max_features=0.8, max_samples=0.7, n_estimators=30 ..............\n",
      "[CV]  max_features=0.8, max_samples=0.7, n_estimators=30, total= 1.3min\n",
      "[CV] max_features=0.8, max_samples=0.7, n_estimators=30 ..............\n",
      "[CV]  max_features=0.8, max_samples=0.7, n_estimators=30, total= 1.3min\n",
      "[CV] max_features=0.8, max_samples=0.7, n_estimators=40 ..............\n",
      "[CV]  max_features=0.8, max_samples=0.7, n_estimators=40, total= 1.7min\n",
      "[CV] max_features=0.8, max_samples=0.7, n_estimators=40 ..............\n",
      "[CV]  max_features=0.8, max_samples=0.7, n_estimators=40, total= 1.7min\n",
      "[CV] max_features=0.8, max_samples=0.7, n_estimators=40 ..............\n",
      "[CV]  max_features=0.8, max_samples=0.7, n_estimators=40, total= 1.7min\n",
      "[CV] max_features=0.8, max_samples=0.7, n_estimators=40 ..............\n",
      "[CV]  max_features=0.8, max_samples=0.7, n_estimators=40, total= 1.7min\n",
      "[CV] max_features=0.8, max_samples=0.7, n_estimators=40 ..............\n",
      "[CV]  max_features=0.8, max_samples=0.7, n_estimators=40, total= 1.7min\n",
      "[CV] max_features=0.8, max_samples=0.7, n_estimators=50 ..............\n",
      "[CV]  max_features=0.8, max_samples=0.7, n_estimators=50, total= 2.1min\n",
      "[CV] max_features=0.8, max_samples=0.7, n_estimators=50 ..............\n",
      "[CV]  max_features=0.8, max_samples=0.7, n_estimators=50, total= 2.1min\n",
      "[CV] max_features=0.8, max_samples=0.7, n_estimators=50 ..............\n",
      "[CV]  max_features=0.8, max_samples=0.7, n_estimators=50, total= 2.1min\n",
      "[CV] max_features=0.8, max_samples=0.7, n_estimators=50 ..............\n",
      "[CV]  max_features=0.8, max_samples=0.7, n_estimators=50, total= 2.1min\n",
      "[CV] max_features=0.8, max_samples=0.7, n_estimators=50 ..............\n",
      "[CV]  max_features=0.8, max_samples=0.7, n_estimators=50, total= 2.1min\n",
      "[CV] max_features=0.8, max_samples=0.7, n_estimators=60 ..............\n",
      "[CV]  max_features=0.8, max_samples=0.7, n_estimators=60, total= 2.5min\n",
      "[CV] max_features=0.8, max_samples=0.7, n_estimators=60 ..............\n",
      "[CV]  max_features=0.8, max_samples=0.7, n_estimators=60, total= 2.5min\n",
      "[CV] max_features=0.8, max_samples=0.7, n_estimators=60 ..............\n",
      "[CV]  max_features=0.8, max_samples=0.7, n_estimators=60, total= 2.5min\n",
      "[CV] max_features=0.8, max_samples=0.7, n_estimators=60 ..............\n",
      "[CV]  max_features=0.8, max_samples=0.7, n_estimators=60, total= 2.5min\n",
      "[CV] max_features=0.8, max_samples=0.7, n_estimators=60 ..............\n",
      "[CV]  max_features=0.8, max_samples=0.7, n_estimators=60, total= 2.5min\n",
      "[CV] max_features=0.8, max_samples=0.7, n_estimators=70 ..............\n",
      "[CV]  max_features=0.8, max_samples=0.7, n_estimators=70, total= 2.9min\n",
      "[CV] max_features=0.8, max_samples=0.7, n_estimators=70 ..............\n",
      "[CV]  max_features=0.8, max_samples=0.7, n_estimators=70, total= 2.9min\n",
      "[CV] max_features=0.8, max_samples=0.7, n_estimators=70 ..............\n",
      "[CV]  max_features=0.8, max_samples=0.7, n_estimators=70, total= 2.9min\n",
      "[CV] max_features=0.8, max_samples=0.7, n_estimators=70 ..............\n",
      "[CV]  max_features=0.8, max_samples=0.7, n_estimators=70, total= 3.0min\n",
      "[CV] max_features=0.8, max_samples=0.7, n_estimators=70 ..............\n",
      "[CV]  max_features=0.8, max_samples=0.7, n_estimators=70, total= 2.9min\n",
      "[CV] max_features=0.8, max_samples=0.8, n_estimators=30 ..............\n",
      "[CV]  max_features=0.8, max_samples=0.8, n_estimators=30, total= 1.3min\n",
      "[CV] max_features=0.8, max_samples=0.8, n_estimators=30 ..............\n",
      "[CV]  max_features=0.8, max_samples=0.8, n_estimators=30, total= 1.3min\n",
      "[CV] max_features=0.8, max_samples=0.8, n_estimators=30 ..............\n",
      "[CV]  max_features=0.8, max_samples=0.8, n_estimators=30, total= 1.3min\n",
      "[CV] max_features=0.8, max_samples=0.8, n_estimators=30 ..............\n",
      "[CV]  max_features=0.8, max_samples=0.8, n_estimators=30, total= 1.3min\n",
      "[CV] max_features=0.8, max_samples=0.8, n_estimators=30 ..............\n",
      "[CV]  max_features=0.8, max_samples=0.8, n_estimators=30, total= 1.3min\n",
      "[CV] max_features=0.8, max_samples=0.8, n_estimators=40 ..............\n",
      "[CV]  max_features=0.8, max_samples=0.8, n_estimators=40, total= 1.7min\n",
      "[CV] max_features=0.8, max_samples=0.8, n_estimators=40 ..............\n",
      "[CV]  max_features=0.8, max_samples=0.8, n_estimators=40, total= 1.7min\n",
      "[CV] max_features=0.8, max_samples=0.8, n_estimators=40 ..............\n",
      "[CV]  max_features=0.8, max_samples=0.8, n_estimators=40, total= 1.7min\n",
      "[CV] max_features=0.8, max_samples=0.8, n_estimators=40 ..............\n",
      "[CV]  max_features=0.8, max_samples=0.8, n_estimators=40, total= 1.7min\n",
      "[CV] max_features=0.8, max_samples=0.8, n_estimators=40 ..............\n",
      "[CV]  max_features=0.8, max_samples=0.8, n_estimators=40, total= 1.7min\n",
      "[CV] max_features=0.8, max_samples=0.8, n_estimators=50 ..............\n",
      "[CV]  max_features=0.8, max_samples=0.8, n_estimators=50, total= 2.1min\n",
      "[CV] max_features=0.8, max_samples=0.8, n_estimators=50 ..............\n",
      "[CV]  max_features=0.8, max_samples=0.8, n_estimators=50, total= 2.1min\n",
      "[CV] max_features=0.8, max_samples=0.8, n_estimators=50 ..............\n",
      "[CV]  max_features=0.8, max_samples=0.8, n_estimators=50, total= 2.1min\n",
      "[CV] max_features=0.8, max_samples=0.8, n_estimators=50 ..............\n",
      "[CV]  max_features=0.8, max_samples=0.8, n_estimators=50, total= 2.1min\n",
      "[CV] max_features=0.8, max_samples=0.8, n_estimators=50 ..............\n",
      "[CV]  max_features=0.8, max_samples=0.8, n_estimators=50, total= 2.1min\n",
      "[CV] max_features=0.8, max_samples=0.8, n_estimators=60 ..............\n",
      "[CV]  max_features=0.8, max_samples=0.8, n_estimators=60, total= 2.5min\n",
      "[CV] max_features=0.8, max_samples=0.8, n_estimators=60 ..............\n",
      "[CV]  max_features=0.8, max_samples=0.8, n_estimators=60, total= 2.5min\n",
      "[CV] max_features=0.8, max_samples=0.8, n_estimators=60 ..............\n",
      "[CV]  max_features=0.8, max_samples=0.8, n_estimators=60, total= 2.5min\n",
      "[CV] max_features=0.8, max_samples=0.8, n_estimators=60 ..............\n",
      "[CV]  max_features=0.8, max_samples=0.8, n_estimators=60, total= 2.5min\n",
      "[CV] max_features=0.8, max_samples=0.8, n_estimators=60 ..............\n",
      "[CV]  max_features=0.8, max_samples=0.8, n_estimators=60, total= 2.5min\n",
      "[CV] max_features=0.8, max_samples=0.8, n_estimators=70 ..............\n",
      "[CV]  max_features=0.8, max_samples=0.8, n_estimators=70, total= 2.9min\n",
      "[CV] max_features=0.8, max_samples=0.8, n_estimators=70 ..............\n",
      "[CV]  max_features=0.8, max_samples=0.8, n_estimators=70, total= 2.9min\n",
      "[CV] max_features=0.8, max_samples=0.8, n_estimators=70 ..............\n",
      "[CV]  max_features=0.8, max_samples=0.8, n_estimators=70, total= 3.0min\n",
      "[CV] max_features=0.8, max_samples=0.8, n_estimators=70 ..............\n",
      "[CV]  max_features=0.8, max_samples=0.8, n_estimators=70, total= 2.9min\n",
      "[CV] max_features=0.8, max_samples=0.8, n_estimators=70 ..............\n",
      "[CV]  max_features=0.8, max_samples=0.8, n_estimators=70, total= 2.9min\n"
     ]
    },
    {
     "name": "stderr",
     "output_type": "stream",
     "text": [
      "[Parallel(n_jobs=-1)]: Done 225 out of 225 | elapsed: 509.4min finished\n"
     ]
    },
    {
     "data": {
      "text/plain": [
       "GridSearchCV(cv=5, error_score='raise',\n",
       "       estimator=BaggingClassifier(base_estimator=XGBClassifier(base_score=0.5, booster='gbtree', colsample_bylevel=1,\n",
       "       colsample_bytree=0.5, gamma=0.2, learning_rate=0.1,\n",
       "       max_delta_step=0, max_depth=8, min_child_weight=2, missing=None,\n",
       "       n_estimators=345, n_jobs=-1, nthread=None,\n",
       "       ..._estimators=50, n_jobs=-1, oob_score=False,\n",
       "         random_state=None, verbose=0, warm_start=False),\n",
       "       fit_params=None, iid=True, n_jobs=-1,\n",
       "       param_grid={'max_features': [0.7, 0.75, 0.8], 'max_samples': [0.6, 0.7, 0.8], 'n_estimators': [30, 40, 50, 60, 70]},\n",
       "       pre_dispatch='2*n_jobs', refit=True, return_train_score='warn',\n",
       "       scoring='roc_auc', verbose=2)"
      ]
     },
     "execution_count": 263,
     "metadata": {},
     "output_type": "execute_result"
    }
   ],
   "source": [
    "gs_xgb_bagger.fit(x_train_base, y_train_base)"
   ]
  },
  {
   "cell_type": "code",
   "execution_count": 264,
   "metadata": {},
   "outputs": [
    {
     "name": "stdout",
     "output_type": "stream",
     "text": [
      "{'max_features': 0.75, 'max_samples': 0.8, 'n_estimators': 40}\n",
      "0.772503097893139\n"
     ]
    }
   ],
   "source": [
    "print gs_xgb_bagger.best_params_\n",
    "print gs_xgb_bagger.best_score_"
   ]
  },
  {
   "cell_type": "markdown",
   "metadata": {},
   "source": [
    "### XGB Modeling\n",
    "\n",
    "With our tuned parameters, we'll now actually create, fit, train, and store predictions for the 3 XGBClassifier model variations described above."
   ]
  },
  {
   "cell_type": "markdown",
   "metadata": {},
   "source": [
    "###### Raw"
   ]
  },
  {
   "cell_type": "code",
   "execution_count": 214,
   "metadata": {},
   "outputs": [
    {
     "name": "stdout",
     "output_type": "stream",
     "text": [
      "CPU times: user 2.68 s, sys: 3.77 ms, total: 2.68 s\n",
      "Wall time: 3.21 s\n",
      "CPU times: user 2.68 s, sys: 7.58 ms, total: 2.69 s\n",
      "Wall time: 3.22 s\n",
      "CPU times: user 2.72 s, sys: 11.7 ms, total: 2.73 s\n",
      "Wall time: 2.88 s\n",
      "CPU times: user 2.99 s, sys: 11.8 ms, total: 3 s\n",
      "Wall time: 3.16 s\n",
      "CPU times: user 2.92 s, sys: 7.83 ms, total: 2.93 s\n",
      "Wall time: 3.06 s\n"
     ]
    }
   ],
   "source": [
    "xgb_raw = get_tuned_xgb_copy(\"raw\")\n",
    "xgb_raw = train_and_save_base_learner_preds(xgb_raw, folds, x_train_raw, y_train_raw, test_raw, \"xgboost_raw\")"
   ]
  },
  {
   "cell_type": "code",
   "execution_count": 215,
   "metadata": {},
   "outputs": [
    {
     "name": "stdout",
     "output_type": "stream",
     "text": [
      "Cross validation score: 0.7679407487061665 +/- 0.0036097387764845133\n",
      "Raw scores: [0.76847903 0.76623869 0.76193105 0.7712841  0.77177087]\n"
     ]
    }
   ],
   "source": [
    "# There seems to be a parallelization issue w/ XGBClassifier when trying to obtain a CV score, thus we use only 1 core\n",
    "xgb_raw_cv = get_cross_val_score(xgb_raw, x_train_raw, y_train_raw, n_splits, run_parallel=False)"
   ]
  },
  {
   "cell_type": "markdown",
   "metadata": {},
   "source": [
    "###### Base"
   ]
  },
  {
   "cell_type": "code",
   "execution_count": 11,
   "metadata": {},
   "outputs": [
    {
     "name": "stdout",
     "output_type": "stream",
     "text": [
      "CPU times: user 6.27 s, sys: 1.46 s, total: 7.73 s\n",
      "Wall time: 1.94 s\n",
      "CPU times: user 5.98 s, sys: 1.41 s, total: 7.39 s\n",
      "Wall time: 1.87 s\n",
      "CPU times: user 6.12 s, sys: 1.51 s, total: 7.63 s\n",
      "Wall time: 1.98 s\n",
      "CPU times: user 6.13 s, sys: 1.55 s, total: 7.69 s\n",
      "Wall time: 2.05 s\n",
      "CPU times: user 6.08 s, sys: 1.49 s, total: 7.57 s\n",
      "Wall time: 1.94 s\n"
     ]
    }
   ],
   "source": [
    "xgb_base = get_tuned_xgb_copy(\"base\")\n",
    "xgb_base = train_and_save_base_learner_preds(xgb_base, folds, x_train_base, y_train_base, test_base, \"xgboost_base\")"
   ]
  },
  {
   "cell_type": "code",
   "execution_count": 12,
   "metadata": {},
   "outputs": [
    {
     "name": "stdout",
     "output_type": "stream",
     "text": [
      "Cross validation score: 0.758965265001 +/- 0.0044137786577\n",
      "Raw scores: [ 0.76202306  0.75019668  0.76073913  0.76056439  0.76130306]\n"
     ]
    }
   ],
   "source": [
    "xgb_base_cv = get_cross_val_score(xgb_base, x_train_base, y_train_base, n_splits, run_parallel=False)"
   ]
  },
  {
   "cell_type": "markdown",
   "metadata": {},
   "source": [
    "###### Polynomial"
   ]
  },
  {
   "cell_type": "code",
   "execution_count": 26,
   "metadata": {},
   "outputs": [
    {
     "name": "stdout",
     "output_type": "stream",
     "text": [
      "CPU times: user 8.09 s, sys: 1.56 s, total: 9.65 s\n",
      "Wall time: 2.27 s\n",
      "CPU times: user 7.81 s, sys: 1.47 s, total: 9.28 s\n",
      "Wall time: 2.2 s\n",
      "CPU times: user 8.01 s, sys: 1.47 s, total: 9.47 s\n",
      "Wall time: 2.16 s\n",
      "CPU times: user 8.02 s, sys: 1.48 s, total: 9.5 s\n",
      "Wall time: 2.18 s\n",
      "CPU times: user 8.09 s, sys: 1.51 s, total: 9.59 s\n",
      "Wall time: 2.19 s\n"
     ]
    }
   ],
   "source": [
    "xgb_poly = get_tuned_xgb_copy(\"poly\")\n",
    "xgb_poly = train_and_save_base_learner_preds(xgb_poly, folds, x_train_poly, y_train_poly, test_poly, \"xgboost_poly\")"
   ]
  },
  {
   "cell_type": "code",
   "execution_count": 27,
   "metadata": {},
   "outputs": [
    {
     "name": "stdout",
     "output_type": "stream",
     "text": [
      "Cross validation score: 0.745601533629 +/- 0.00395136757867\n",
      "Raw scores: [ 0.74112726  0.7418853   0.74615411  0.74670364  0.75213736]\n"
     ]
    }
   ],
   "source": [
    "xgb_poly_cv = get_cross_val_score(xgb_poly, x_train_poly, y_train_poly, n_splits, run_parallel=False)"
   ]
  },
  {
   "cell_type": "markdown",
   "metadata": {},
   "source": [
    "###### Bagged (Using Base Fitted XGB)"
   ]
  },
  {
   "cell_type": "code",
   "execution_count": 266,
   "metadata": {},
   "outputs": [
    {
     "name": "stdout",
     "output_type": "stream",
     "text": [
      "CPU times: user 1min 40s, sys: 237 ms, total: 1min 40s\n",
      "Wall time: 1min 44s\n",
      "CPU times: user 1min 38s, sys: 170 ms, total: 1min 38s\n",
      "Wall time: 1min 41s\n",
      "CPU times: user 1min 35s, sys: 236 ms, total: 1min 35s\n",
      "Wall time: 1min 38s\n",
      "CPU times: user 1min 36s, sys: 260 ms, total: 1min 36s\n",
      "Wall time: 1min 39s\n",
      "CPU times: user 1min 35s, sys: 229 ms, total: 1min 36s\n",
      "Wall time: 1min 40s\n"
     ]
    }
   ],
   "source": [
    "# Bagged classifier\n",
    "xgb_bag = BaggingClassifier(base_estimator=get_tuned_xgb_copy(\"base\"), **xgb_bag_params)\n",
    "xgb_bag = train_and_save_base_learner_preds(xgb_bag, folds, x_train_base, y_train_base, test_base, \"xgboost_bag\")"
   ]
  },
  {
   "cell_type": "code",
   "execution_count": 267,
   "metadata": {},
   "outputs": [
    {
     "name": "stdout",
     "output_type": "stream",
     "text": [
      "Cross validation score: 0.7680347140060597 +/- 0.006487042101997774\n",
      "Raw scores: [0.7719898  0.76970894 0.75715998 0.76518267 0.77613217]\n"
     ]
    }
   ],
   "source": [
    "xgb_bag_cv = get_cross_val_score(xgb_bag, x_train_base, y_train_base, n_splits, run_parallel=False)"
   ]
  },
  {
   "cell_type": "markdown",
   "metadata": {},
   "source": [
    "###### Reduced"
   ]
  },
  {
   "cell_type": "code",
   "execution_count": 162,
   "metadata": {},
   "outputs": [
    {
     "name": "stdout",
     "output_type": "stream",
     "text": [
      "CPU times: user 1.65 s, sys: 3.81 ms, total: 1.65 s\n",
      "Wall time: 1.91 s\n",
      "CPU times: user 1.61 s, sys: 3.86 ms, total: 1.61 s\n",
      "Wall time: 1.71 s\n",
      "CPU times: user 1.63 s, sys: 0 ns, total: 1.63 s\n",
      "Wall time: 1.89 s\n",
      "CPU times: user 1.63 s, sys: 15.6 ms, total: 1.64 s\n",
      "Wall time: 1.9 s\n",
      "CPU times: user 1.6 s, sys: 3.93 ms, total: 1.61 s\n",
      "Wall time: 1.7 s\n"
     ]
    }
   ],
   "source": [
    "xgb_reduced = get_tuned_xgb_copy(\"reduced\")\n",
    "xgb_reduced = train_and_save_base_learner_preds(xgb_reduced, folds, x_train_reduced, y_train_reduced, test_reduced, \"xgboost_reduced\")"
   ]
  },
  {
   "cell_type": "code",
   "execution_count": 163,
   "metadata": {},
   "outputs": [
    {
     "name": "stdout",
     "output_type": "stream",
     "text": [
      "Cross validation score: 0.7592580101765478 +/- 0.00403111282038657\n",
      "Raw scores: [0.75909812 0.76317025 0.75419874 0.75546917 0.76435377]\n"
     ]
    }
   ],
   "source": [
    "xgb_reduced_cv = get_cross_val_score(xgb_reduced, x_train_reduced, y_train_reduced, n_splits, run_parallel=False)"
   ]
  },
  {
   "cell_type": "markdown",
   "metadata": {},
   "source": [
    "### ExtraTreesClassifier"
   ]
  },
  {
   "cell_type": "code",
   "execution_count": 55,
   "metadata": {},
   "outputs": [
    {
     "data": {
      "text/plain": [
       "GridSearchCV(cv=5, error_score='raise',\n",
       "       estimator=ExtraTreesClassifier(bootstrap=False, class_weight=None, criterion='entropy',\n",
       "           max_depth=6, max_features='auto', max_leaf_nodes=None,\n",
       "           min_impurity_split=1e-07, min_samples_leaf=1,\n",
       "           min_samples_split=2, min_weight_fraction_leaf=0.0,\n",
       "           n_estimators=150, n_jobs=-1, oob_score=False, random_state=None,\n",
       "           verbose=0, warm_start=False),\n",
       "       fit_params={}, iid=True, n_jobs=1,\n",
       "       param_grid={'n_estimators': [150, 200, 250, 300, 350], 'max_depth': [6, 8, 10, 12]},\n",
       "       pre_dispatch='2*n_jobs', refit=True, return_train_score=True,\n",
       "       scoring='roc_auc', verbose=0)"
      ]
     },
     "execution_count": 55,
     "metadata": {},
     "output_type": "execute_result"
    }
   ],
   "source": [
    "et_param_grid = {\n",
    "    \"max_depth\": range(6, 12 + 1, 2),\n",
    "    \"n_estimators\": range(150, 350 + 1, 50)\n",
    "}\n",
    "\n",
    "et = ExtraTreesClassifier(max_depth=6, n_estimators=150, n_jobs=-1, criterion=\"entropy\")\n",
    "gs_et = GridSearchCV(estimator=et, param_grid=et_param_grid, cv=n_splits, scoring=\"roc_auc\")\n",
    "gs_et.fit(x_train_base, y_train_base)"
   ]
  },
  {
   "cell_type": "code",
   "execution_count": 56,
   "metadata": {},
   "outputs": [
    {
     "name": "stdout",
     "output_type": "stream",
     "text": [
      "{'n_estimators': 250, 'max_depth': 12}\n",
      "0.657812396697\n"
     ]
    }
   ],
   "source": [
    "print gs_et.best_params_\n",
    "print gs_et.best_score_"
   ]
  },
  {
   "cell_type": "code",
   "execution_count": 60,
   "metadata": {},
   "outputs": [
    {
     "data": {
      "text/plain": [
       "GridSearchCV(cv=5, error_score='raise',\n",
       "       estimator=ExtraTreesClassifier(bootstrap=False, class_weight=None, criterion='entropy',\n",
       "           max_depth=12, max_features='auto', max_leaf_nodes=None,\n",
       "           min_impurity_split=1e-07, min_samples_leaf=1,\n",
       "           min_samples_split=2, min_weight_fraction_leaf=0.0,\n",
       "           n_estimators=250, n_jobs=-1, oob_score=False, random_state=None,\n",
       "           verbose=0, warm_start=False),\n",
       "       fit_params={}, iid=True, n_jobs=1,\n",
       "       param_grid={'max_depth': [12, 14, 16, 18, 20]},\n",
       "       pre_dispatch='2*n_jobs', refit=True, return_train_score=True,\n",
       "       scoring='roc_auc', verbose=0)"
      ]
     },
     "execution_count": 60,
     "metadata": {},
     "output_type": "execute_result"
    }
   ],
   "source": [
    "# Step two\n",
    "et_param_grid_2 = {\n",
    "    \"max_depth\": range(12, 20 + 1, 2)\n",
    "}\n",
    "\n",
    "et_2 = ExtraTreesClassifier(max_depth=12, n_estimators=250, n_jobs=-1, criterion=\"entropy\")\n",
    "gs_et_2 = GridSearchCV(estimator=et_2, param_grid=et_param_grid_2, cv=n_splits, scoring=\"roc_auc\")\n",
    "gs_et_2.fit(x_train_base, y_train_base)"
   ]
  },
  {
   "cell_type": "code",
   "execution_count": 61,
   "metadata": {},
   "outputs": [
    {
     "name": "stdout",
     "output_type": "stream",
     "text": [
      "{'n_estimators': 250, 'max_depth': 12}\n",
      "0.657812396697\n"
     ]
    }
   ],
   "source": [
    "print gs_et.best_params_\n",
    "print gs_et.best_score_"
   ]
  },
  {
   "cell_type": "code",
   "execution_count": 16,
   "metadata": {},
   "outputs": [
    {
     "name": "stdout",
     "output_type": "stream",
     "text": [
      "Cross validation score: 0.658994376998 +/- 0.0162024899885\n",
      "Raw scores: [ 0.66693004  0.65553248  0.67156773  0.62885771  0.67208392]\n"
     ]
    },
    {
     "data": {
      "text/plain": [
       "array([ 0.66693004,  0.65553248,  0.67156773,  0.62885771,  0.67208392])"
      ]
     },
     "execution_count": 16,
     "metadata": {},
     "output_type": "execute_result"
    }
   ],
   "source": [
    "get_cross_val_score(ExtraTreesClassifier(max_depth=12, n_estimators=250, n_jobs=-1, criterion=\"entropy\"), x_train_base, y_train_base, n_splits)"
   ]
  },
  {
   "cell_type": "code",
   "execution_count": 79,
   "metadata": {},
   "outputs": [
    {
     "name": "stdout",
     "output_type": "stream",
     "text": [
      "CPU times: user 2.03 s, sys: 132 ms, total: 2.16 s\n",
      "Wall time: 925 ms\n",
      "CPU times: user 2.13 s, sys: 127 ms, total: 2.26 s\n",
      "Wall time: 948 ms\n",
      "CPU times: user 2.33 s, sys: 120 ms, total: 2.45 s\n",
      "Wall time: 1.08 s\n",
      "CPU times: user 2.18 s, sys: 121 ms, total: 2.31 s\n",
      "Wall time: 970 ms\n",
      "CPU times: user 2.1 s, sys: 110 ms, total: 2.21 s\n",
      "Wall time: 935 ms\n"
     ]
    }
   ],
   "source": [
    "et_base = ExtraTreesClassifier(max_depth=12, n_estimators=250, n_jobs=-1, criterion=\"entropy\")\n",
    "et_base = train_and_save_base_learner_preds(et_base, folds, x_train_base, y_train_base, test_base, \"extra_trees_base\")"
   ]
  },
  {
   "cell_type": "markdown",
   "metadata": {},
   "source": [
    "### AdaboostClassifier"
   ]
  },
  {
   "cell_type": "code",
   "execution_count": 230,
   "metadata": {
    "collapsed": true
   },
   "outputs": [],
   "source": [
    "ada_params = {\n",
    "    \"n_estimators\": 410,\n",
    "    \"learning_rate\": 1.7,\n",
    "}"
   ]
  },
  {
   "cell_type": "code",
   "execution_count": 227,
   "metadata": {},
   "outputs": [
    {
     "name": "stdout",
     "output_type": "stream",
     "text": [
      "Fitting 5 folds for each of 3 candidates, totalling 15 fits\n"
     ]
    },
    {
     "name": "stderr",
     "output_type": "stream",
     "text": [
      "[Parallel(n_jobs=1)]: Done  15 out of  15 | elapsed:  1.0min finished\n"
     ]
    },
    {
     "data": {
      "text/plain": [
       "GridSearchCV(cv=5, error_score='raise',\n",
       "       estimator=AdaBoostClassifier(algorithm='SAMME.R', base_estimator=None,\n",
       "          learning_rate=1.7, n_estimators=410, random_state=None),\n",
       "       fit_params=None, iid=True, n_jobs=1,\n",
       "       param_grid={'n_estimators': [409], 'learning_rate': [1.675, 1.7, 1.725]},\n",
       "       pre_dispatch='2*n_jobs', refit=True, return_train_score='warn',\n",
       "       scoring='roc_auc', verbose=1)"
      ]
     },
     "execution_count": 227,
     "metadata": {},
     "output_type": "execute_result"
    }
   ],
   "source": [
    "ada_param_grid = {\n",
    "    \"learning_rate\": [1.675, 1.7, 1.725],\n",
    "    \"n_estimators\": range(409, 410, 411)\n",
    "}\n",
    "\n",
    "ada = AdaBoostClassifier(**ada_params)\n",
    "gs_ada = GridSearchCV(estimator=ada, param_grid=ada_param_grid, cv=n_splits, scoring=\"roc_auc\", verbose=1)\n",
    "gs_ada.fit(x_train_base, y_train_base)"
   ]
  },
  {
   "cell_type": "code",
   "execution_count": 217,
   "metadata": {},
   "outputs": [
    {
     "name": "stdout",
     "output_type": "stream",
     "text": [
      "{'n_estimators': 400, 'learning_rate': 1.6}\n",
      "0.7048120649813508\n"
     ]
    }
   ],
   "source": [
    "print gs_ada.best_params_\n",
    "print gs_ada.best_score_"
   ]
  },
  {
   "cell_type": "code",
   "execution_count": 220,
   "metadata": {},
   "outputs": [
    {
     "name": "stdout",
     "output_type": "stream",
     "text": [
      "{'n_estimators': 413, 'learning_rate': 1.65}\n",
      "0.7064952811706677\n"
     ]
    }
   ],
   "source": [
    "print gs_ada.best_params_\n",
    "print gs_ada.best_score_"
   ]
  },
  {
   "cell_type": "code",
   "execution_count": 224,
   "metadata": {},
   "outputs": [
    {
     "name": "stdout",
     "output_type": "stream",
     "text": [
      "{'n_estimators': 410, 'learning_rate': 1.7}\n",
      "0.7101570612471971\n"
     ]
    }
   ],
   "source": [
    "print gs_ada.best_params_\n",
    "print gs_ada.best_score_"
   ]
  },
  {
   "cell_type": "code",
   "execution_count": 231,
   "metadata": {},
   "outputs": [
    {
     "name": "stdout",
     "output_type": "stream",
     "text": [
      "CPU times: user 3.5 s, sys: 16 ms, total: 3.51 s\n",
      "Wall time: 4.21 s\n",
      "CPU times: user 3.47 s, sys: 36 µs, total: 3.47 s\n",
      "Wall time: 4 s\n",
      "CPU times: user 3.51 s, sys: 4.02 ms, total: 3.52 s\n",
      "Wall time: 3.6 s\n",
      "CPU times: user 3.47 s, sys: 68 µs, total: 3.47 s\n",
      "Wall time: 3.51 s\n",
      "CPU times: user 3.49 s, sys: 15 µs, total: 3.49 s\n",
      "Wall time: 3.83 s\n"
     ]
    }
   ],
   "source": [
    "ada_tuned = AdaBoostClassifier(**ada_params)\n",
    "ada_tuned = train_and_save_base_learner_preds(ada_tuned, folds, x_train_base, y_train_base, test_base, \"adaboost_base\")"
   ]
  },
  {
   "cell_type": "code",
   "execution_count": 232,
   "metadata": {},
   "outputs": [
    {
     "name": "stdout",
     "output_type": "stream",
     "text": [
      "Cross validation score: 0.70863909472035 +/- 0.009432939045787084\n",
      "Raw scores: [0.72384353 0.70028701 0.69732999 0.70911501 0.71261994]\n"
     ]
    }
   ],
   "source": [
    "ada_tuned_cv = get_cross_val_score(ada_tuned, x_train_base, y_train_base, n_splits)"
   ]
  },
  {
   "cell_type": "markdown",
   "metadata": {},
   "source": [
    "### KNeighborsClassifier\n",
    "\n",
    "We'll train instances of KNeighbors with **n_neighbors** set to $2^n$ for **n = [1, 10]**."
   ]
  },
  {
   "cell_type": "code",
   "execution_count": 66,
   "metadata": {
    "scrolled": true
   },
   "outputs": [
    {
     "name": "stdout",
     "output_type": "stream",
     "text": [
      "'n_neighbors'=2:  Cross validation score: 0.5734347750430698 +/- 0.02150554781143965\n",
      "Raw scores: [0.56259454 0.59927742 0.59888489 0.54767778 0.55873925]\n",
      "'n_neighbors'=4:  Cross validation score: 0.5904991367209932 +/- 0.021707633361062555\n",
      "Raw scores: [0.61750827 0.59411804 0.60925007 0.56118483 0.57043447]\n",
      "'n_neighbors'=8:  Cross validation score: 0.6106239221540269 +/- 0.028374392432192527\n",
      "Raw scores: [0.65312922 0.60882293 0.62842129 0.5716876  0.59105856]\n",
      "'n_neighbors'=16:  Cross validation score: 0.6245492482128034 +/- 0.012956113845272987\n",
      "Raw scores: [0.62794604 0.6354268  0.63109468 0.59914151 0.62913721]\n",
      "'n_neighbors'=32:  Cross validation score: 0.6354634757976712 +/- 0.016732919044860677\n",
      "Raw scores: [0.64259775 0.63234569 0.64453252 0.60471873 0.65312269]\n",
      "'n_neighbors'=64:  Cross validation score: 0.6266970227584763 +/- 0.026045333714564176\n",
      "Raw scores: [0.64346299 0.59740765 0.64831594 0.59261885 0.65167967]\n",
      "'n_neighbors'=128:  Cross validation score: 0.6278942299909309 +/- 0.0251870821371429\n",
      "Raw scores: [0.64371286 0.59585022 0.63367943 0.60305662 0.66317202]\n",
      "'n_neighbors'=256:  Cross validation score: 0.6245031895595641 +/- 0.02145195699074404\n",
      "Raw scores: [0.64017423 0.6006044  0.62072528 0.60406875 0.65694328]\n",
      "'n_neighbors'=512:  Cross validation score: 0.6103723855103647 +/- 0.02768702718157424\n",
      "Raw scores: [0.63900088 0.5820131  0.61331291 0.57563732 0.64189772]\n",
      "'n_neighbors'=1024:  Cross validation score: 0.6015178207623336 +/- 0.022206987825907614\n",
      "Raw scores: [0.62095236 0.57190201 0.61168963 0.57799078 0.62505433]\n"
     ]
    }
   ],
   "source": [
    "knn_models = dict()\n",
    "\n",
    "for n in range(1, 10 + 1):\n",
    "    knn_i = KNeighborsClassifier(n_neighbors=2**n, n_jobs=-1)\n",
    "    knn_i = train_and_save_base_learner_preds(knn_i, \n",
    "                                              folds, \n",
    "                                              x_train_base, \n",
    "                                              y_train_base, \n",
    "                                              test_base, \n",
    "                                              \"knn_{}\".format(2**n), \n",
    "                                              timeit=False)\n",
    "    knn_models[\"knn_{}\".format(2**n)] = knn_i\n",
    "    print (\"'n_neighbors'={}: \".format(2**n)),\n",
    "    get_cross_val_score(knn_i, x_train_base, y_train_base, n_splits)"
   ]
  },
  {
   "cell_type": "markdown",
   "metadata": {
    "collapsed": true
   },
   "source": [
    "## Choosing optimal base learners\n",
    "\n",
    "We'll first see how each base learner performs by itself, then display the pearson correlation matrix against each base learner's predictions."
   ]
  },
  {
   "cell_type": "code",
   "execution_count": 70,
   "metadata": {
    "collapsed": true
   },
   "outputs": [],
   "source": [
    "# Process for parameters used for each base learner is documented in \"layer_1_models.ipynb\".\n",
    "rfc = RandomForestClassifier(criterion='entropy', max_depth=10, n_estimators=1000, n_jobs=-1)\n",
    "lr = LogisticRegression(C=100, tol=1e-05, solver=\"liblinear\")\n",
    "et = ExtraTreesClassifier(max_depth=12, n_estimators=250, n_jobs=-1, criterion=\"entropy\")\n",
    "ada_base = AdaBoostClassifier(n_estimators=410, learning_rate=1.7)\n",
    "xgb_raw = get_tuned_xgb_copy(\"raw\")\n",
    "xgb_base = get_tuned_xgb_copy(\"base\")\n",
    "xgb_reduced = get_tuned_xgb_copy(\"reduced\")"
   ]
  },
  {
   "cell_type": "code",
   "execution_count": 71,
   "metadata": {
    "collapsed": true
   },
   "outputs": [],
   "source": [
    "base_learners = {\n",
    "    \"rfc\": rfc,\n",
    "    \"lr\": lr,\n",
    "    \"et\": et,\n",
    "    \"ada\": ada_base,\n",
    "    \"xgb_raw\": xgb_raw,\n",
    "    \"xgb_base\": xgb_base,\n",
    "    \"xgb_reduced\": xgb_reduced\n",
    "}\n",
    "\n",
    "base_learners.update(knn_models)\n",
    "\n",
    "all_preds = pd.DataFrame(np.zeros((test_base.shape[0], len(base_learners))), columns=list(base_learners.keys()))\n",
    "\n",
    "for name, model in base_learners.items():\n",
    "    model.fit(x_train_base, y_train_base)\n",
    "    all_preds[name] = model.predict_proba(test_base)[:,1]"
   ]
  },
  {
   "cell_type": "code",
   "execution_count": 72,
   "metadata": {
    "scrolled": true
   },
   "outputs": [
    {
     "data": {
      "image/png": "[encoded data removed]",
      "text/plain": [
       "<matplotlib.figure.Figure at 0x7fa45414f110>"
      ]
     },
     "metadata": {},
     "output_type": "display_data"
    }
   ],
   "source": [
    "all_preds = all_preds.reindex_axis(sorted(all_preds.columns.values), axis=1)\n",
    "\n",
    "ax = corrmat(all_preds.corr())\n",
    "plt.show()"
   ]
  },
  {
   "cell_type": "markdown",
   "metadata": {},
   "source": [
    "Excluding the correlation values of different XGB / KNN instances, we can see that a majority of the base learners aren't highly correlated, so an ensemble including **all** of these base learners will likely outperform any of the base learner's lone predictions, through combining each base learner's respective predictive \n",
    "strengths."
   ]
  }
 ],
 "metadata": {
  "kernelspec": {
   "display_name": "Python 2",
   "language": "python",
   "name": "python2"
  },
  "language_info": {
   "codemirror_mode": {
    "name": "ipython",
    "version": 2
   },
   "file_extension": ".py",
   "mimetype": "text/x-python",
   "name": "python",
   "nbconvert_exporter": "python",
   "pygments_lexer": "ipython2",
   "version": "2.7.14"
  }
 },
 "nbformat": 4,
 "nbformat_minor": 2
}
